{
 "cells": [
  {
   "cell_type": "markdown",
   "metadata": {
    "ein.tags": "worksheet-0",
    "slideshow": {
     "slide_type": "-"
    }
   },
   "source": [
    "# Seasonal Regression\n",
    "\n",
    "The electricity demand series shows daily, weekly, and annual oscillations.  At a short time scale, I aim to capture the first two of these.\n",
    "\n",
    "The approaches I've seen suggest Fourier Series, linear regression, and Seasonal ARIMA.\n",
    "(I got quite stuck on how to detrend the series in a global fashion.)\n",
    "I will focus on building models on the last two weeks of data, with the goal of predicting electricity demand based on temperature, time of day, and day of week."
   ]
  },
  {
   "cell_type": "markdown",
   "metadata": {
    "ein.tags": "worksheet-0",
    "slideshow": {
     "slide_type": "-"
    }
   },
   "source": [
    "## Hyndman's Multiple Seasonal Exponential Smoothing\n",
    "\n",
    "This follows Rob Hyndman's approach towards multi-seasonal exponential smoothing.  (This generalizes the apparently well-known Holt-Winters smoothing).\n",
    "His analysis includes forecasts of electricity generation, based on utility data (from well over 10 years ago).\n",
    "\n",
    "I chose to follow this model since initial attempts at ARIMA rely on removing the seasonality, and I had hoped to just follow best practice with existing libraries.  Initial naive methods gave complete crap, and failed to remove the seasonal pattern, or even worse imposed one.  An initial attempt at Fourier filtering on over a year of data also left a \n",
    "\n",
    "Hyndman also seems to be a known author within the field of econometric time-series forecasting.  \n",
    "\n",
    "The original model for a variable $y_t$, with seasonal pattern with period $m$ is\n",
    "\\begin{align}\n",
    "  y_t &= l_{t-1}+b_{t-1} +s_{t-m} +\\epsilon_t\\\\\n",
    "  l_t &= l_{t-1} + \\alpha\\epsilon_t\\\\\n",
    "  b_t &= b_{t-1} + \\beta\\epsilon_t\\\\\n",
    "  s_{t} = s_{t-m} + \\gamma \\epsilon_t\n",
    "\\end{align}\n",
    "where $l_t$, b_t,s_t$ are the level, trend and seasonal patterns respectively.\n",
    "The noise is Gaussian and obeys\n",
    "$E[\\epsilon_t]=0, E[\\epsilon_t\\epsilon_s]=\\delta_{ts}\\sigma^2$, and $\\alpha,\\beta,\\gamma$ are constants between zero and one.  (He notes that $m+2$ estimates must be made for the initial values of the level, trend and seasonal pattern).\n",
    "\n",
    "Hyndman's model allows multiple seasons, and allows the sub-seasonal terms to be updated more quickly than once per large season.  In utility data, the short season is the daily oscillation, while the longer season comes from the weekly oscillation induced by the work week.  For hourly data, the daily cycle has length $m_1=24$, with the weekly cycle taking $m_2=168$.  The ratio between them is $k=m_2/m_1=7.$  The number of seasonal patterns is $r\\le k$.  \n",
    "\n",
    "(I'm going to change Hyndman's notation to use $\\mathbf{I}$ to denote indicator/step functions).\n",
    "\\begin{align}\n",
    "  y_t &= l_{t-1}+b_{t-1} +\\sum_{i=1}^r \\mathbf{I}_{t,i}s_{i,t-m_1} +\\epsilon_t\\\\\n",
    "  s_{i,t} = s_{i,t-m_1} + \\sum_{j=1}^r\\left(\\gamma_{ij}\\mathbf{I}_{t,j}\\right) \\epsilon_t  (i=1,2,\\ldots,r)\n",
    "  l_t &= l_{t-1} + b_{t-1}+\\alpha\\epsilon_t\\\\\n",
    "  b_t &= b_{t-1} + \\beta\\epsilon_t\\\\\n",
    "\\end{align}\n",
    "Here the indicator functions $\\mathbf{I}_{t,i}$ are unity if $t$ is in the seasonal pattern $i$, and zero otherwise.  For utility data, this will probably be weekday and holiday/weekend.  Here $\\gamma_{ij}$ denotes how much one seasonal pattern is updated based on another---Hyndman proposes a number of restrictions on these parameters.\n",
    "\n",
    "I will extend this to include an external variables for the deviation above a given temperature, so that $y_t\\rightarrow y_t+\\tau_p\\Theta(T_t-T_p)+\\tau_{n}\\Theta(T_n-T_t)$.\n",
    "\n",
    "He suggests using the first four weeks of data to estimate the parameters, by minimizing the squared error of the one-step ahead forecast.  Apparently maximum likelihood estimation was not recommended (10 years ago).\n",
    "\n",
    "So how to fit the parameters?  A really simple approach would be gradient descent?  Intuitively, the level is the average value, the bias is the average gradient.  The seasonality is the average seasonal pattern.  (This is the dumb STL decomposition used earlier?)"
   ]
  },
  {
   "cell_type": "code",
   "execution_count": 33,
   "metadata": {
    "autoscroll": false,
    "collapsed": false,
    "ein.tags": "worksheet-0",
    "slideshow": {
     "slide_type": "-"
    }
   },
   "outputs": [],
   "source": [
    "import pandas as pd\n",
    "import numpy as np\n",
    "import matplotlib.pyplot as plt\n",
    "\n",
    "from get_weather_data import convert_isd_to_df, convert_state_isd\n",
    "from EBA_util import remove_na, avg_extremes\n",
    "\n",
    "from numpy import pi,e"
   ]
  },
  {
   "cell_type": "code",
   "execution_count": 34,
   "metadata": {
    "autoscroll": false,
    "collapsed": false,
    "ein.tags": "worksheet-0",
    "slideshow": {
     "slide_type": "-"
    }
   },
   "outputs": [
    {
     "data": {
      "text/plain": [
       "2.718281828459045"
      ]
     },
     "execution_count": 34,
     "metadata": {},
     "output_type": "execute_result"
    }
   ],
   "source": []
  },
  {
   "cell_type": "code",
   "execution_count": 2,
   "metadata": {
    "autoscroll": false,
    "collapsed": false,
    "ein.tags": "worksheet-0",
    "slideshow": {
     "slide_type": "-"
    }
   },
   "outputs": [
    {
     "name": "stdout",
     "output_type": "stream",
     "text": [
      "done with Mahlon Sweet Field\n"
     ]
    },
    {
     "name": "stdout",
     "output_type": "stream",
     "text": [
      "done with Salem Municipal Airport/McNary Field\n"
     ]
    },
    {
     "name": "stdout",
     "output_type": "stream",
     "text": [
      "done with Portland International Airport\n"
     ]
    }
   ],
   "source": [
    "air_df = pd.read_csv('data/air_code_df.gz')\n",
    "\n",
    "#Just get the weather station data for cities in Oregon.\n",
    "df_weather=convert_state_isd(air_df,'OR')\n",
    "#Select temperature for Portland, OR\n",
    "msk1=np.array(df_weather['city']=='Portland')\n",
    "msk2=np.array(df_weather['state']=='OR')\n",
    "\n",
    "df_pdx_weath=df_weather.loc[msk1&msk2]\n",
    "\n",
    "#get electricity data for Portland General Electric\n",
    "df_eba=pd.read_csv('data/EBA_time.gz',index_col=0,parse_dates=True)\n",
    "msk=df_eba.columns.str.contains('Portland')\n",
    "df_pdx=df_eba.loc[:,msk]\n",
    "\n"
   ]
  },
  {
   "cell_type": "code",
   "execution_count": 3,
   "metadata": {
    "autoscroll": false,
    "collapsed": false,
    "ein.tags": "worksheet-0",
    "slideshow": {
     "slide_type": "-"
    }
   },
   "outputs": [],
   "source": [
    "dem=df_pdx.iloc[:,0]\n",
    "#Make a combined Portland Dataframe for demand vs weather.\n",
    "df_joint=pd.DataFrame(dem)\n",
    "df_joint=df_joint.join(df_pdx_weath)\n",
    "temp=df_joint['Temp']\n",
    "df_joint['TempShift']=150+abs(temp-150)\n",
    "df_joint=df_joint.rename(columns={df_joint.columns[0]:'Demand'})\n"
   ]
  },
  {
   "cell_type": "code",
   "execution_count": 4,
   "metadata": {
    "autoscroll": false,
    "collapsed": false,
    "ein.tags": "worksheet-0",
    "slideshow": {
     "slide_type": "-"
    }
   },
   "outputs": [
    {
     "name": "stdout",
     "output_type": "stream",
     "text": [
      "Number of extreme values 0. Number of zero values 148\n"
     ]
    },
    {
     "name": "stdout",
     "output_type": "stream",
     "text": [
      "Number of NA values 56\n"
     ]
    },
    {
     "name": "stdout",
     "output_type": "stream",
     "text": [
      "Number of extreme values 1. Number of zero values 3\n"
     ]
    },
    {
     "name": "stdout",
     "output_type": "stream",
     "text": [
      "Number of NA values 156\n"
     ]
    }
   ],
   "source": [
    "#clean up data, remove NA\n",
    "dem = remove_na(dem)\n",
    "dem = avg_extremes(dem)\n",
    "\n",
    "temp = avg_extremes(remove_na(temp))"
   ]
  },
  {
   "cell_type": "code",
   "execution_count": 5,
   "metadata": {
    "autoscroll": false,
    "collapsed": false,
    "ein.tags": "worksheet-0",
    "slideshow": {
     "slide_type": "-"
    }
   },
   "outputs": [],
   "source": [
    "def fit_init_params(y):\n",
    "    \"\"\"fit_init_params(y)\n",
    "    Fits initial parameters for Hyndman's multi-seasonal model to\n",
    "    hourly electricity data.\n",
    "    (My guess on how to do this, similar to naive STL method used in \n",
    "    statstools.timeseries)\n",
    "\n",
    "    Finds level, bias and seasonal patterns based on first 4 weeks of data.  \n",
    "    \"\"\"\n",
    "    m1 = 24\n",
    "    k = 7\n",
    "    ysub = y[0:4*24*7]\n",
    "    yval = ysub.values\n",
    "    #average value\n",
    "    l = np.mean(yval)\n",
    "    #average shift\n",
    "    b = np.mean(np.diff(yval))\n",
    "    #remove mean pattern, subtractin off level, and linear trend.    \n",
    "    ysub = ysub-l-b*np.arange(4*24*7)\n",
    "\n",
    "    #mean seasonal pattern.\n",
    "    #second seasonal pattern is for weekends, with days\n",
    "    #Saturday/Sunday have dayofweek equal to 5 and 6.\n",
    "    #make a mask to select out weekends.\n",
    "    s2 = ysub.index.dayofweek >=5\n",
    "    #select out weekends, and regular days. \n",
    "    y_end = ysub[s2]\n",
    "    y_week=ysub[~s2]\n",
    "    n1 = int(len(y_week)/24)\n",
    "    n2 = int(len(y_end)/24)\n",
    "    s = np.zeros((2,24))\n",
    "    print(n1,n2)\n",
    "    for n in range(n1):\n",
    "        s[0,:] = s[0,:]+y_week[n*24:(n+1)*24]/n1\n",
    "    for n in range(n2):\n",
    "        s[1,:] = s[1,:]+y_end[n*24:(n+1)*24]/n2\n",
    "\n",
    "    return l, b, s\n",
    "\n",
    "def predict_stl(l,b,s,timeIndex):\n",
    "    \"\"\"predict_stl(l,b,s,times)\n",
    "\n",
    "    \"\"\"\n",
    "    trend=l+b*np.arange(len(timeIndex))\n",
    "    #find weekend/weekedays.  \n",
    "    msk=timeIndex.dayofweek>=5\n",
    "    #\n",
    "    n1 = int(sum(~msk)/24)    \n",
    "    n2 = int(sum(msk)/24)\n",
    "    #Use fact that first sub-season is weekdays in first row.\n",
    "    #Use integer conversion of true/false to 0/1.\n",
    "    #Then use fact that seasonal patterns are 24 hours long.\n",
    "    pred=trend+s[msk.astype(int),timeIndex.hour.values]\n",
    "    return pred\n",
    "\n",
    "def update_params(param_vec,grad_vec,actual,predicted):\n",
    "    \"\"\"update_params\n",
    "    Change parameters based on gradients, and difference\n",
    "    between predicted and actual values.\n",
    "    \n",
    "    grad_vec - list of functions to evaluate at parameters\n",
    "\n",
    "    Work in Progress\n",
    "    \"\"\"\n",
    "    param_new=param_vec.copy()\n",
    "    nparam=len(param_vec)\n",
    "    for i in range(nparam):\n",
    "        param_new[i] += grad_vec[i](param_vec)*(actual-predicted)\n",
    "    return param_new\n"
   ]
  },
  {
   "cell_type": "markdown",
   "metadata": {
    "ein.tags": "worksheet-0",
    "slideshow": {
     "slide_type": "-"
    }
   },
   "source": [
    "Let's just try to build a linear model for the temperature on top of this.\n",
    "I'll assume that heating/cooling might have different coefficients, so the temperature component of the model at time $t$ is\n",
    "\\begin{equation}\n",
    "D_t =  a_0+ a_+[T_t-T_{+}]_{+} + a_-[T_{-}-T_t]_{+},\n",
    "\\end{equation}\n",
    "where $[f]_+=f$ if $f>0$, and is zero otherwise.  If we optimize the mean square\n",
    "error, then the components can be found by solving for the values that minimize the derivatives.\n",
    "If criteria is mean square error, then can solve directly for parameters\n",
    "$J = sum_t[\\hat{D}_t-D_t)^2$, where $\\hat{D}_t$ is the true value.\n",
    "We must solve $\\partial J/\\partial \\alpha = 0 \\rightarrow \\sum_t \\frac{\\partial D_t}{\\partial\\alpha}(\\hat{D}_t-D_t) $\n",
    "\n",
    "Those conditions are\n",
    "\\begin{align}\n",
    "    \\sum_t(\\hat{D}_t-D_t)=0  \\qquad (a_0)\\\\\n",
    "    \\sum_{t\\in T_\\pm}[T_t-T_\\pm]_\\pm(\\hat{D}_t-D_t)=0  \\qquad (a_\\pm)\\\\\n",
    "    \\sum_{t\\in T_\\pm}(\\pm a_{\\pm})(\\hat{D}_t-D_t)=0  \\qquad (T_\\pm)\\\\\n",
    "\\end{align}\n"
   ]
  },
  {
   "cell_type": "markdown",
   "metadata": {
    "ein.tags": "worksheet-0",
    "slideshow": {
     "slide_type": "-"
    }
   },
   "source": [
    "(First OOP class - absolutely ridiculous)  Will just use a pandas Dataframe - want a named set of numbers, with defined operations.  Already here.  "
   ]
  },
  {
   "cell_type": "code",
   "execution_count": 7,
   "metadata": {
    "autoscroll": false,
    "collapsed": false,
    "ein.tags": "worksheet-0",
    "slideshow": {
     "slide_type": "-"
    }
   },
   "outputs": [],
   "source": [
    "#Experimenting with OOP for making \"vector\" of parameters with named labels.\n",
    "#Feels daft - if there's a less stupid way, I'll try to fix this.\n",
    "#Initial attempts at getting smarter initialization (with arguments to make a dict just returned empty.\n",
    "class param_vec(dict):\n",
    "    \"\"\"Class for model parameters.\n",
    "    Stores parameters in dict, with arithmatic operations.\n",
    "    \"\"\"\n",
    "    #Define elementwise subtraction/addition\n",
    "    def __add__(self,x):\n",
    "        y = self.copy()\n",
    "        if isinstance(x,(int,float)):\n",
    "            for i,v in self.items():\n",
    "                y[i]=self[i]+x\n",
    "        else:\n",
    "            for i,v in self.items():\n",
    "                y[i]=self[i]+x[i]\n",
    "        return param_vec(y)\n",
    "\n",
    "\n",
    "    #Define elementwise subtraction/addition\n",
    "    def __radd__(self,x):\n",
    "        return param_vec.__add__(self,x)\n",
    "    \n",
    "    #Define elementwise subtraction.\n",
    "    def __sub__(self,x):\n",
    "        y=self.copy()\n",
    "        if isinstance(x,(int,float)):\n",
    "            for i,v in self.items():\n",
    "                y[i]=v-x\n",
    "        else:        \n",
    "            for i,v in self.items():\n",
    "                y[i]=v-x[i]\n",
    "        return param_vec(y)\n",
    "                \n",
    "    #Define elementwise subtraction/addition\n",
    "    def __rsub__(self,x):\n",
    "        return param_vec.__sub__(self,x)\n",
    "\n",
    "                \n",
    "    #Define elementwise subtraction.\n",
    "    def __truediv__(self,x):\n",
    "        y=self.copy()\n",
    "        if isinstance(x,(int,float)):\n",
    "            for i,v in self.items():\n",
    "                y[i]=v/x\n",
    "        else:        \n",
    "            for i,v in self.items():\n",
    "                y[i]=v/x[i]\n",
    "        return param_vec(y)\n",
    "                \n",
    "    #Define elementwise subtraction.\n",
    "    def __mul__(self,x):\n",
    "        y=self.copy()\n",
    "        if isinstance(x,(int,float)):\n",
    "            for i,v in self.items():\n",
    "                y[i]=v*x\n",
    "        else:        \n",
    "            for i,v in self.items():\n",
    "                y[i]=v*x[i]\n",
    "        return param_vec(y)\n",
    "                \n",
    "    #Define elementwise subtraction.\n",
    "    def __rmul__(self,x):\n",
    "        return param_vec.__mul__(self,x)\n",
    "\n",
    "#might extend to contain all of the modelling stuff?          "
   ]
  },
  {
   "cell_type": "code",
   "execution_count": 17,
   "metadata": {
    "autoscroll": false,
    "collapsed": false,
    "ein.tags": "worksheet-0",
    "slideshow": {
     "slide_type": "-"
    }
   },
   "outputs": [],
   "source": [
    "dem_sub  = dem[0:24*7*50]\n",
    "temp_sub = temp[0:24*7*50]\n",
    "\n",
    "D=dem_sub\n",
    "T=temp_sub\n",
    "Dr = np.max(D)-np.min(D)\n",
    "Tr = np.max(T)-np.min(T)\n",
    "\n",
    "pnames=['a0','ap','an','Tp','Tn']\n",
    "pval=[np.mean(D),0.5*Dr/Tr,0.5*Dr/Tr,200,100]\n",
    "param=param_vec(dict(zip(pnames,pval)))\n",
    "pval2=[1000,100,100,10,20]\n",
    "param1=param_vec(dict(zip(pnames,pval2)))\n",
    "p2=param-param1\n",
    "p3=param-param\n"
   ]
  },
  {
   "cell_type": "code",
   "execution_count": 12,
   "metadata": {
    "autoscroll": false,
    "collapsed": false,
    "ein.tags": "worksheet-0",
    "slideshow": {
     "slide_type": "-"
    }
   },
   "outputs": [],
   "source": [
    "def temp_model(T,param):\n",
    "    \"\"\"temp_model(T,param)\n",
    "    Tries to fit linear model for electricity demand to temperature.\n",
    "    Initially tried to allow thresholding, and different slopes for heating/cooling.  Will now just try simpler linear model a_p|T-T_p|.\n",
    "\"\"\" \n",
    "    m1 = T>param['Tp']\n",
    "    m2 = T<param['Tn']\n",
    "    y=np.zeros(T.shape)\n",
    "    y[m1] = (T[m1]-param['Tp'])*param['ap']\n",
    "    y[m2] = (param['Tn']-T[m2])*param['an']\n",
    "    y=y+param['a0']\n",
    "    #y = param['a0']+ param['ap']*np.abs(T-param['Tp'])\n",
    "    y=pd.Series(y,name='Predicted Demand',index=T.index)\n",
    "    return y\n",
    "\n",
    "def temp_model_grad(D,Dhat,T,param):\n",
    "    \"\"\"temp_model_grad\n",
    "    Compute gradients of model w.r.t. parameters.\n",
    "    Assumes loss-function is mean-square.\n",
    "    Dhat - measured demand\n",
    "    D    - predicted demand\n",
    "    T    - measured temperature\n",
    "    param - dict of parameters\n",
    "    \"\"\"\n",
    "    m1 = T>param['Tp']\n",
    "    m2 = T<param['Tn']\n",
    "    Nt = len(T)\n",
    "    Derr=D-Dhat\n",
    "    #initialize with zeros\n",
    "    dparam=param_vec(dict( zip(param.keys(),np.zeros(len(param)) )))\n",
    "    dparam['a0'] = np.sum(Derr)/Nt\n",
    "\n",
    "    #Single model\n",
    "    # #\\partial J/ partial a_psum_{t\\in T_\\pm}[T_t-T_\\pm]_\\pm(\\hat{D}_t-D_t)=0  \\qquad (a_\\pm)\\\\\n",
    "    # dparam['ap'] = np.sum( np.abs(T-param['Tp'])*Derr)/Nt\n",
    "    # # #\\sum_{t\\in T_\\pm}(\\pm a_{\\pm})(\\hat{D}_t-D_t)=0  \\qquad (T_\\pm)\\\\\n",
    "    # dparam['Tp'] = -np.sum(np.sign(T-param['Tp'])*param['ap']*Derr)/Nt\n",
    "\n",
    "    #Double thresholded model\n",
    "    #\\sum_{t\\in T_\\pm}[T_t-T_\\pm]_\\pm(\\hat{D}_t-D_t)=0  \\qquad (a_\\pm)\\\\\n",
    "    dparam['ap'] = np.sum( np.abs(T[m1]-param['Tp'])*(Derr[m1]))/Nt\n",
    "    dparam['an'] = np.sum( (param['Tn']-T[m2])*(Derr[m2]))/Nt\n",
    "\n",
    "    # #\\sum_{t\\in T_\\pm}(\\pm a_{\\pm})(\\hat{D}_t-D_t)=0  \\qquad (T_\\pm)\\\\\n",
    "    dparam['Tp'] = -param['ap']*np.sum(Derr[m1])/Nt\n",
    "    dparam['Tn'] =  param['an']*np.sum(Derr[m2])/Nt    \n",
    "\n",
    "    return dparam\n",
    "\n",
    "def param_fit(Dhat,T,alpha=0.1,rtol=1E-4,nmax=200):\n",
    "    \"\"\"Try to fit linear threshold model of demand to temperature.\n",
    "\n",
    "    D - demand data\n",
    "    T - temperature data\n",
    "\n",
    "    Fits model of form:\n",
    "    D ~ a_0+ a_p[T-T_p]_+ + a_n[T_n-T]_+,\n",
    "    where [f]_+ =f for f>0, and 0 otherwise.\n",
    "\n",
    "    Just use simple gradient descent to fit the model.\n",
    "    \"\"\"\n",
    "    #make parameter estimates\n",
    "    Dr = np.max(Dhat)-np.min(Dhat)\n",
    "    Tr = np.max(T)-np.min(T)\n",
    "    param_names=['a0','ap','an','Tp','Tn']\n",
    "    param_vals=[np.mean(Dhat), 0.5*Dr/Tr, 0.5*Dr/Tr,\n",
    "    np.mean(T), np.mean(T)]\n",
    "    param=param_vec(dict(zip(param_names,param_vals)))\n",
    "    Dpred = temp_model(T,param)\n",
    "    J=np.sum((Dpred-Dhat)**2)/len(Dhat)\n",
    "    print('Init cost',J)\n",
    "    plot_pred(Dpred,Dhat,10*T)\n",
    "    \n",
    "    print('Param:',param,\"\\n\")    \n",
    "\n",
    "    Ni=0\n",
    "    for i in range(nmax):\n",
    "        dparam=temp_model_grad(Dpred,Dhat,T,param)\n",
    "        param=param-alpha*dparam\n",
    "        Dpred=temp_model(T,param)\n",
    "        J2=J        \n",
    "        J=np.sum((Dpred-Dhat)**2)/len(Dhat)\n",
    "        err_change=abs(1-J2/J)\n",
    "\n",
    "        Ni+=1\n",
    "        if (err_change<rtol):\n",
    "           print(\"Hit tolerance {} at iter {}\".format(\n",
    "           err_change,Ni))\n",
    "           plot_pred(Dpred,Dhat,T)                      \n",
    "           return param,Dpred\n",
    "\n",
    "        if(Ni%100==0):\n",
    "            print(\"Cost, Old Cost = {},{}\".format(J,J2))\n",
    "            print('Param:',param)\n",
    "            print('Param_grad:',dparam)\n",
    "            print(\"Mean param Change {} at iter {}\".format(err_change,Ni))\n",
    "            plot_pred(Dpred,Dhat,T)\n",
    "    print(\"Failed to hit tolerance after {} iter\\n\".format(iter))\n",
    "    print(\"Cost:\",J,J2)\n",
    "    return param, Dpred\n",
    "\n",
    "\n",
    "def scale_data(D,T):\n",
    "    \"\"\"scale_data\n",
    "    Scales both demand and temperature to have zero mean, unit standard deviation.\n",
    "    Returns scaled data, as well as means, and standard deviations.\n",
    "    \"\"\"\n",
    "    scaling_df=pd.DataFrame(columns=['dem','temp'],index=['mu','std'])\n",
    "    scaling_df.loc['mu','dem']=D.mean()\n",
    "    scaling_df.loc['std','dem']=D.std()\n",
    "    scaling_df.loc['mu','temp']=T.mean()\n",
    "    scaling_df.loc['std','temp']=T.std()\n",
    "    T_scale=(T-T.mean())/T.std()\n",
    "    D_scale=(D-D.mean())/D.std()\n",
    "    return D_scale,T_scale,scaling_df\n",
    "\n",
    "def plot_pred(Dpred,D,T):\n",
    "    \"\"\"make plot to compare fitted parameters\"\"\"\n",
    "    plt.plot(T,'r',label='temp')    \n",
    "    plt.plot(D,'g',label='obs')\n",
    "    plt.plot(Dpred,'b',label='pred')\n",
    "    plt.legend()\n",
    "    plt.show()\n"
   ]
  },
  {
   "cell_type": "code",
   "execution_count": 122,
   "metadata": {
    "autoscroll": false,
    "collapsed": false,
    "ein.tags": "worksheet-0",
    "slideshow": {
     "slide_type": "-"
    }
   },
   "outputs": [],
   "source": [
    "#Now to do some simple Fourier Series fitting too.\n",
    "def total_fourier_series(D,n_max=[2,4,4]):\n",
    "    \"\"\"fourier_series\n",
    "    Fits pandas time series D, with Fourier series. \n",
    "    Uses Pandas DateTimeIndex for times.\n",
    "    Produces fourier series with annual, daily and weekly oscillations to fourier series.\n",
    "    Computes coefficients, and then series.  Returns both\n",
    "    D - demand (values to be fitted)\n",
    "    T - DatetimeIndex\n",
    "    n_max - maximum number of coefficients\n",
    "\n",
    "    Note:Misses Holidays.\n",
    "    \"\"\"\n",
    "    T=D.index\n",
    "    T_dayofyear = T.dayofyear.values\n",
    "    T_dayofweek = T.dayofweek.values\n",
    "    T_hour = T.hour.values\n",
    "    Tfit = [T_dayofyear/365,\n",
    "    (T_dayofweek*24+T_hour)/168, T_hour/24]\n",
    "    \n",
    "    ftot = np.zeros(len(D))\n",
    "    coeff = []\n",
    "    for i in range(3):\n",
    "        if n_max[i]>0:\n",
    "             ci=fit_fourier_series(D,Tfit[i],n_max[i])\n",
    "             ftot += fourier_series(ci,Tfit[i])             \n",
    "        else:\n",
    "            ci=None\n",
    "        coeff.append(ci)\n",
    "    ftot=pd.Series(ftot,index=T)         \n",
    "    return ftot,coeff\n",
    "\n",
    "def fit_fourier_series(D,T,nmax):\n",
    "    \"\"\"Fits the Fourier series to data D, on times T,\n",
    "    and returns parameters.\n",
    "    \"\"\"\n",
    "    Nt = len(D)\n",
    "    #initial zero coefficients\n",
    "    coeff=[[np.sum(D)/Nt,0]]\n",
    "    for n in range(1,nmax+1):\n",
    "        an= np.sum(np.cos(2*pi*n*T)*D)/Nt\n",
    "        bn= np.sum(np.sin(2*pi*n*T)*D)/Nt\n",
    "        coeff.append([an,bn])\n",
    "    return coeff                       \n",
    "\n",
    "def fourier_series(coeff,T):\n",
    "    \"\"\"fourier_series\n",
    "    Make simple Fourier series with specified coefficients, over time T. \n",
    "    T assumed to be in range [0,1).\n",
    "    \"\"\"\n",
    "    i=1\n",
    "    nmax=len(coeff)\n",
    "    f=np.zeros(T.shape)\n",
    "    for i in range(nmax):\n",
    "        for ai, bi in coeff:\n",
    "            f += ai*np.cos(2*pi*i*T)+bi*np.sin(2*pi*i*T)\n",
    "    return f"
   ]
  },
  {
   "cell_type": "code",
   "execution_count": 88,
   "metadata": {
    "autoscroll": false,
    "collapsed": false,
    "ein.tags": "worksheet-0",
    "slideshow": {
     "slide_type": "-"
    }
   },
   "outputs": [
    {
     "name": "stdout",
     "output_type": "stream",
     "text": [
      "Automatic pdb calling has been turned OFF\n"
     ]
    }
   ],
   "source": [
    "%pdb"
   ]
  },
  {
   "cell_type": "code",
   "execution_count": 123,
   "metadata": {
    "autoscroll": false,
    "collapsed": false,
    "ein.tags": "worksheet-0",
    "slideshow": {
     "slide_type": "-"
    }
   },
   "outputs": [
    {
     "data": {
      "text/plain": [
       "<matplotlib.figure.Figure at 0x7f9e60438e10>"
      ]
     },
     "metadata": {},
     "output_type": "display_data"
    },
    {
     "name": "stdout",
     "output_type": "stream",
     "text": [
      "[None, [[235.79464285714286, 0], [-3.5775489953482444, -1.4246492832976592]], None]\n"
     ]
    }
   ],
   "source": [
    "dem_sub  = dem[0:24*7*2]\n",
    "temp_sub = temp[0:24*7*2]\n",
    "\n",
    "nmax = [0,1,0]\n",
    "\n",
    "Tf, Tcoeff = total_fourier_series(temp_sub,nmax)\n",
    "print(Tcoeff)\n",
    "plot_pred(Tf,dem_sub,temp_sub)"
   ]
  },
  {
   "cell_type": "code",
   "execution_count": 16,
   "metadata": {
    "autoscroll": false,
    "collapsed": false,
    "ein.tags": "worksheet-0",
    "slideshow": {
     "slide_type": "-"
    }
   },
   "outputs": [
    {
     "ename": "NameError",
     "evalue": "name 'dem_sub' is not defined",
     "output_type": "error",
     "traceback": [
      "\u001b[0;31m---------------------------------------------------------------------------\u001b[0m",
      "\u001b[0;31mNameError\u001b[0m                                 Traceback (most recent call last)",
      "\u001b[0;32m<ipython-input-16-b20610396e66>\u001b[0m in \u001b[0;36m<module>\u001b[0;34m()\u001b[0m\n\u001b[1;32m     24\u001b[0m         \u001b[0mprint\u001b[0m\u001b[0;34m(\u001b[0m\u001b[0mname\u001b[0m\u001b[0;34m,\u001b[0m\u001b[0mnumgrad\u001b[0m\u001b[0;34m,\u001b[0m\u001b[0mdparam\u001b[0m\u001b[0;34m[\u001b[0m\u001b[0mname\u001b[0m\u001b[0;34m]\u001b[0m\u001b[0;34m,\u001b[0m\u001b[0mparam\u001b[0m\u001b[0;34m[\u001b[0m\u001b[0mname\u001b[0m\u001b[0;34m]\u001b[0m\u001b[0;34m)\u001b[0m\u001b[0;34m\u001b[0m\u001b[0m\n\u001b[1;32m     25\u001b[0m \u001b[0;34m\u001b[0m\u001b[0m\n\u001b[0;32m---> 26\u001b[0;31m \u001b[0mgrad_check\u001b[0m\u001b[0;34m(\u001b[0m\u001b[0mdem_sub\u001b[0m\u001b[0;34m,\u001b[0m\u001b[0mtemp_sub\u001b[0m\u001b[0;34m)\u001b[0m\u001b[0;34m\u001b[0m\u001b[0m\n\u001b[0m",
      "\u001b[0;31mNameError\u001b[0m: name 'dem_sub' is not defined"
     ]
    }
   ],
   "source": [
    "def grad_check(Dhat,T):\n",
    "    \"\"\"Check gradients\n",
    "\n",
    "    D - demand data\n",
    "    T - temperature data\n",
    "\n",
    "    \"\"\"\n",
    "    #make parameter estimates\n",
    "    Dr = np.max(Dhat)-np.min(Dhat)\n",
    "    Tr = np.max(T)-np.min(T)\n",
    "    param_names=['a0','ap','an','Tp','Tn']\n",
    "    param_vals=100*np.random.random(size=5)\n",
    "    param=param_vec(dict(zip(param_names,param_vals)))\n",
    "    Dpred = temp_model(T,param)    \n",
    "    dparam=temp_model_grad(Dpred,Dhat,T,param)    \n",
    "    J=0.5*np.sum((Dpred-Dhat)**2)/len(Dhat)\n",
    "    eps=.1\n",
    "    for name,val in param.items():\n",
    "        param2 = param.copy()\n",
    "        param2[name]=val+eps\n",
    "        Dpred = temp_model(T,param2)\n",
    "        J2=0.5*np.sum((Dpred-Dhat)**2)/len(Dhat)\n",
    "        numgrad = (J2-J)/eps\n",
    "        print(name,numgrad,dparam[name],param[name])\n",
    "\n",
    "grad_check(dem_sub,temp_sub)"
   ]
  },
  {
   "cell_type": "code",
   "execution_count": 294,
   "metadata": {
    "autoscroll": false,
    "collapsed": false,
    "ein.tags": "worksheet-0",
    "slideshow": {
     "slide_type": "-"
    }
   },
   "outputs": [
    {
     "name": "stdout",
     "output_type": "stream",
     "text": [
      "Automatic pdb calling has been turned ON\n"
     ]
    }
   ],
   "source": [
    "%pdb"
   ]
  },
  {
   "cell_type": "code",
   "execution_count": 315,
   "metadata": {
    "autoscroll": false,
    "collapsed": false,
    "ein.tags": "worksheet-0",
    "slideshow": {
     "slide_type": "-"
    }
   },
   "outputs": [
    {
     "name": "stdout",
     "output_type": "stream",
     "text": [
      "Init cost 0.8837382755906348\n"
     ]
    },
    {
     "data": {
      "text/plain": [
       "<matplotlib.figure.Figure at 0x7fe29a3a0cf8>"
      ]
     },
     "metadata": {},
     "output_type": "display_data"
    },
    {
     "name": "stdout",
     "output_type": "stream",
     "text": [
      "Param: {'a0': 1.3276747426328398e-16, 'ap': 0.48499537229236661, 'an': 0.48499537229236661, 'Tp': 3.782556278779447e-15, 'Tn': 3.782556278779447e-15} \n",
      "\n"
     ]
    },
    {
     "name": "stdout",
     "output_type": "stream",
     "text": [
      "Cost, Old Cost = 0.6361713243842185,0.6364432963498922\n",
      "Param: {'a0': -0.5450539737204063, 'ap': 0.97514335089751603, 'an': 0.70654197706491229, 'Tp': 0.2321423290403313, 'Tn': -0.051766972768032188}\n",
      "Param_grad: {'a0': 0.01248978801462683, 'ap': -0.026516059119935938, 'an': -0.017671985183853076, 'Tp': -0.013877837742701104, 'Tn': -0.002090159797093114}\n",
      "Mean param Change 0.00042751371407212524 at iter 100\n"
     ]
    },
    {
     "data": {
      "text/plain": [
       "<matplotlib.figure.Figure at 0x7fe29a10e710>"
      ]
     },
     "metadata": {},
     "output_type": "display_data"
    },
    {
     "name": "stdout",
     "output_type": "stream",
     "text": [
      "Hit tolerance 9.926006019234102e-05 at iter 165\n"
     ]
    },
    {
     "data": {
      "text/plain": [
       "<matplotlib.figure.Figure at 0x7fe29a075128>"
      ]
     },
     "metadata": {},
     "output_type": "display_data"
    }
   ],
   "source": [
    "\n",
    "dem_scale,temp_scale,scale_df=scale_data(dem_sub,temp_sub)\n",
    "plt.figure()\n",
    "param,Dpred=param_fit(dem_scale,temp_scale)"
   ]
  },
  {
   "cell_type": "code",
   "execution_count": 257,
   "metadata": {
    "autoscroll": false,
    "collapsed": false,
    "ein.tags": "worksheet-0",
    "slideshow": {
     "slide_type": "-"
    }
   },
   "outputs": [
    {
     "data": {
      "text/plain": [
       "2015-07-01 00:00:00    1.000056\n",
       "2015-07-01 01:00:00    0.918422\n",
       "2015-07-01 02:00:00    0.881316\n",
       "2015-07-01 03:00:00    0.755154\n",
       "2015-07-01 04:00:00    0.591886\n",
       "Name: Temp, dtype: float64"
      ]
     },
     "execution_count": 257,
     "metadata": {},
     "output_type": "execute_result"
    }
   ],
   "source": [
    "Dpred.head()"
   ]
  },
  {
   "cell_type": "code",
   "execution_count": 250,
   "metadata": {
    "autoscroll": false,
    "collapsed": false,
    "ein.tags": "worksheet-0",
    "slideshow": {
     "slide_type": "-"
    }
   },
   "outputs": [
    {
     "data": {
      "text/plain": [
       "<matplotlib.figure.Figure at 0x7fe29a4540f0>"
      ]
     },
     "metadata": {},
     "output_type": "display_data"
    }
   ],
   "source": [
    "plt.plot(D,'b',Dpred,'r')\n",
    "plt.show()"
   ]
  },
  {
   "cell_type": "code",
   "execution_count": 184,
   "metadata": {
    "autoscroll": false,
    "collapsed": false,
    "ein.tags": "worksheet-0",
    "slideshow": {
     "slide_type": "-"
    }
   },
   "outputs": [],
   "source": [
    "?np.sign"
   ]
  },
  {
   "cell_type": "code",
   "execution_count": 144,
   "metadata": {
    "autoscroll": false,
    "collapsed": false,
    "ein.tags": "worksheet-0",
    "slideshow": {
     "slide_type": "-"
    }
   },
   "outputs": [
    {
     "data": {
      "text/plain": [
       "array([ 2778.66803714,  2778.66803714,  2778.66803714,  2778.66803714,\n",
       "        2778.66803714,  2778.66803714,  2778.66803714,  2778.66803714,\n",
       "        2778.66803714,  2778.66803714,  2778.66803714,  2778.66803714,\n",
       "        2778.66803714,  2778.66803714,  2778.66803714,  2778.66803714,\n",
       "        2778.66803714,  2778.66803714,  2778.66803714,  2778.66803714,\n",
       "        2778.66803714,  2778.66803714,  2778.66803714,  2778.66803714])"
      ]
     },
     "execution_count": 144,
     "metadata": {},
     "output_type": "execute_result"
    }
   ],
   "source": []
  },
  {
   "cell_type": "code",
   "execution_count": 141,
   "metadata": {
    "autoscroll": false,
    "collapsed": false,
    "ein.tags": "worksheet-0",
    "slideshow": {
     "slide_type": "-"
    }
   },
   "outputs": [
    {
     "data": {
      "text/plain": [
       "2015-07-01 00:00:00     -95.441627\n",
       "2015-07-01 01:00:00    -105.441627\n",
       "2015-07-01 02:00:00     -55.441627\n",
       "2015-07-01 03:00:00      59.558373\n",
       "2015-07-01 04:00:00     178.558373\n",
       "2015-07-01 05:00:00     334.558373\n",
       "2015-07-01 06:00:00     578.558373\n",
       "2015-07-01 07:00:00     944.558373\n",
       "2015-07-01 08:00:00    1220.558373\n",
       "2015-07-01 09:00:00    1409.558373\n",
       "Name: Demand for Portland General Electric Company (PGE), Hourly, dtype: float64"
      ]
     },
     "execution_count": 141,
     "metadata": {},
     "output_type": "execute_result"
    }
   ],
   "source": []
  },
  {
   "cell_type": "code",
   "execution_count": 131,
   "metadata": {
    "autoscroll": false,
    "collapsed": false,
    "ein.tags": "worksheet-0",
    "slideshow": {
     "slide_type": "-"
    }
   },
   "outputs": [
    {
     "data": {
      "text/plain": [
       "{'Tn': 100.0,\n",
       " 'Tp': 200.0,\n",
       " 'a0': 266302684.5632433,\n",
       " 'an': 5.6954887218045114,\n",
       " 'ap': 26619153180.946255}"
      ]
     },
     "execution_count": 131,
     "metadata": {},
     "output_type": "execute_result"
    }
   ],
   "source": []
  },
  {
   "cell_type": "code",
   "execution_count": 13,
   "metadata": {
    "autoscroll": false,
    "collapsed": false,
    "ein.tags": "worksheet-0",
    "slideshow": {
     "slide_type": "-"
    }
   },
   "outputs": [
    {
     "name": "stdout",
     "output_type": "stream",
     "text": [
      "20 8\n"
     ]
    }
   ],
   "source": [
    "l,b,s=fit_init_params(dem)\n",
    "\n",
    "pred=predict_stl(l,b,s,dem_sub.index)"
   ]
  },
  {
   "cell_type": "code",
   "execution_count": 14,
   "metadata": {
    "autoscroll": false,
    "collapsed": false,
    "ein.tags": "worksheet-0",
    "slideshow": {
     "slide_type": "-"
    }
   },
   "outputs": [
    {
     "data": {
      "text/plain": [
       "<matplotlib.figure.Figure at 0x7f8aaeb02c50>"
      ]
     },
     "metadata": {},
     "output_type": "display_data"
    }
   ],
   "source": [
    "plt.plot(dem_sub.values,'b',temp[0:4*168].values,'r',pred,'k')\n",
    "plt.show()"
   ]
  },
  {
   "cell_type": "code",
   "execution_count": 76,
   "metadata": {
    "autoscroll": false,
    "collapsed": false,
    "ein.tags": "worksheet-0",
    "slideshow": {
     "slide_type": "-"
    }
   },
   "outputs": [
    {
     "data": {
      "text/plain": [
       "array([ 958.51319104,  996.49083635,  961.16848165,  859.94612696,\n",
       "        739.37377227,  658.95141757,  432.02906288,  146.20670818,\n",
       "        -83.86564651, -228.03800121, -318.6103559 , -358.7827106 ,\n",
       "       -336.85506529, -229.27741998,  -52.64977468,  139.67787063,\n",
       "        269.55551593,  380.48316124,  483.26080654,  580.63845185,\n",
       "        669.91609715,  760.99374246,  839.62138777,  916.24903307,\n",
       "        958.51319104,  996.49083635,  961.16848165,  859.94612696,\n",
       "        739.37377227,  658.95141757,  432.02906288,  146.20670818,\n",
       "        -83.86564651, -228.03800121, -318.6103559 , -358.7827106 ,\n",
       "       -336.85506529, -229.27741998,  -52.64977468,  139.67787063,\n",
       "        269.55551593,  380.48316124,  483.26080654,  580.63845185,\n",
       "        669.91609715,  760.99374246,  839.62138777,  916.24903307,\n",
       "        958.51319104,  996.49083635,  961.16848165,  859.94612696,\n",
       "        739.37377227,  658.95141757,  432.02906288,  146.20670818,\n",
       "        -83.86564651, -228.03800121, -318.6103559 , -358.7827106 ,\n",
       "       -336.85506529, -229.27741998,  -52.64977468,  139.67787063,\n",
       "        269.55551593,  380.48316124,  483.26080654,  580.63845185,\n",
       "        669.91609715,  760.99374246,  839.62138777,  916.24903307,\n",
       "        739.38763218,  763.49027748,  731.34292279,  650.32056809,\n",
       "        555.1732134 ,  487.4008587 ,  323.50350401,  104.48114932,\n",
       "        -95.29120538, -236.56356007, -335.83591477, -394.10826946,\n",
       "       -418.38062416, -414.90297885, -377.42533355, -252.32268824,\n",
       "        -78.47004294,   92.63260237,  226.73524768,  336.96289298,\n",
       "        431.81553829,  512.41818359,  586.0208289 ,  651.1234742 ,\n",
       "        739.38763218,  763.49027748,  731.34292279,  650.32056809,\n",
       "        555.1732134 ,  487.4008587 ,  323.50350401,  104.48114932,\n",
       "        -95.29120538, -236.56356007, -335.83591477, -394.10826946,\n",
       "       -418.38062416, -414.90297885, -377.42533355, -252.32268824,\n",
       "        -78.47004294,   92.63260237,  226.73524768,  336.96289298,\n",
       "        431.81553829,  512.41818359,  586.0208289 ,  651.1234742 ,\n",
       "        958.51319104,  996.49083635,  961.16848165,  859.94612696,\n",
       "        739.37377227,  658.95141757,  432.02906288,  146.20670818,\n",
       "        -83.86564651, -228.03800121, -318.6103559 , -358.7827106 ,\n",
       "       -336.85506529, -229.27741998,  -52.64977468,  139.67787063,\n",
       "        269.55551593,  380.48316124,  483.26080654,  580.63845185,\n",
       "        669.91609715,  760.99374246,  839.62138777,  916.24903307,\n",
       "        958.51319104,  996.49083635,  961.16848165,  859.94612696,\n",
       "        739.37377227,  658.95141757,  432.02906288,  146.20670818,\n",
       "        -83.86564651, -228.03800121, -318.6103559 , -358.7827106 ,\n",
       "       -336.85506529, -229.27741998,  -52.64977468,  139.67787063,\n",
       "        269.55551593,  380.48316124,  483.26080654,  580.63845185,\n",
       "        669.91609715,  760.99374246,  839.62138777,  916.24903307,\n",
       "        958.51319104,  996.49083635,  961.16848165,  859.94612696,\n",
       "        739.37377227,  658.95141757,  432.02906288,  146.20670818,\n",
       "        -83.86564651, -228.03800121, -318.6103559 , -358.7827106 ,\n",
       "       -336.85506529, -229.27741998,  -52.64977468,  139.67787063,\n",
       "        269.55551593,  380.48316124,  483.26080654,  580.63845185,\n",
       "        669.91609715,  760.99374246,  839.62138777,  916.24903307,\n",
       "        958.51319104,  996.49083635,  961.16848165,  859.94612696,\n",
       "        739.37377227,  658.95141757,  432.02906288,  146.20670818,\n",
       "        -83.86564651, -228.03800121, -318.6103559 , -358.7827106 ,\n",
       "       -336.85506529, -229.27741998,  -52.64977468,  139.67787063,\n",
       "        269.55551593,  380.48316124,  483.26080654,  580.63845185,\n",
       "        669.91609715,  760.99374246,  839.62138777,  916.24903307,\n",
       "        958.51319104,  996.49083635,  961.16848165,  859.94612696,\n",
       "        739.37377227,  658.95141757,  432.02906288,  146.20670818,\n",
       "        -83.86564651, -228.03800121, -318.6103559 , -358.7827106 ,\n",
       "       -336.85506529, -229.27741998,  -52.64977468,  139.67787063,\n",
       "        269.55551593,  380.48316124,  483.26080654,  580.63845185,\n",
       "        669.91609715,  760.99374246,  839.62138777,  916.24903307,\n",
       "        739.38763218,  763.49027748,  731.34292279,  650.32056809,\n",
       "        555.1732134 ,  487.4008587 ,  323.50350401,  104.48114932,\n",
       "        -95.29120538, -236.56356007, -335.83591477, -394.10826946,\n",
       "       -418.38062416, -414.90297885, -377.42533355, -252.32268824,\n",
       "        -78.47004294,   92.63260237,  226.73524768,  336.96289298,\n",
       "        431.81553829,  512.41818359,  586.0208289 ,  651.1234742 ,\n",
       "        739.38763218,  763.49027748,  731.34292279,  650.32056809,\n",
       "        555.1732134 ,  487.4008587 ,  323.50350401,  104.48114932,\n",
       "        -95.29120538, -236.56356007, -335.83591477, -394.10826946,\n",
       "       -418.38062416, -414.90297885, -377.42533355, -252.32268824,\n",
       "        -78.47004294,   92.63260237,  226.73524768,  336.96289298,\n",
       "        431.81553829,  512.41818359,  586.0208289 ,  651.1234742 ,\n",
       "        958.51319104,  996.49083635,  961.16848165,  859.94612696,\n",
       "        739.37377227,  658.95141757,  432.02906288,  146.20670818,\n",
       "        -83.86564651, -228.03800121, -318.6103559 , -358.7827106 ,\n",
       "       -336.85506529, -229.27741998,  -52.64977468,  139.67787063,\n",
       "        269.55551593,  380.48316124,  483.26080654,  580.63845185,\n",
       "        669.91609715,  760.99374246,  839.62138777,  916.24903307,\n",
       "        958.51319104,  996.49083635,  961.16848165,  859.94612696,\n",
       "        739.37377227,  658.95141757,  432.02906288,  146.20670818,\n",
       "        -83.86564651, -228.03800121, -318.6103559 , -358.7827106 ,\n",
       "       -336.85506529, -229.27741998,  -52.64977468,  139.67787063,\n",
       "        269.55551593,  380.48316124,  483.26080654,  580.63845185,\n",
       "        669.91609715,  760.99374246,  839.62138777,  916.24903307,\n",
       "        958.51319104,  996.49083635,  961.16848165,  859.94612696,\n",
       "        739.37377227,  658.95141757,  432.02906288,  146.20670818,\n",
       "        -83.86564651, -228.03800121, -318.6103559 , -358.7827106 ,\n",
       "       -336.85506529, -229.27741998,  -52.64977468,  139.67787063,\n",
       "        269.55551593,  380.48316124,  483.26080654,  580.63845185,\n",
       "        669.91609715,  760.99374246,  839.62138777,  916.24903307,\n",
       "        958.51319104,  996.49083635,  961.16848165,  859.94612696,\n",
       "        739.37377227,  658.95141757,  432.02906288,  146.20670818,\n",
       "        -83.86564651, -228.03800121, -318.6103559 , -358.7827106 ,\n",
       "       -336.85506529, -229.27741998,  -52.64977468,  139.67787063,\n",
       "        269.55551593,  380.48316124,  483.26080654,  580.63845185,\n",
       "        669.91609715,  760.99374246,  839.62138777,  916.24903307,\n",
       "        958.51319104,  996.49083635,  961.16848165,  859.94612696,\n",
       "        739.37377227,  658.95141757,  432.02906288,  146.20670818,\n",
       "        -83.86564651, -228.03800121, -318.6103559 , -358.7827106 ,\n",
       "       -336.85506529, -229.27741998,  -52.64977468,  139.67787063,\n",
       "        269.55551593,  380.48316124,  483.26080654,  580.63845185,\n",
       "        669.91609715,  760.99374246,  839.62138777,  916.24903307,\n",
       "        739.38763218,  763.49027748,  731.34292279,  650.32056809,\n",
       "        555.1732134 ,  487.4008587 ,  323.50350401,  104.48114932,\n",
       "        -95.29120538, -236.56356007, -335.83591477, -394.10826946,\n",
       "       -418.38062416, -414.90297885, -377.42533355, -252.32268824,\n",
       "        -78.47004294,   92.63260237,  226.73524768,  336.96289298,\n",
       "        431.81553829,  512.41818359,  586.0208289 ,  651.1234742 ,\n",
       "        739.38763218,  763.49027748,  731.34292279,  650.32056809,\n",
       "        555.1732134 ,  487.4008587 ,  323.50350401,  104.48114932,\n",
       "        -95.29120538, -236.56356007, -335.83591477, -394.10826946,\n",
       "       -418.38062416, -414.90297885, -377.42533355, -252.32268824,\n",
       "        -78.47004294,   92.63260237,  226.73524768,  336.96289298,\n",
       "        431.81553829,  512.41818359,  586.0208289 ,  651.1234742 ,\n",
       "        958.51319104,  996.49083635,  961.16848165,  859.94612696,\n",
       "        739.37377227,  658.95141757,  432.02906288,  146.20670818,\n",
       "        -83.86564651, -228.03800121, -318.6103559 , -358.7827106 ,\n",
       "       -336.85506529, -229.27741998,  -52.64977468,  139.67787063,\n",
       "        269.55551593,  380.48316124,  483.26080654,  580.63845185,\n",
       "        669.91609715,  760.99374246,  839.62138777,  916.24903307,\n",
       "        958.51319104,  996.49083635,  961.16848165,  859.94612696,\n",
       "        739.37377227,  658.95141757,  432.02906288,  146.20670818,\n",
       "        -83.86564651, -228.03800121, -318.6103559 , -358.7827106 ,\n",
       "       -336.85506529, -229.27741998,  -52.64977468,  139.67787063,\n",
       "        269.55551593,  380.48316124,  483.26080654,  580.63845185,\n",
       "        669.91609715,  760.99374246,  839.62138777,  916.24903307,\n",
       "        958.51319104,  996.49083635,  961.16848165,  859.94612696,\n",
       "        739.37377227,  658.95141757,  432.02906288,  146.20670818,\n",
       "        -83.86564651, -228.03800121, -318.6103559 , -358.7827106 ,\n",
       "       -336.85506529, -229.27741998,  -52.64977468,  139.67787063,\n",
       "        269.55551593,  380.48316124,  483.26080654,  580.63845185,\n",
       "        669.91609715,  760.99374246,  839.62138777,  916.24903307,\n",
       "        958.51319104,  996.49083635,  961.16848165,  859.94612696,\n",
       "        739.37377227,  658.95141757,  432.02906288,  146.20670818,\n",
       "        -83.86564651, -228.03800121, -318.6103559 , -358.7827106 ,\n",
       "       -336.85506529, -229.27741998,  -52.64977468,  139.67787063,\n",
       "        269.55551593,  380.48316124,  483.26080654,  580.63845185,\n",
       "        669.91609715,  760.99374246,  839.62138777,  916.24903307,\n",
       "        958.51319104,  996.49083635,  961.16848165,  859.94612696,\n",
       "        739.37377227,  658.95141757,  432.02906288,  146.20670818,\n",
       "        -83.86564651, -228.03800121, -318.6103559 , -358.7827106 ,\n",
       "       -336.85506529, -229.27741998,  -52.64977468,  139.67787063,\n",
       "        269.55551593,  380.48316124,  483.26080654,  580.63845185,\n",
       "        669.91609715,  760.99374246,  839.62138777,  916.24903307,\n",
       "        739.38763218,  763.49027748,  731.34292279,  650.32056809,\n",
       "        555.1732134 ,  487.4008587 ,  323.50350401,  104.48114932,\n",
       "        -95.29120538, -236.56356007, -335.83591477, -394.10826946,\n",
       "       -418.38062416, -414.90297885, -377.42533355, -252.32268824,\n",
       "        -78.47004294,   92.63260237,  226.73524768,  336.96289298,\n",
       "        431.81553829,  512.41818359,  586.0208289 ,  651.1234742 ,\n",
       "        739.38763218,  763.49027748,  731.34292279,  650.32056809,\n",
       "        555.1732134 ,  487.4008587 ,  323.50350401,  104.48114932,\n",
       "        -95.29120538, -236.56356007, -335.83591477, -394.10826946,\n",
       "       -418.38062416, -414.90297885, -377.42533355, -252.32268824,\n",
       "        -78.47004294,   92.63260237,  226.73524768,  336.96289298,\n",
       "        431.81553829,  512.41818359,  586.0208289 ,  651.1234742 ,\n",
       "        958.51319104,  996.49083635,  961.16848165,  859.94612696,\n",
       "        739.37377227,  658.95141757,  432.02906288,  146.20670818,\n",
       "        -83.86564651, -228.03800121, -318.6103559 , -358.7827106 ,\n",
       "       -336.85506529, -229.27741998,  -52.64977468,  139.67787063,\n",
       "        269.55551593,  380.48316124,  483.26080654,  580.63845185,\n",
       "        669.91609715,  760.99374246,  839.62138777,  916.24903307,\n",
       "        958.51319104,  996.49083635,  961.16848165,  859.94612696,\n",
       "        739.37377227,  658.95141757,  432.02906288,  146.20670818,\n",
       "        -83.86564651, -228.03800121, -318.6103559 , -358.7827106 ,\n",
       "       -336.85506529, -229.27741998,  -52.64977468,  139.67787063,\n",
       "        269.55551593,  380.48316124,  483.26080654,  580.63845185,\n",
       "        669.91609715,  760.99374246,  839.62138777,  916.24903307])"
      ]
     },
     "execution_count": 76,
     "metadata": {},
     "output_type": "execute_result"
    }
   ],
   "source": [
    "msk=dem_sub.index.dayofweek>=5\n",
    "\n",
    "s[msk.astype(int),dem_sub.index.hour.values]"
   ]
  },
  {
   "cell_type": "code",
   "execution_count": 56,
   "metadata": {
    "autoscroll": false,
    "collapsed": false,
    "ein.tags": "worksheet-0",
    "slideshow": {
     "slide_type": "-"
    }
   },
   "outputs": [
    {
     "data": {
      "text/plain": [
       "1"
      ]
     },
     "execution_count": 56,
     "metadata": {},
     "output_type": "execute_result"
    }
   ],
   "source": []
  },
  {
   "cell_type": "markdown",
   "metadata": {
    "ein.tags": "worksheet-0",
    "slideshow": {
     "slide_type": "-"
    }
   },
   "source": [
    "Rambling Time!\n",
    "\n",
    "From a Kalman filter perspective, I think that sometimes the error/innovation terms can be written as $\\epsilon_t = y_t-\\hat{y}_t$, where $y_t$ is the actual value, and $\\hat{y}_t$ is the output of the model with no noise.  The innovation process, then gives a rule for updating (the set of parameters $\\alpha,\\beta,\\Gamma, l, b, s_{i,t}$) how to change in the "
   ]
  },
  {
   "cell_type": "code",
   "execution_count": null,
   "metadata": {
    "autoscroll": false,
    "collapsed": false,
    "ein.tags": "worksheet-0",
    "slideshow": {
     "slide_type": "-"
    }
   },
   "outputs": [],
   "source": []
  },
  {
   "cell_type": "code",
   "execution_count": 35,
   "metadata": {
    "autoscroll": false,
    "collapsed": false,
    "ein.tags": "worksheet-0",
    "slideshow": {
     "slide_type": "-"
    }
   },
   "outputs": [
    {
     "name": "stdout",
     "output_type": "stream",
     "text": [
      "Automatic pdb calling has been turned OFF\n"
     ]
    }
   ],
   "source": [
    "%pdb"
   ]
  }
 ],
 "metadata": {
  "name": "EBA_seasonal.ipynb"
 },
 "nbformat": 4,
 "nbformat_minor": 2
}
