{
 "cells": [
  {
   "cell_type": "markdown",
   "metadata": {
    "ein.tags": "worksheet-0",
    "slideshow": {
     "slide_type": "-"
    }
   },
   "source": [
    "# Seasonal Regression\n",
    "\n",
    "The electricity demand series shows daily, weekly, and annual oscillations.  At a short time scale, I aim to capture the first two of these.\n",
    "\n",
    "The approaches I've seen suggest Fourier Series, linear regression, and Seasonal ARIMA.\n",
    "(I got quite stuck on how to detrend the series in a global fashion.)\n",
    "I will focus on building models on the last two weeks of data, with the goal of predicting electricity demand based on temperature, time of day, and day of week."
   ]
  },
  {
   "cell_type": "markdown",
   "metadata": {
    "ein.tags": "worksheet-0",
    "slideshow": {
     "slide_type": "-"
    }
   },
   "source": [
    "## Hyndman's Multiple Seasonal Exponential Smoothing\n",
    "\n",
    "This follows Rob Hyndman's approach towards multi-seasonal exponential smoothing.  (This generalizes the apparently well-known Holt-Winters smoothing).\n",
    "His analysis includes forecasts of electricity generation, based on utility data (from well over 10 years ago).\n",
    "\n",
    "I chose to follow this model since initial attempts at ARIMA rely on removing the seasonality, and I had hoped to just follow best practice with existing libraries.  Initial naive methods gave complete crap, and failed to remove the seasonal pattern, or even worse imposed one.  An initial attempt at Fourier filtering on over a year of data also left a \n",
    "\n",
    "Hyndman also seems to be a known author within the field of econometric time-series forecasting.  \n",
    "\n",
    "The original model for a variable $y_t$, with seasonal pattern with period $m$ is\n",
    "\\begin{align}\n",
    "  y_t &= l_{t-1}+b_{t-1} +s_{t-m} +\\epsilon_t\\\\\n",
    "  l_t &= l_{t-1} + \\alpha\\epsilon_t\\\\\n",
    "  b_t &= b_{t-1} + \\beta\\epsilon_t\\\\\n",
    "  s_{t} = s_{t-m} + \\gamma \\epsilon_t\n",
    "\\end{align}\n",
    "where $l_t$, b_t,s_t$ are the level, trend and seasonal patterns respectively.\n",
    "The noise is Gaussian and obeys\n",
    "$E[\\epsilon_t]=0, E[\\epsilon_t\\epsilon_s]=\\delta_{ts}\\sigma^2$, and $\\alpha,\\beta,\\gamma$ are constants between zero and one.  (He notes that $m+2$ estimates must be made for the initial values of the level, trend and seasonal pattern).\n",
    "\n",
    "Hyndman's model allows multiple seasons, and allows the sub-seasonal terms to be updated more quickly than once per large season.  In utility data, the short season is the daily oscillation, while the longer season comes from the weekly oscillation induced by the work week.  For hourly data, the daily cycle has length $m_1=24$, with the weekly cycle taking $m_2=168$.  The ratio between them is $k=m_2/m_1=7.$  The number of seasonal patterns is $r\\le k$.  \n",
    "\n",
    "(I'm going to change Hyndman's notation to use $\\mathbf{I}$ to denote indicator/step functions).\n",
    "\\begin{align}\n",
    "  y_t &= l_{t-1}+b_{t-1} +\\sum_{i=1}^r \\mathbf{I}_{t,i}s_{i,t-m_1} +\\epsilon_t\\\\\n",
    "  s_{i,t} = s_{i,t-m_1} + \\sum_{j=1}^r\\left(\\gamma_{ij}\\mathbf{I}_{t,j}\\right) \\epsilon_t  (i=1,2,\\ldots,r)\n",
    "  l_t &= l_{t-1} + b_{t-1}+\\alpha\\epsilon_t\\\\\n",
    "  b_t &= b_{t-1} + \\beta\\epsilon_t\\\\\n",
    "\\end{align}\n",
    "Here the indicator functions $\\mathbf{I}_{t,i}$ are unity if $t$ is in the seasonal pattern $i$, and zero otherwise.  For utility data, this will probably be weekday and holiday/weekend.  Here $\\gamma_{ij}$ denotes how much one seasonal pattern is updated based on another---Hyndman proposes a number of restrictions on these parameters.\n",
    "\n",
    "I will extend this to include an external variables for the deviation above a given temperature, so that $y_t\\rightarrow y_t+\\tau_p\\Theta(T_t-T_p)+\\tau_{n}\\Theta(T_n-T_t)$.\n",
    "\n",
    "He suggests using the first four weeks of data to estimate the parameters, by minimizing the squared error of the one-step ahead forecast.  Apparently maximum likelihood estimation was not recommended (10 years ago).\n",
    "\n",
    "So how to fit the parameters?  A really simple approach would be gradient descent?  Intuitively, the level is the average value, the bias is the average gradient.  The seasonality is the average seasonal pattern.  (This is the dumb STL decomposition used earlier?)"
   ]
  },
  {
   "cell_type": "code",
   "execution_count": 36,
   "metadata": {
    "autoscroll": false,
    "collapsed": false,
    "ein.tags": "worksheet-0",
    "slideshow": {
     "slide_type": "-"
    }
   },
   "outputs": [],
   "source": [
    "import pandas as pd\n",
    "import numpy as np\n",
    "import matplotlib.pyplot as plt\n",
    "\n",
    "from get_weather_data import convert_isd_to_df, convert_state_isd\n",
    "from EBA_util import remove_na, avg_extremes"
   ]
  },
  {
   "cell_type": "code",
   "execution_count": 7,
   "metadata": {
    "autoscroll": false,
    "collapsed": false,
    "ein.tags": "worksheet-0",
    "slideshow": {
     "slide_type": "-"
    }
   },
   "outputs": [
    {
     "name": "stdout",
     "output_type": "stream",
     "text": [
      "done with Mahlon Sweet Field\n"
     ]
    },
    {
     "name": "stdout",
     "output_type": "stream",
     "text": [
      "done with Salem Municipal Airport/McNary Field\n"
     ]
    },
    {
     "name": "stdout",
     "output_type": "stream",
     "text": [
      "done with Portland International Airport\n"
     ]
    }
   ],
   "source": [
    "air_df = pd.read_csv('data/air_code_df.gz')\n",
    "\n",
    "#Just get the weather station data for cities in Oregon.\n",
    "df_weather=convert_state_isd(air_df,'OR')\n",
    "#Select temperature for Portland, OR\n",
    "msk1=np.array(df_weather['city']=='Portland')\n",
    "msk2=np.array(df_weather['state']=='OR')\n",
    "\n",
    "df_pdx_weath=df_weather.loc[msk1&msk2]\n",
    "\n",
    "#get electricity data for Portland General Electric\n",
    "df_eba=pd.read_csv('data/EBA_time.gz',index_col=0,parse_dates=True)\n",
    "msk=df_eba.columns.str.contains('Portland')\n",
    "df_pdx=df_eba.loc[:,msk]\n",
    "\n",
    "dem=df_pdx.iloc[:,0]\n",
    "temp=df_joint['Temp']\n",
    "#Make a combined Portland Dataframe for demand vs weather.\n",
    "df_joint=pd.DataFrame(dem)\n",
    "df_joint=df_joint.join(df_pdx_weath)\n",
    "df_joint['TempShift']=150+abs(temp-150)\n",
    "df_joint=df_joint.rename(columns={df_joint.columns[0]:'Demand'})\n"
   ]
  },
  {
   "cell_type": "code",
   "execution_count": 34,
   "metadata": {
    "autoscroll": false,
    "collapsed": false,
    "ein.tags": "worksheet-0",
    "slideshow": {
     "slide_type": "-"
    }
   },
   "outputs": [
    {
     "ename": "NameError",
     "evalue": "name 'np' is not defined",
     "output_type": "error",
     "traceback": [
      "\u001b[0;31m---------------------------------------------------------------------------\u001b[0m",
      "\u001b[0;31mNameError\u001b[0m                                 Traceback (most recent call last)",
      "\u001b[0;32m<ipython-input-34-b54f84806820>\u001b[0m in \u001b[0;36m<module>\u001b[0;34m()\u001b[0m\n\u001b[1;32m      1\u001b[0m \u001b[0;31m#clean up data, remove NA\u001b[0m\u001b[0;34m\u001b[0m\u001b[0;34m\u001b[0m\u001b[0m\n\u001b[0;32m----> 2\u001b[0;31m \u001b[0mdem\u001b[0m \u001b[0;34m=\u001b[0m \u001b[0mremove_na\u001b[0m\u001b[0;34m(\u001b[0m\u001b[0mdem\u001b[0m\u001b[0;34m)\u001b[0m\u001b[0;34m\u001b[0m\u001b[0m\n\u001b[0m\u001b[1;32m      3\u001b[0m \u001b[0mdem\u001b[0m \u001b[0;34m=\u001b[0m \u001b[0mavg_extremes\u001b[0m\u001b[0;34m(\u001b[0m\u001b[0mdem\u001b[0m\u001b[0;34m)\u001b[0m\u001b[0;34m\u001b[0m\u001b[0m\n",
      "\u001b[0;32m/home/jonathan/Data-Science/US-Electricity/EBA_util.py\u001b[0m in \u001b[0;36mremove_na\u001b[0;34m(df, window)\u001b[0m\n\u001b[1;32m    154\u001b[0m     \u001b[0mReplace\u001b[0m \u001b[0mall\u001b[0m \u001b[0mNA\u001b[0m \u001b[0mvalues\u001b[0m \u001b[0;32mwith\u001b[0m \u001b[0mthe\u001b[0m \u001b[0mmean\u001b[0m \u001b[0mvalue\u001b[0m \u001b[0mof\u001b[0m \u001b[0mthe\u001b[0m \u001b[0mseries\u001b[0m\u001b[0;34m.\u001b[0m\u001b[0;34m\u001b[0m\u001b[0m\n\u001b[1;32m    155\u001b[0m     \"\"\"\n\u001b[0;32m--> 156\u001b[0;31m     \u001b[0mna_msk\u001b[0m\u001b[0;34m=\u001b[0m\u001b[0mnp\u001b[0m\u001b[0;34m.\u001b[0m\u001b[0misnan\u001b[0m\u001b[0;34m(\u001b[0m\u001b[0mdf\u001b[0m\u001b[0;34m.\u001b[0m\u001b[0mvalues\u001b[0m\u001b[0;34m)\u001b[0m\u001b[0;34m\u001b[0m\u001b[0m\n\u001b[0m\u001b[1;32m    157\u001b[0m     \u001b[0;31m#first pass:replace them all with the mean value - if a whole day is missing.\u001b[0m\u001b[0;34m\u001b[0m\u001b[0;34m\u001b[0m\u001b[0m\n\u001b[1;32m    158\u001b[0m     \u001b[0mprint\u001b[0m\u001b[0;34m(\u001b[0m \u001b[0;34m\"Number of NA values {}\"\u001b[0m\u001b[0;34m.\u001b[0m\u001b[0mformat\u001b[0m\u001b[0;34m(\u001b[0m\u001b[0msum\u001b[0m\u001b[0;34m(\u001b[0m\u001b[0mna_msk\u001b[0m\u001b[0;34m)\u001b[0m\u001b[0;34m)\u001b[0m\u001b[0;34m)\u001b[0m\u001b[0;34m\u001b[0m\u001b[0m\n",
      "\u001b[0;31mNameError\u001b[0m: name 'np' is not defined"
     ]
    },
    {
     "name": "stdout",
     "output_type": "stream",
     "text": [
      "> \u001b[0;32m/home/jonathan/Data-Science/US-Electricity/EBA_util.py\u001b[0m(156)\u001b[0;36mremove_na\u001b[0;34m()\u001b[0m\n",
      "\u001b[0;32m    154 \u001b[0;31m    \u001b[0mReplace\u001b[0m \u001b[0mall\u001b[0m \u001b[0mNA\u001b[0m \u001b[0mvalues\u001b[0m \u001b[0;32mwith\u001b[0m \u001b[0mthe\u001b[0m \u001b[0mmean\u001b[0m \u001b[0mvalue\u001b[0m \u001b[0mof\u001b[0m \u001b[0mthe\u001b[0m \u001b[0mseries\u001b[0m\u001b[0;34m.\u001b[0m\u001b[0;34m\u001b[0m\u001b[0m\n",
      "\u001b[0m\u001b[0;32m    155 \u001b[0;31m    \"\"\"\n",
      "\u001b[0m\u001b[0;32m--> 156 \u001b[0;31m    \u001b[0mna_msk\u001b[0m\u001b[0;34m=\u001b[0m\u001b[0mnp\u001b[0m\u001b[0;34m.\u001b[0m\u001b[0misnan\u001b[0m\u001b[0;34m(\u001b[0m\u001b[0mdf\u001b[0m\u001b[0;34m.\u001b[0m\u001b[0mvalues\u001b[0m\u001b[0;34m)\u001b[0m\u001b[0;34m\u001b[0m\u001b[0m\n",
      "\u001b[0m\u001b[0;32m    157 \u001b[0;31m    \u001b[0;31m#first pass:replace them all with the mean value - if a whole day is missing.\u001b[0m\u001b[0;34m\u001b[0m\u001b[0;34m\u001b[0m\u001b[0m\n",
      "\u001b[0m\u001b[0;32m    158 \u001b[0;31m    \u001b[0mprint\u001b[0m\u001b[0;34m(\u001b[0m \u001b[0;34m\"Number of NA values {}\"\u001b[0m\u001b[0;34m.\u001b[0m\u001b[0mformat\u001b[0m\u001b[0;34m(\u001b[0m\u001b[0msum\u001b[0m\u001b[0;34m(\u001b[0m\u001b[0mna_msk\u001b[0m\u001b[0;34m)\u001b[0m\u001b[0;34m)\u001b[0m\u001b[0;34m)\u001b[0m\u001b[0;34m\u001b[0m\u001b[0m\n",
      "\u001b[0m\n"
     ]
    },
    {
     "ename": "NameError",
     "evalue": "name 'np' is not defined",
     "output_type": "error",
     "traceback": [
      "\u001b[0;31m---------------------------------------------------------------------------\u001b[0m",
      "\u001b[0;31mNameError\u001b[0m                                 Traceback (most recent call last)",
      "\u001b[0;32m<ipython-input-34-b54f84806820>\u001b[0m in \u001b[0;36m<module>\u001b[0;34m()\u001b[0m\n\u001b[1;32m      1\u001b[0m \u001b[0;31m#clean up data, remove NA\u001b[0m\u001b[0;34m\u001b[0m\u001b[0;34m\u001b[0m\u001b[0m\n\u001b[0;32m----> 2\u001b[0;31m \u001b[0mdem\u001b[0m \u001b[0;34m=\u001b[0m \u001b[0mremove_na\u001b[0m\u001b[0;34m(\u001b[0m\u001b[0mdem\u001b[0m\u001b[0;34m)\u001b[0m\u001b[0;34m\u001b[0m\u001b[0m\n\u001b[0m\u001b[1;32m      3\u001b[0m \u001b[0mdem\u001b[0m \u001b[0;34m=\u001b[0m \u001b[0mavg_extremes\u001b[0m\u001b[0;34m(\u001b[0m\u001b[0mdem\u001b[0m\u001b[0;34m)\u001b[0m\u001b[0;34m\u001b[0m\u001b[0m\n",
      "\u001b[0;32m/home/jonathan/Data-Science/US-Electricity/EBA_util.py\u001b[0m in \u001b[0;36mremove_na\u001b[0;34m(df, window)\u001b[0m\n\u001b[1;32m    154\u001b[0m     \u001b[0mReplace\u001b[0m \u001b[0mall\u001b[0m \u001b[0mNA\u001b[0m \u001b[0mvalues\u001b[0m \u001b[0;32mwith\u001b[0m \u001b[0mthe\u001b[0m \u001b[0mmean\u001b[0m \u001b[0mvalue\u001b[0m \u001b[0mof\u001b[0m \u001b[0mthe\u001b[0m \u001b[0mseries\u001b[0m\u001b[0;34m.\u001b[0m\u001b[0;34m\u001b[0m\u001b[0m\n\u001b[1;32m    155\u001b[0m     \"\"\"\n\u001b[0;32m--> 156\u001b[0;31m     \u001b[0mna_msk\u001b[0m\u001b[0;34m=\u001b[0m\u001b[0mnp\u001b[0m\u001b[0;34m.\u001b[0m\u001b[0misnan\u001b[0m\u001b[0;34m(\u001b[0m\u001b[0mdf\u001b[0m\u001b[0;34m.\u001b[0m\u001b[0mvalues\u001b[0m\u001b[0;34m)\u001b[0m\u001b[0;34m\u001b[0m\u001b[0m\n\u001b[0m\u001b[1;32m    157\u001b[0m     \u001b[0;31m#first pass:replace them all with the mean value - if a whole day is missing.\u001b[0m\u001b[0;34m\u001b[0m\u001b[0;34m\u001b[0m\u001b[0m\n\u001b[1;32m    158\u001b[0m     \u001b[0mprint\u001b[0m\u001b[0;34m(\u001b[0m \u001b[0;34m\"Number of NA values {}\"\u001b[0m\u001b[0;34m.\u001b[0m\u001b[0mformat\u001b[0m\u001b[0;34m(\u001b[0m\u001b[0msum\u001b[0m\u001b[0;34m(\u001b[0m\u001b[0mna_msk\u001b[0m\u001b[0;34m)\u001b[0m\u001b[0;34m)\u001b[0m\u001b[0;34m)\u001b[0m\u001b[0;34m\u001b[0m\u001b[0m\n",
      "\u001b[0;31mNameError\u001b[0m: name 'np' is not defined"
     ]
    }
   ],
   "source": [
    "#clean up data, remove NA\n",
    "dem = remove_na(dem)\n",
    "dem = avg_extremes(dem)\n"
   ]
  },
  {
   "cell_type": "code",
   "execution_count": 82,
   "metadata": {
    "autoscroll": false,
    "collapsed": false,
    "ein.tags": "worksheet-0",
    "slideshow": {
     "slide_type": "-"
    }
   },
   "outputs": [
    {
     "data": {
      "text/plain": [
       "<matplotlib.figure.Figure at 0x7fd873bd1748>"
      ]
     },
     "metadata": {},
     "output_type": "display_data"
    }
   ],
   "source": [
    "t=np.arange(168)\n",
    "dem_sub=dem[0:4*24*7]\n",
    "plt.plot(dem_sub.values,'b',temp[0:4*168].values,'r',pred,'k')\n",
    "plt.show()"
   ]
  },
  {
   "cell_type": "code",
   "execution_count": 79,
   "metadata": {
    "autoscroll": false,
    "collapsed": false,
    "ein.tags": "worksheet-0",
    "slideshow": {
     "slide_type": "-"
    }
   },
   "outputs": [],
   "source": [
    "def fit_init_params(y):\n",
    "    \"\"\"fit_init_params(y)\n",
    "    Fits initial parameters for Hyndman's multi-seasonal model to\n",
    "    hourly electricity data.\n",
    "    (My guess on how to do this, similar to naive STL method used in \n",
    "    statstools.timeseries)\n",
    "\n",
    "    Finds level, bias and seasonal patterns based on first 4 weeks of data.  \n",
    "    \"\"\"\n",
    "    m1 = 24\n",
    "    k = 7\n",
    "    ysub = y[0:4*24*7]\n",
    "    yval = ysub.values\n",
    "    #average value\n",
    "    l = np.mean(yval)\n",
    "    #average shift\n",
    "    b = np.mean(np.diff(yval))\n",
    "    #remove mean pattern, subtractin off level, and linear trend.    \n",
    "    ysub = ysub-l-b*np.arange(4*24*7)\n",
    "\n",
    "    #mean seasonal pattern.\n",
    "    #second seasonal pattern is for weekends, with days\n",
    "    #Saturday/Sunday have dayofweek equal to 5 and 6.\n",
    "    #make a mask to select out weekends.\n",
    "    s2 = ysub.index.dayofweek >=5\n",
    "    #select out weekends, and regular days. \n",
    "    y_end = ysub[s2]\n",
    "    y_week=ysub[~s2]\n",
    "    n1 = int(len(y_week)/24)\n",
    "    n2 = int(len(y_end)/24)\n",
    "    s = np.zeros((2,24))\n",
    "    print(n1,n2)\n",
    "    for n in range(n1):\n",
    "        s[0,:] = s[0,:]+y_week[n*24:(n+1)*24]/n1\n",
    "    \n",
    "    for n in range(n2):\n",
    "        s[1,:] = s[1,:]+y_end[n*24:(n+1)*24]/n2\n",
    "\n",
    "    return l, b, s\n",
    "\n",
    "def predict_stl(l,b,s,timeIndex):\n",
    "    \"\"\"predict_stl(l,b,s,times)\n",
    "\n",
    "    \"\"\"\n",
    "    trend=l+b*np.arange(len(timeIndex))\n",
    "    #find weekend/weekedays.  \n",
    "    msk=timeIndex.dayofweek>=5\n",
    "    #\n",
    "    n1 = int(sum(~msk)/24)    \n",
    "    n2 = int(sum(msk)/24)\n",
    "    #Use fact that first sub-season is weekdays in first row.\n",
    "    #Use integer conversion of true/false to 0/1.\n",
    "    #Then use fact that seasonal patterns are 24 hours long.\n",
    "    pred=trend+s[msk.astype(int),timeIndex.hour.values]\n",
    "    return pred\n",
    "\n",
    "def update_params(param_vec,grad_vec,actual,predicted):\n",
    "    \"\"\"update_params\n",
    "    Change parameters based on gradients, and difference\n",
    "    between predicted and actual values.\n",
    "    \n",
    "    grad_vec - list of functions to evaluate at parameters\n",
    "\n",
    "    WIP\n",
    "    \"\"\"\n",
    "    param_new=param_vec.copy()\n",
    "    nparam=len(param_vec)\n",
    "    for i in range(nparam):\n",
    "        param_new[i] += grad_vec[i](param_vec)*(actual-predicted)\n",
    "    return param_new\n"
   ]
  },
  {
   "cell_type": "code",
   "execution_count": 80,
   "metadata": {
    "autoscroll": false,
    "collapsed": false,
    "ein.tags": "worksheet-0",
    "slideshow": {
     "slide_type": "-"
    }
   },
   "outputs": [
    {
     "name": "stdout",
     "output_type": "stream",
     "text": [
      "20 8\n"
     ]
    }
   ],
   "source": [
    "l,b,s=fit_init_params(dem)\n",
    "\n",
    "pred=predict_stl(l,b,s,dem_sub.index)\n"
   ]
  },
  {
   "cell_type": "code",
   "execution_count": 76,
   "metadata": {
    "autoscroll": false,
    "collapsed": false,
    "ein.tags": "worksheet-0",
    "slideshow": {
     "slide_type": "-"
    }
   },
   "outputs": [
    {
     "data": {
      "text/plain": [
       "array([ 958.51319104,  996.49083635,  961.16848165,  859.94612696,\n        739.37377227,  658.95141757,  432.02906288,  146.20670818,\n        -83.86564651, -228.03800121, -318.6103559 , -358.7827106 ,\n       -336.85506529, -229.27741998,  -52.64977468,  139.67787063,\n        269.55551593,  380.48316124,  483.26080654,  580.63845185,\n        669.91609715,  760.99374246,  839.62138777,  916.24903307,\n        958.51319104,  996.49083635,  961.16848165,  859.94612696,\n        739.37377227,  658.95141757,  432.02906288,  146.20670818,\n        -83.86564651, -228.03800121, -318.6103559 , -358.7827106 ,\n       -336.85506529, -229.27741998,  -52.64977468,  139.67787063,\n        269.55551593,  380.48316124,  483.26080654,  580.63845185,\n        669.91609715,  760.99374246,  839.62138777,  916.24903307,\n        958.51319104,  996.49083635,  961.16848165,  859.94612696,\n        739.37377227,  658.95141757,  432.02906288,  146.20670818,\n        -83.86564651, -228.03800121, -318.6103559 , -358.7827106 ,\n       -336.85506529, -229.27741998,  -52.64977468,  139.67787063,\n        269.55551593,  380.48316124,  483.26080654,  580.63845185,\n        669.91609715,  760.99374246,  839.62138777,  916.24903307,\n        739.38763218,  763.49027748,  731.34292279,  650.32056809,\n        555.1732134 ,  487.4008587 ,  323.50350401,  104.48114932,\n        -95.29120538, -236.56356007, -335.83591477, -394.10826946,\n       -418.38062416, -414.90297885, -377.42533355, -252.32268824,\n        -78.47004294,   92.63260237,  226.73524768,  336.96289298,\n        431.81553829,  512.41818359,  586.0208289 ,  651.1234742 ,\n        739.38763218,  763.49027748,  731.34292279,  650.32056809,\n        555.1732134 ,  487.4008587 ,  323.50350401,  104.48114932,\n        -95.29120538, -236.56356007, -335.83591477, -394.10826946,\n       -418.38062416, -414.90297885, -377.42533355, -252.32268824,\n        -78.47004294,   92.63260237,  226.73524768,  336.96289298,\n        431.81553829,  512.41818359,  586.0208289 ,  651.1234742 ,\n        958.51319104,  996.49083635,  961.16848165,  859.94612696,\n        739.37377227,  658.95141757,  432.02906288,  146.20670818,\n        -83.86564651, -228.03800121, -318.6103559 , -358.7827106 ,\n       -336.85506529, -229.27741998,  -52.64977468,  139.67787063,\n        269.55551593,  380.48316124,  483.26080654,  580.63845185,\n        669.91609715,  760.99374246,  839.62138777,  916.24903307,\n        958.51319104,  996.49083635,  961.16848165,  859.94612696,\n        739.37377227,  658.95141757,  432.02906288,  146.20670818,\n        -83.86564651, -228.03800121, -318.6103559 , -358.7827106 ,\n       -336.85506529, -229.27741998,  -52.64977468,  139.67787063,\n        269.55551593,  380.48316124,  483.26080654,  580.63845185,\n        669.91609715,  760.99374246,  839.62138777,  916.24903307,\n        958.51319104,  996.49083635,  961.16848165,  859.94612696,\n        739.37377227,  658.95141757,  432.02906288,  146.20670818,\n        -83.86564651, -228.03800121, -318.6103559 , -358.7827106 ,\n       -336.85506529, -229.27741998,  -52.64977468,  139.67787063,\n        269.55551593,  380.48316124,  483.26080654,  580.63845185,\n        669.91609715,  760.99374246,  839.62138777,  916.24903307,\n        958.51319104,  996.49083635,  961.16848165,  859.94612696,\n        739.37377227,  658.95141757,  432.02906288,  146.20670818,\n        -83.86564651, -228.03800121, -318.6103559 , -358.7827106 ,\n       -336.85506529, -229.27741998,  -52.64977468,  139.67787063,\n        269.55551593,  380.48316124,  483.26080654,  580.63845185,\n        669.91609715,  760.99374246,  839.62138777,  916.24903307,\n        958.51319104,  996.49083635,  961.16848165,  859.94612696,\n        739.37377227,  658.95141757,  432.02906288,  146.20670818,\n        -83.86564651, -228.03800121, -318.6103559 , -358.7827106 ,\n       -336.85506529, -229.27741998,  -52.64977468,  139.67787063,\n        269.55551593,  380.48316124,  483.26080654,  580.63845185,\n        669.91609715,  760.99374246,  839.62138777,  916.24903307,\n        739.38763218,  763.49027748,  731.34292279,  650.32056809,\n        555.1732134 ,  487.4008587 ,  323.50350401,  104.48114932,\n        -95.29120538, -236.56356007, -335.83591477, -394.10826946,\n       -418.38062416, -414.90297885, -377.42533355, -252.32268824,\n        -78.47004294,   92.63260237,  226.73524768,  336.96289298,\n        431.81553829,  512.41818359,  586.0208289 ,  651.1234742 ,\n        739.38763218,  763.49027748,  731.34292279,  650.32056809,\n        555.1732134 ,  487.4008587 ,  323.50350401,  104.48114932,\n        -95.29120538, -236.56356007, -335.83591477, -394.10826946,\n       -418.38062416, -414.90297885, -377.42533355, -252.32268824,\n        -78.47004294,   92.63260237,  226.73524768,  336.96289298,\n        431.81553829,  512.41818359,  586.0208289 ,  651.1234742 ,\n        958.51319104,  996.49083635,  961.16848165,  859.94612696,\n        739.37377227,  658.95141757,  432.02906288,  146.20670818,\n        -83.86564651, -228.03800121, -318.6103559 , -358.7827106 ,\n       -336.85506529, -229.27741998,  -52.64977468,  139.67787063,\n        269.55551593,  380.48316124,  483.26080654,  580.63845185,\n        669.91609715,  760.99374246,  839.62138777,  916.24903307,\n        958.51319104,  996.49083635,  961.16848165,  859.94612696,\n        739.37377227,  658.95141757,  432.02906288,  146.20670818,\n        -83.86564651, -228.03800121, -318.6103559 , -358.7827106 ,\n       -336.85506529, -229.27741998,  -52.64977468,  139.67787063,\n        269.55551593,  380.48316124,  483.26080654,  580.63845185,\n        669.91609715,  760.99374246,  839.62138777,  916.24903307,\n        958.51319104,  996.49083635,  961.16848165,  859.94612696,\n        739.37377227,  658.95141757,  432.02906288,  146.20670818,\n        -83.86564651, -228.03800121, -318.6103559 , -358.7827106 ,\n       -336.85506529, -229.27741998,  -52.64977468,  139.67787063,\n        269.55551593,  380.48316124,  483.26080654,  580.63845185,\n        669.91609715,  760.99374246,  839.62138777,  916.24903307,\n        958.51319104,  996.49083635,  961.16848165,  859.94612696,\n        739.37377227,  658.95141757,  432.02906288,  146.20670818,\n        -83.86564651, -228.03800121, -318.6103559 , -358.7827106 ,\n       -336.85506529, -229.27741998,  -52.64977468,  139.67787063,\n        269.55551593,  380.48316124,  483.26080654,  580.63845185,\n        669.91609715,  760.99374246,  839.62138777,  916.24903307,\n        958.51319104,  996.49083635,  961.16848165,  859.94612696,\n        739.37377227,  658.95141757,  432.02906288,  146.20670818,\n        -83.86564651, -228.03800121, -318.6103559 , -358.7827106 ,\n       -336.85506529, -229.27741998,  -52.64977468,  139.67787063,\n        269.55551593,  380.48316124,  483.26080654,  580.63845185,\n        669.91609715,  760.99374246,  839.62138777,  916.24903307,\n        739.38763218,  763.49027748,  731.34292279,  650.32056809,\n        555.1732134 ,  487.4008587 ,  323.50350401,  104.48114932,\n        -95.29120538, -236.56356007, -335.83591477, -394.10826946,\n       -418.38062416, -414.90297885, -377.42533355, -252.32268824,\n        -78.47004294,   92.63260237,  226.73524768,  336.96289298,\n        431.81553829,  512.41818359,  586.0208289 ,  651.1234742 ,\n        739.38763218,  763.49027748,  731.34292279,  650.32056809,\n        555.1732134 ,  487.4008587 ,  323.50350401,  104.48114932,\n        -95.29120538, -236.56356007, -335.83591477, -394.10826946,\n       -418.38062416, -414.90297885, -377.42533355, -252.32268824,\n        -78.47004294,   92.63260237,  226.73524768,  336.96289298,\n        431.81553829,  512.41818359,  586.0208289 ,  651.1234742 ,\n        958.51319104,  996.49083635,  961.16848165,  859.94612696,\n        739.37377227,  658.95141757,  432.02906288,  146.20670818,\n        -83.86564651, -228.03800121, -318.6103559 , -358.7827106 ,\n       -336.85506529, -229.27741998,  -52.64977468,  139.67787063,\n        269.55551593,  380.48316124,  483.26080654,  580.63845185,\n        669.91609715,  760.99374246,  839.62138777,  916.24903307,\n        958.51319104,  996.49083635,  961.16848165,  859.94612696,\n        739.37377227,  658.95141757,  432.02906288,  146.20670818,\n        -83.86564651, -228.03800121, -318.6103559 , -358.7827106 ,\n       -336.85506529, -229.27741998,  -52.64977468,  139.67787063,\n        269.55551593,  380.48316124,  483.26080654,  580.63845185,\n        669.91609715,  760.99374246,  839.62138777,  916.24903307,\n        958.51319104,  996.49083635,  961.16848165,  859.94612696,\n        739.37377227,  658.95141757,  432.02906288,  146.20670818,\n        -83.86564651, -228.03800121, -318.6103559 , -358.7827106 ,\n       -336.85506529, -229.27741998,  -52.64977468,  139.67787063,\n        269.55551593,  380.48316124,  483.26080654,  580.63845185,\n        669.91609715,  760.99374246,  839.62138777,  916.24903307,\n        958.51319104,  996.49083635,  961.16848165,  859.94612696,\n        739.37377227,  658.95141757,  432.02906288,  146.20670818,\n        -83.86564651, -228.03800121, -318.6103559 , -358.7827106 ,\n       -336.85506529, -229.27741998,  -52.64977468,  139.67787063,\n        269.55551593,  380.48316124,  483.26080654,  580.63845185,\n        669.91609715,  760.99374246,  839.62138777,  916.24903307,\n        958.51319104,  996.49083635,  961.16848165,  859.94612696,\n        739.37377227,  658.95141757,  432.02906288,  146.20670818,\n        -83.86564651, -228.03800121, -318.6103559 , -358.7827106 ,\n       -336.85506529, -229.27741998,  -52.64977468,  139.67787063,\n        269.55551593,  380.48316124,  483.26080654,  580.63845185,\n        669.91609715,  760.99374246,  839.62138777,  916.24903307,\n        739.38763218,  763.49027748,  731.34292279,  650.32056809,\n        555.1732134 ,  487.4008587 ,  323.50350401,  104.48114932,\n        -95.29120538, -236.56356007, -335.83591477, -394.10826946,\n       -418.38062416, -414.90297885, -377.42533355, -252.32268824,\n        -78.47004294,   92.63260237,  226.73524768,  336.96289298,\n        431.81553829,  512.41818359,  586.0208289 ,  651.1234742 ,\n        739.38763218,  763.49027748,  731.34292279,  650.32056809,\n        555.1732134 ,  487.4008587 ,  323.50350401,  104.48114932,\n        -95.29120538, -236.56356007, -335.83591477, -394.10826946,\n       -418.38062416, -414.90297885, -377.42533355, -252.32268824,\n        -78.47004294,   92.63260237,  226.73524768,  336.96289298,\n        431.81553829,  512.41818359,  586.0208289 ,  651.1234742 ,\n        958.51319104,  996.49083635,  961.16848165,  859.94612696,\n        739.37377227,  658.95141757,  432.02906288,  146.20670818,\n        -83.86564651, -228.03800121, -318.6103559 , -358.7827106 ,\n       -336.85506529, -229.27741998,  -52.64977468,  139.67787063,\n        269.55551593,  380.48316124,  483.26080654,  580.63845185,\n        669.91609715,  760.99374246,  839.62138777,  916.24903307,\n        958.51319104,  996.49083635,  961.16848165,  859.94612696,\n        739.37377227,  658.95141757,  432.02906288,  146.20670818,\n        -83.86564651, -228.03800121, -318.6103559 , -358.7827106 ,\n       -336.85506529, -229.27741998,  -52.64977468,  139.67787063,\n        269.55551593,  380.48316124,  483.26080654,  580.63845185,\n        669.91609715,  760.99374246,  839.62138777,  916.24903307])"
      ]
     },
     "execution_count": 76,
     "metadata": {},
     "output_type": "execute_result"
    }
   ],
   "source": [
    "msk=dem_sub.index.dayofweek>=5\n",
    "\n",
    "s[msk.astype(int),dem_sub.index.hour.values]"
   ]
  },
  {
   "cell_type": "code",
   "execution_count": 56,
   "metadata": {
    "autoscroll": false,
    "collapsed": false,
    "ein.tags": "worksheet-0",
    "slideshow": {
     "slide_type": "-"
    }
   },
   "outputs": [
    {
     "data": {
      "text/plain": [
       "1"
      ]
     },
     "execution_count": 56,
     "metadata": {},
     "output_type": "execute_result"
    }
   ],
   "source": []
  },
  {
   "cell_type": "markdown",
   "metadata": {
    "ein.tags": "worksheet-0",
    "slideshow": {
     "slide_type": "-"
    }
   },
   "source": [
    "Rambling Time!\n",
    "\n",
    "From a Kalman filter perspective, I think that sometimes the error/innovation terms can be written as $\\epsilon_t = y_t-\\hat{y}_t$, where $y_t$ is the actual value, and $\\hat{y}_t$ is the output of the model with no noise.  The innovation process, then gives a rule for updating (the set of parameters $\\alpha,\\beta,\\Gamma, l, b, s_{i,t}$) how to change in the "
   ]
  },
  {
   "cell_type": "code",
   "execution_count": null,
   "metadata": {
    "autoscroll": false,
    "collapsed": false,
    "ein.tags": "worksheet-0",
    "slideshow": {
     "slide_type": "-"
    }
   },
   "outputs": [],
   "source": []
  },
  {
   "cell_type": "code",
   "execution_count": 35,
   "metadata": {
    "autoscroll": false,
    "collapsed": false,
    "ein.tags": "worksheet-0",
    "slideshow": {
     "slide_type": "-"
    }
   },
   "outputs": [
    {
     "name": "stdout",
     "output_type": "stream",
     "text": [
      "Automatic pdb calling has been turned OFF\n"
     ]
    }
   ],
   "source": [
    "%pdb"
   ]
  }
 ],
 "metadata": {
  "name": "EBA_seasonal.ipynb"
 },
 "nbformat": 4,
 "nbformat_minor": 2
}
