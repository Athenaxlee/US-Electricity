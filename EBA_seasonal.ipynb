{
 "cells": [
  {
   "cell_type": "markdown",
   "metadata": {
    "ein.tags": "worksheet-0",
    "slideshow": {
     "slide_type": "-"
    }
   },
   "source": [
    "# Seasonal Regression\n",
    "\n",
    "The electricity demand series shows daily, weekly, and annual oscillations.  At a short time scale, I aim to capture the first two of these.\n",
    "\n",
    "The approaches I've seen suggest Fourier Series, linear regression, and Seasonal ARIMA.\n",
    "(I got quite stuck on how to detrend the series in a global fashion.)\n",
    "I will focus on building models on the last two weeks of data, with the goal of predicting electricity demand based on temperature, time of day, and day of week."
   ]
  },
  {
   "cell_type": "markdown",
   "metadata": {
    "ein.tags": "worksheet-0",
    "slideshow": {
     "slide_type": "-"
    }
   },
   "source": [
    "## Hyndman's Multiple Seasonal Exponential Smoothing\n",
    "\n",
    "This follows Rob Hyndman's approach towards multi-seasonal exponential smoothing.  (This generalizes the Holt-Winters smoothing to multiple seasons).\n",
    "His analysis includes forecasts of electricity generation, based on utility data (from well over 10 years ago).\n",
    "\n",
    "I chose to follow this model since most attempts at ARIMA rely on removing the seasonality, and I had hoped to just follow best practice with existing libraries.  Initial naive methods yield poor results, and failed to remove the seasonal pattern, or even worse imposed one.  An initial attempt at Fourier filtering on over a year of data also left similar trends.  Perhaps the Fourier approach could be salvaged via more sensible windowing functions. \n",
    "\n",
    "The original model for a variable $y_t$, with seasonal pattern with period $m$ is\n",
    "\\begin{align}\n",
    "  y_{t} &= l_{t-1} + b_{t-1} + s_{t-m} + \\epsilon_t \\\\\n",
    "  l_{t} &= l_{t-1} + \\alpha\\epsilon_t \\\\\n",
    "  b_{t} &= b_{t-1} + \\beta \\epsilon_t \\\\\n",
    "  s_{t} &= s_{t-m} + \\gamma \\epsilon_t\n",
    "\\end{align}\n",
    "where $l_t, b_t, s_t$ are the level, trend and seasonal patterns respectively.\n",
    "The noise/innovation $\\epsilon_t$ is assumed to be i.i.d. Gaussian and obey\n",
    "$E[\\epsilon_t]=0, E[\\epsilon_t\\epsilon_s]=\\delta_{ts}\\sigma^2$. The constants $\\alpha,\\beta,\\gamma$ are between zero and one.  (He notes that $m+2$ estimates must be made for the initial values of the level, trend and seasonal pattern).\n",
    "\n",
    "Hyndman's model allows multiple seasons, and allows the sub-seasonal terms to be updated more quickly than once per large season.  In utility data, the short season is the daily oscillation, while the longer season comes from the weekly oscillation induced by the work week.  For hourly data, the daily cycle has length $m_1=24$, with the weekly cycle taking $m_2=168$.  The ratio between them is $k=m_2/m_1=7.$  The number of seasonal patterns is $r\\le k$.  \n",
    "\n",
    "(I'm going to change Hyndman's notation to use $\\mathbf{I}$ to denote indicator/step functions).\n",
    "\\begin{align}\n",
    "  y_{t} &= l_{t-1}+b_{t-1} +\\sum_{i=1}^r \\mathbf{I}_{t,i}s_{i,t-m_1} +\\epsilon_{t}\\\\\n",
    "  s_{i,t} &= s_{i,t-m_1} + \\sum_{j=1}^r\\left(\\gamma_{ij}\\mathbf{I}_{t,j}\\right) \\epsilon_{t}  (i=1,2,\\ldots,r) \\\\\n",
    "  l_{t} &= l_{t-1} + b_{t-1}+\\alpha\\epsilon_t\\\\\n",
    "  b_t &= b_{t-1} + \\beta\\epsilon_t\\\\\n",
    "\\end{align}\n",
    "Here the indicator functions $\\mathbf{I}_{t,i}$ are unity if $t$ is in the seasonal pattern $i$, and zero otherwise.  For utility data, this will probably be weekday and holiday/weekend.  Here $\\gamma_{ij}$ denotes how much one seasonal pattern is updated based on another---Hyndman proposes a number of restrictions on these parameters.\n",
    "\n",
    "I will extend this to include an external variables for the deviation above a given temperature, so that $y_t\\rightarrow y_t+\\tau_p\\Theta(T_t-T_p)+\\tau_{n}\\Theta(T_n-T_t)$.\n",
    "\n",
    "He suggests using the first four weeks of data to estimate the parameters, by minimizing the squared error of the one-step ahead forecast.  Apparently maximum likelihood estimation was not recommended (10 years ago).\n",
    "\n",
    "So how to fit the parameters?  A really simple approach would be gradient descent?  Intuitively, the level is the average value, the bias is the average gradient.  The seasonality is the average seasonal pattern.  (This is the dumb STL decomposition used earlier?)"
   ]
  },
  {
   "cell_type": "code",
   "execution_count": 18,
   "metadata": {
    "autoscroll": false,
    "collapsed": false,
    "ein.tags": "worksheet-0",
    "slideshow": {
     "slide_type": "-"
    }
   },
   "outputs": [],
   "source": [
    "import pandas as pd\n",
    "import numpy as np\n",
    "import matplotlib.pyplot as plt\n",
    "\n",
    "from util.get_weather_data import convert_isd_to_df, convert_state_isd\n",
    "from util.EBA_util import remove_na, avg_extremes\n",
    "\n",
    "from numpy import pi,e\n",
    "\n",
    "%load_ext autoreload\n",
    "%autoreload 2\n",
    "\n",
    "%matplotlib inline"
   ]
  },
  {
   "cell_type": "code",
   "execution_count": null,
   "metadata": {
    "autoscroll": false,
    "collapsed": false,
    "ein.tags": "worksheet-0",
    "slideshow": {
     "slide_type": "-"
    }
   },
   "outputs": [],
   "source": [
    "ls data/pdx"
   ]
  },
  {
   "cell_type": "code",
   "execution_count": 2,
   "metadata": {
    "autoscroll": false,
    "collapsed": false,
    "ein.tags": "worksheet-0",
    "slideshow": {
     "slide_type": "-"
    }
   },
   "outputs": [
    {
     "name": "stdout",
     "output_type": "stream",
     "text": [
      "Read in PDX Frame from file\n"
     ]
    }
   ],
   "source": [
    "try:\n",
    "    df_joint=pd.read_csv('data/pdx_joint.txt',\n",
    "        index_col=0, parse_dates=True)\n",
    "    print('Read in PDX Frame from file')\n",
    "    dem=df_joint['Demand'].copy()\n",
    "    temp=df_joint['Temp'].copy()\n",
    "    fore=df_joint['Forecast'].copy()\n",
    "except:\n",
    "    air_df = pd.read_csv('data/air_code_df.gz')\n",
    "    #Just get the weather station data for cities in Oregon.\n",
    "    df_weather=convert_state_isd(air_df,'OR')\n",
    "    #Select temperature for Portland, OR\n",
    "    msk1=np.array(df_weather['city']=='Portland')\n",
    "    msk2=np.array(df_weather['state']=='OR')\n",
    "    df_pdx_weath=df_weather.loc[msk1&msk2]\n",
    "    #get electricity data for Portland General Electric\n",
    "    df_eba=pd.read_csv('data/EBA_time.gz',index_col=0,parse_dates=True)\n",
    "    msk=df_eba.columns.str.contains('Portland')\n",
    "    df_pdx=df_eba.loc[:,msk]\n",
    "    msk1=  df_pdx.columns.str.contains('[Dd]emand') \n",
    "    dem=df_pdx.loc[:,msk1]\n",
    "    #Make a combined Portland Dataframe for demand vs weather.\n",
    "    df_joint=pd.DataFrame(dem)\n",
    "    df_joint=df_joint.join(df_pdx_weath)\n",
    "    temp=df_joint['Temp']\n",
    "    df_joint['TempShift']=150+abs(temp-150)\n",
    "    df_joint = df_joint.rename(columns={df_joint.columns[0]:'Demand',\n",
    "             df_joint.columns[1]:'Forecast'})\n",
    "    df_joint.to_csv('data/pdx_joint.txt')\n",
    "\n",
    "    # msk=  df_eba.columns.str.contains('Demand') \\\n",
    "    #     & df_eba.columns.str.contains('demand')\n",
    "    # dem=df_pdx.loc[:,msk]\n",
    "    # #Make a combined Portland Dataframe for demand vs weather.\n",
    "    # df_joint=pd.DataFrame(dem)\n",
    "    # df_joint=df_joint.join(df_pdx_weath)\n",
    "    # temp=df_joint['Temp']\n",
    "    # df_joint['TempShift']=150+abs(temp-150)\n",
    "    # df_joint=df_joint.rename(columns={df_joint.columns[0]:'Demand',df_joint.columns[1]:'Forecast'})\n",
    "    # df_joint.to_csv('data/pdx_joint.txt')\n"
   ]
  },
  {
   "cell_type": "code",
   "execution_count": 3,
   "metadata": {
    "autoscroll": false,
    "collapsed": false,
    "ein.tags": "worksheet-0",
    "slideshow": {
     "slide_type": "-"
    }
   },
   "outputs": [
    {
     "name": "stdout",
     "output_type": "stream",
     "text": [
      "Number of extreme values 0. Number of zero values 148\n"
     ]
    },
    {
     "name": "stdout",
     "output_type": "stream",
     "text": [
      "Number of extreme values 1. Number of zero values 3\n",
      "Number of NA values 56\n"
     ]
    },
    {
     "name": "stdout",
     "output_type": "stream",
     "text": [
      "Number of NA values 156\n"
     ]
    }
   ],
   "source": [
    "#clean up data, remove NA\n",
    "dem = remove_na(dem)\n",
    "dem = avg_extremes(dem)\n",
    "temp = avg_extremes(remove_na(temp))"
   ]
  },
  {
   "cell_type": "code",
   "execution_count": 44,
   "metadata": {
    "autoscroll": false,
    "collapsed": false,
    "ein.tags": "worksheet-0",
    "slideshow": {
     "slide_type": "-"
    }
   },
   "outputs": [],
   "source": []
  },
  {
   "cell_type": "code",
   "execution_count": 13,
   "metadata": {
    "autoscroll": false,
    "collapsed": false,
    "ein.tags": "worksheet-0",
    "slideshow": {
     "slide_type": "-"
    }
   },
   "outputs": [],
   "source": [
    "def scale_data(D,T,method='std'):\n",
    "    \"\"\"scale_data\n",
    "    Scales both demand and temperature to have zero mean, \n",
    "    unit standard deviation.\n",
    "    Returns scaled data, as well as means, and standard deviations.\n",
    "    \"\"\"\n",
    "        \n",
    "    if (method=='std'):\n",
    "        scaling_df=pd.DataFrame(columns=['dem','temp'],\\\n",
    "                                index=['mu','std'])\n",
    "        scaling_df.loc['mu','dem']=D.mean()\n",
    "        scaling_df.loc['std','dem']=D.std()\n",
    "        scaling_df.loc['mu','temp']=T.mean()\n",
    "        scaling_df.loc['std','temp']=T.std()\n",
    "        T_scale=(T-T.mean())/T.std()\n",
    "        D_scale=(D-D.mean())/D.std()\n",
    "    elif (method=='maxmin'):\n",
    "        scaling_df=pd.DataFrame(columns=['dem','temp'],\\\n",
    "                                index=['max','min'])\n",
    "        scaling_df.loc['max','dem']=D.max()\n",
    "        scaling_df.loc['min','dem']=D.min()\n",
    "        scaling_df.loc['max','temp']=T.max()\n",
    "        scaling_df.loc['min','temp']=T.min()\n",
    "        T_scale=(T-T.min())/(T.max()-T.min())\n",
    "        D_scale=(D-D.min())/(D.max()-D.min())\n",
    "\n",
    "    return D_scale,T_scale,scaling_df\n",
    "\n",
    "def plot_pred(series_list,label_list):\n",
    "    \"\"\"make plot to compare fitted parameters\"\"\"\n",
    "    for s,l in zip(series_list,label_list):\n",
    "        plt.plot(s,label=l)    \n",
    "    plt.legend()\n",
    "    plt.show()"
   ]
  },
  {
   "cell_type": "code",
   "execution_count": 15,
   "metadata": {
    "autoscroll": false,
    "collapsed": false,
    "ein.tags": "worksheet-0",
    "slideshow": {
     "slide_type": "-"
    }
   },
   "outputs": [],
   "source": [
    "?ms"
   ]
  },
  {
   "cell_type": "markdown",
   "metadata": {
    "ein.tags": "worksheet-0",
    "slideshow": {
     "slide_type": "-"
    }
   },
   "source": [
    "The following code tries to optimize the hyperparameters.  It seems to lock onto essentially a persistence model.  The best guess is to just use yesterday's electricity usage to predict today's. (Considering that was going to be my benchmark for simple and effective, this is somewhat disheartening.\n",
    "\n",
    "I tried this numerically rather than via directly coding up gradient descent, since the closed form derivatives become nasty polynomials in the parameters $(\\alpha,\\beta,\\gamma)$. The previous values $y_{t-1}$ also depend on the choice of parameters, so when you consider the derivative of the cost function\n",
    "$\\partial_\\alpha J = T^{-1}\\sum_t \\partial_\\alpha(y_t-\\hat{y}_t)$ there is a nested sum of terms (since the parameter estimates rely on the previous errors too)."
   ]
  },
  {
   "cell_type": "code",
   "execution_count": 52,
   "metadata": {
    "autoscroll": false,
    "collapsed": false,
    "ein.tags": "worksheet-0",
    "slideshow": {
     "slide_type": "-"
    }
   },
   "outputs": [],
   "source": [
    "from EBA_seasonal.multiseasonal import multiseasonal as ms\n"
   ]
  },
  {
   "cell_type": "code",
   "execution_count": 43,
   "metadata": {
    "autoscroll": false,
    "collapsed": false,
    "ein.tags": "worksheet-0",
    "slideshow": {
     "slide_type": "-"
    }
   },
   "outputs": [],
   "source": [
    "start = 24*7*30\n",
    "end =  start+24*7*4+24*7*20\n",
    "dem_sub = dem[start:end]\n",
    "temp_sub = temp[start:end]\n",
    "fore_sub = fore[start:end]\n",
    "\n",
    "alpha=0.3\n",
    "beta=0.2\n",
    "gamma=0.04*np.array([[1,0.4],[0.4,1]])\n",
    "global icount\n",
    "# icount=0\n",
    "# ms_model=ms(alpha=alpha,beta=beta,gamma=gamma)\n",
    "# ytot=ms_model.STL_onestep(dem_sub)\n",
    "\n",
    "alpha2=0.1\n",
    "beta2=0.1\n",
    "gamma2=0.1*np.array([[1,0.2],[0.2,1]])\n",
    "ms_model2=ms(alpha=alpha2,beta=beta2,gamma=gamma2)\n",
    "ytot2=ms_model2.STL_dayahead(dem_sub)"
   ]
  },
  {
   "cell_type": "code",
   "execution_count": 16,
   "metadata": {
    "autoscroll": false,
    "collapsed": false,
    "ein.tags": "worksheet-0",
    "slideshow": {
     "slide_type": "-"
    }
   },
   "outputs": [
    {
     "data": {
      "text/plain": [
       "-0.75"
      ]
     },
     "execution_count": 16,
     "metadata": {},
     "output_type": "execute_result"
    }
   ],
   "source": []
  },
  {
   "cell_type": "code",
   "execution_count": 58,
   "metadata": {
    "autoscroll": false,
    "collapsed": false,
    "ein.tags": "worksheet-0",
    "slideshow": {
     "slide_type": "-"
    }
   },
   "outputs": [
    {
     "name": "stdout",
     "output_type": "stream",
     "text": [
      "alpha 0.961937766553\n",
      "beta 0.987458454835\n",
      "g00 0.935620914566\n",
      "g01 0.842604275744\n",
      "g10 0.99\n",
      "g11 0.974833339543\n",
      "Failed to hit tolerance after <built-in function iter> iter\n",
      "\n",
      "Cost: 162.792505951 162.792505951\n"
     ]
    },
    {
     "data": {
      "text/plain": [
       "<matplotlib.figure.Figure at 0x7efbc473b1d0>"
      ]
     },
     "metadata": {},
     "output_type": "display_data"
    },
    {
     "name": "stdout",
     "output_type": "stream",
     "text": [
      "Cost, Old Cost = 162.7925059513496,194.5900364365347\n"
     ]
    },
    {
     "name": "stdout",
     "output_type": "stream",
     "text": [
      "param g10 >1(!): 1.0197246145523096\n",
      "J,J2,p 162.836823899 163.375996048 0.994848643893\n"
     ]
    },
    {
     "name": "stdout",
     "output_type": "stream",
     "text": [
      "param g10 >1(!): 1.0008388649258877\n",
      "J,J2,p 161.842367022 162.575950566 0.966483421386\n"
     ]
    },
    {
     "name": "stdout",
     "output_type": "stream",
     "text": [
      "alpha 0.798253113222\n",
      "beta 0.7841341707\n",
      "g00 0.750873378056\n",
      "g01 0.660157029438\n",
      "g10 0.786868073404\n",
      "g11 0.772494030183\n"
     ]
    },
    {
     "data": {
      "text/plain": [
       "<matplotlib.figure.Figure at 0x7efbad74ce48>"
      ]
     },
     "metadata": {},
     "output_type": "display_data"
    },
    {
     "name": "stdout",
     "output_type": "stream",
     "text": [
      "Cost, Old Cost = 162.55333010689597,194.5900364365347\n"
     ]
    },
    {
     "name": "stdout",
     "output_type": "stream",
     "text": [
      "alpha 0.538932601202\n",
      "beta 0.582129765463\n",
      "g00 0.594470006645\n",
      "g01 0.499929063982\n",
      "g10 0.571474679297\n",
      "g11 0.534068537457\n"
     ]
    },
    {
     "data": {
      "text/plain": [
       "<matplotlib.figure.Figure at 0x7efbc4709240>"
      ]
     },
     "metadata": {},
     "output_type": "display_data"
    },
    {
     "name": "stdout",
     "output_type": "stream",
     "text": [
      "Cost, Old Cost = 170.0648438472139,194.5900364365347\n"
     ]
    },
    {
     "name": "stdout",
     "output_type": "stream",
     "text": [
      "alpha 0.33997307411\n",
      "beta 0.310102388118\n",
      "g00 0.278298353242\n",
      "g01 0.262658769914\n",
      "g10 0.29908116964\n",
      "g11 0.303435341308\n"
     ]
    },
    {
     "data": {
      "text/plain": [
       "<matplotlib.figure.Figure at 0x7efbad7615c0>"
      ]
     },
     "metadata": {},
     "output_type": "display_data"
    },
    {
     "name": "stdout",
     "output_type": "stream",
     "text": [
      "Cost, Old Cost = 179.72791206939993,194.5900364365347\n"
     ]
    }
   ],
   "source": [
    "debug=True\n",
    "ms_model2=ms(alpha=alpha2,beta=beta2,gamma=gamma2)\n",
    "ypred=ms_model2.optimize_param(dem_sub,rtol=1E-6,nmax=40)"
   ]
  },
  {
   "cell_type": "markdown",
   "metadata": {
    "ein.tags": "worksheet-0",
    "slideshow": {
     "slide_type": "-"
    }
   },
   "source": [
    "So while this hasn't completely converted, the trend is plain enough:\n",
    "this model wants a persistence model. "
   ]
  },
  {
   "cell_type": "markdown",
   "metadata": {
    "ein.tags": "worksheet-0",
    "slideshow": {
     "slide_type": "-"
    }
   },
   "source": [
    "## Multiple Seasonality and Temperature\n",
    "\n",
    "Let's now try to also include the temperature.  From earlier graphs, we'll try to fit a model of the form $A_0|T-T_0|$, i.e. electricity usage linearly increases the further the temperature is from some ideal temperature.  Let's try to first fit the temperature component, then\n",
    "fit the remainder with the prior exponential smoothing model.\n",
    "\n",
    "In lieu of having actual forecast data, I'm doing to use the actual recorded temperatures to develop the backcast. I should be able to beat the genuine day-ahead forecast, since those are relying on the weather forecast which has its own errors.  But I'm handicapped by only having a limited subset of data (the aggregate demand for a given company)\n",
    "to forecast on, and guessing about which stations are important. \n"
   ]
  },
  {
   "cell_type": "code",
   "execution_count": 62,
   "metadata": {
    "autoscroll": false,
    "collapsed": false,
    "ein.tags": "worksheet-0",
    "slideshow": {
     "slide_type": "-"
    }
   },
   "outputs": [],
   "source": [
    "from EBA_seasonal.multiseasonal_temp import multiseasonal_temp as ms_temp"
   ]
  },
  {
   "cell_type": "code",
   "execution_count": 335,
   "metadata": {
    "autoscroll": false,
    "collapsed": false,
    "ein.tags": "worksheet-0",
    "slideshow": {
     "slide_type": "-"
    }
   },
   "outputs": [],
   "source": [
    "start = 24*7*0\n",
    "end =  start+24*7*4+24*7*24\n",
    "dem_sub = dem[start:end]\n",
    "temp_sub = temp[start:end]\n",
    "fore_sub = fore[start:end]\n",
    "\n",
    "alpha2=0.3\n",
    "beta2=0.2\n",
    "gamma2=0.05*np.array([[1,0.2],[0.2,1]])\n",
    "ms_model3=ms_temp(alpha=alpha2,beta=beta2,gamma=gamma2)\n",
    "ytot3=ms_model3.STL_dayahead(dem_sub,temp_sub)"
   ]
  },
  {
   "cell_type": "code",
   "execution_count": 69,
   "metadata": {
    "autoscroll": false,
    "collapsed": false,
    "ein.tags": "worksheet-0",
    "slideshow": {
     "slide_type": "-"
    }
   },
   "outputs": [],
   "source": [
    "?np.fmod"
   ]
  },
  {
   "cell_type": "code",
   "execution_count": 64,
   "metadata": {
    "autoscroll": false,
    "collapsed": false,
    "ein.tags": "worksheet-0",
    "slideshow": {
     "slide_type": "-"
    }
   },
   "outputs": [
    {
     "ename": "UnboundLocalError",
     "evalue": "local variable 'oldJ' referenced before assignment",
     "output_type": "error",
     "traceback": [
      "\u001b[0;31m---------------------------------------------------------------------------\u001b[0m",
      "\u001b[0;31mUnboundLocalError\u001b[0m                         Traceback (most recent call last)",
      "\u001b[0;32m<ipython-input-64-4c01ed69b31f>\u001b[0m in \u001b[0;36m<module>\u001b[0;34m()\u001b[0m\n\u001b[1;32m      4\u001b[0m \u001b[0mgamma2\u001b[0m\u001b[0;34m=\u001b[0m\u001b[0;36m0.01\u001b[0m\u001b[0;34m*\u001b[0m\u001b[0mnp\u001b[0m\u001b[0;34m.\u001b[0m\u001b[0marray\u001b[0m\u001b[0;34m(\u001b[0m\u001b[0;34m[\u001b[0m\u001b[0;34m[\u001b[0m\u001b[0;36m1\u001b[0m\u001b[0;34m,\u001b[0m\u001b[0;36m0.2\u001b[0m\u001b[0;34m]\u001b[0m\u001b[0;34m,\u001b[0m\u001b[0;34m[\u001b[0m\u001b[0;36m0.2\u001b[0m\u001b[0;34m,\u001b[0m\u001b[0;36m1\u001b[0m\u001b[0;34m]\u001b[0m\u001b[0;34m]\u001b[0m\u001b[0;34m)\u001b[0m\u001b[0;34m\u001b[0m\u001b[0m\n\u001b[1;32m      5\u001b[0m \u001b[0mms_model3\u001b[0m\u001b[0;34m=\u001b[0m\u001b[0mms_temp\u001b[0m\u001b[0;34m(\u001b[0m\u001b[0malpha\u001b[0m\u001b[0;34m=\u001b[0m\u001b[0malpha2\u001b[0m\u001b[0;34m,\u001b[0m\u001b[0mbeta\u001b[0m\u001b[0;34m=\u001b[0m\u001b[0mbeta2\u001b[0m\u001b[0;34m,\u001b[0m\u001b[0mgamma\u001b[0m\u001b[0;34m=\u001b[0m\u001b[0mgamma2\u001b[0m\u001b[0;34m)\u001b[0m\u001b[0;34m\u001b[0m\u001b[0m\n\u001b[0;32m----> 6\u001b[0;31m \u001b[0mypred\u001b[0m\u001b[0;34m=\u001b[0m\u001b[0mms_model3\u001b[0m\u001b[0;34m.\u001b[0m\u001b[0moptimize_param\u001b[0m\u001b[0;34m(\u001b[0m\u001b[0mdem_sub\u001b[0m\u001b[0;34m,\u001b[0m\u001b[0mtemp_sub\u001b[0m\u001b[0;34m,\u001b[0m\u001b[0mrtol\u001b[0m\u001b[0;34m=\u001b[0m\u001b[0;36m1E-4\u001b[0m\u001b[0;34m,\u001b[0m\u001b[0mnmax\u001b[0m\u001b[0;34m=\u001b[0m\u001b[0;36m20\u001b[0m\u001b[0;34m)\u001b[0m\u001b[0;34m\u001b[0m\u001b[0m\n\u001b[0m",
      "\u001b[0;32m/home/jonathan/Data-Science/US-Electricity/EBA_seasonal/multiseasonal_temp.py\u001b[0m in \u001b[0;36moptimize_param\u001b[0;34m(self, y, T, ninit, rtol, eta, lr, nmax)\u001b[0m\n\u001b[1;32m    189\u001b[0m                 \u001b[0;32mreturn\u001b[0m \u001b[0mpred\u001b[0m\u001b[0;34m\u001b[0m\u001b[0m\n\u001b[1;32m    190\u001b[0m             \u001b[0;32mif\u001b[0m\u001b[0;34m(\u001b[0m\u001b[0mNi\u001b[0m\u001b[0;34m%\u001b[0m\u001b[0;36m10\u001b[0m\u001b[0;34m==\u001b[0m\u001b[0;36m0\u001b[0m\u001b[0;34m)\u001b[0m\u001b[0;34m:\u001b[0m\u001b[0;34m\u001b[0m\u001b[0m\n\u001b[0;32m--> 191\u001b[0;31m                 \u001b[0mprint\u001b[0m\u001b[0;34m(\u001b[0m\u001b[0;34m\"Cost, Old Cost = {},{}\"\u001b[0m\u001b[0;34m.\u001b[0m\u001b[0mformat\u001b[0m\u001b[0;34m(\u001b[0m\u001b[0mJ\u001b[0m\u001b[0;34m,\u001b[0m\u001b[0moldJ\u001b[0m\u001b[0;34m)\u001b[0m\u001b[0;34m)\u001b[0m\u001b[0;34m\u001b[0m\u001b[0m\n\u001b[0m\u001b[1;32m    192\u001b[0m                 \u001b[0moldJ\u001b[0m \u001b[0;34m=\u001b[0m \u001b[0mJ\u001b[0m\u001b[0;34m\u001b[0m\u001b[0m\n\u001b[1;32m    193\u001b[0m                 \u001b[0mself\u001b[0m\u001b[0;34m.\u001b[0m\u001b[0mplot_pred\u001b[0m\u001b[0;34m(\u001b[0m\u001b[0;34m[\u001b[0m\u001b[0mpred\u001b[0m\u001b[0;34m,\u001b[0m\u001b[0my\u001b[0m\u001b[0;34m]\u001b[0m\u001b[0;34m,\u001b[0m\u001b[0;34m[\u001b[0m\u001b[0;34m'Predicted'\u001b[0m\u001b[0;34m,\u001b[0m\u001b[0;34m'Actual'\u001b[0m\u001b[0;34m]\u001b[0m\u001b[0;34m)\u001b[0m\u001b[0;34m\u001b[0m\u001b[0m\n",
      "\u001b[0;31mUnboundLocalError\u001b[0m: local variable 'oldJ' referenced before assignment"
     ]
    },
    {
     "name": "stdout",
     "output_type": "stream",
     "text": [
      "param g11 >1(!): 1.0649269405798594\n"
     ]
    },
    {
     "name": "stdout",
     "output_type": "stream",
     "text": [
      "param g00 <0(!): -3.870524806923486e-07\n"
     ]
    },
    {
     "data": {
      "text/plain": [
       "<matplotlib.figure.Figure at 0x7efbc47e6cc0>"
      ]
     },
     "metadata": {},
     "output_type": "display_data"
    },
    {
     "name": "stdout",
     "output_type": "stream",
     "text": [
      "Iter 9.  Cost 7764570880.614731\n",
      "{'alpha': 0.49522369142511735, 'beta': 0.094417224631956329, 'g00': 3.8146972656250001e-08, 'g01': 0.68561136607340301, 'g10': 0.52770177070777846, 'g11': 0.99, 'An': 9.3879412714983559, 'Ap': 10.347945089566377, 'Tn': 99.943893732225732, 'Tp': 199.87888365094958}\n"
     ]
    },
    {
     "name": "stdout",
     "output_type": "stream",
     "text": [
      "param g11 >1(!): 1.1688228695988632\n"
     ]
    },
    {
     "name": "stdout",
     "output_type": "stream",
     "text": [
      "param g00 <0(!): -1.658315106889191e-06\n"
     ]
    },
    {
     "data": {
      "text/plain": [
       "<matplotlib.figure.Figure at 0x7efbad880d30>"
      ]
     },
     "metadata": {},
     "output_type": "display_data"
    },
    {
     "name": "stdout",
     "output_type": "stream",
     "text": [
      "Iter 8.  Cost 478786196.06532\n",
      "{'alpha': 0.49232998972816222, 'beta': 0.094417224522261103, 'g00': 1.52587890625e-07, 'g01': 0.60019195375986534, 'g10': 0.48266905138945182, 'g11': 0.99, 'An': 9.2621735615924479, 'Ap': 10.34010471830346, 'Tn': 99.995765707025768, 'Tp': 199.8329626434882}\n"
     ]
    },
    {
     "name": "stdout",
     "output_type": "stream",
     "text": [
      "param g11 >1(!): 1.0384767170573417\n"
     ]
    },
    {
     "name": "stdout",
     "output_type": "stream",
     "text": [
      "param g00 <0(!): -6.805117729810163e-06\n"
     ]
    },
    {
     "data": {
      "text/plain": [
       "<matplotlib.figure.Figure at 0x7efbad69a5f8>"
      ]
     },
     "metadata": {},
     "output_type": "display_data"
    },
    {
     "name": "stdout",
     "output_type": "stream",
     "text": [
      "Iter 7.  Cost 235180828.89094067\n",
      "{'alpha': 0.48845283743887297, 'beta': 0.094417224304653755, 'g00': 6.1035156250000001e-07, 'g01': 0.57665909483490685, 'g10': 0.46965200577894517, 'g11': 0.98244088363651283, 'An': 9.1206260531718222, 'Ap': 10.332771958110374, 'Tn': 100.06278226395627, 'Tp': 199.76531573520111}\n"
     ]
    },
    {
     "name": "stdout",
     "output_type": "stream",
     "text": [
      "param g00 <0(!): -2.8684537847367726e-05\n"
     ]
    },
    {
     "data": {
      "text/plain": [
       "<matplotlib.figure.Figure at 0x7efbad602f28>"
      ]
     },
     "metadata": {},
     "output_type": "display_data"
    },
    {
     "name": "stdout",
     "output_type": "stream",
     "text": [
      "Iter 6.  Cost 25493053.993552346\n",
      "{'alpha': 0.48325952966204561, 'beta': 0.094417222142488016, 'g00': 2.4414062500000001e-06, 'g01': 0.57235319901360981, 'g10': 0.32744861581062745, 'g11': 0.80006842884992857, 'An': 9.1584289431551511, 'Ap': 10.344488004549909, 'Tn': 100.13408564815754, 'Tp': 199.69350283151255}\n"
     ]
    },
    {
     "name": "stdout",
     "output_type": "stream",
     "text": [
      "param g00 <0(!): -0.00012215200494546428\n"
     ]
    },
    {
     "data": {
      "text/plain": [
       "<matplotlib.figure.Figure at 0x7efbad6e2080>"
      ]
     },
     "metadata": {},
     "output_type": "display_data"
    },
    {
     "name": "stdout",
     "output_type": "stream",
     "text": [
      "Iter 5.  Cost 254176.6623518653\n",
      "{'alpha': 0.44279822931283014, 'beta': 0.094417196425155309, 'g00': 9.7656250000000002e-06, 'g01': 0.43154245211536979, 'g10': 0.25382218024223469, 'g11': 0.76210190501546637, 'An': 9.3377598723122883, 'Ap': 10.368362304637838, 'Tn': 100.14490515581939, 'Tp': 199.68884451895389}\n"
     ]
    },
    {
     "name": "stdout",
     "output_type": "stream",
     "text": [
      "param g00 <0(!): -0.00047963700423358065\n"
     ]
    },
    {
     "data": {
      "text/plain": [
       "<matplotlib.figure.Figure at 0x7efbad6c5e80>"
      ]
     },
     "metadata": {},
     "output_type": "display_data"
    },
    {
     "name": "stdout",
     "output_type": "stream",
     "text": [
      "Iter 4.  Cost 174272.83319841514\n",
      "{'alpha': 0.40201584694226744, 'beta': 0.094417190660399497, 'g00': 3.9062500000000001e-05, 'g01': 0.35771680863193217, 'g10': 0.2377452006707822, 'g11': 0.58449198753826059, 'An': 9.5231649969058854, 'Ap': 10.252912661352045, 'Tn': 100.16234299077578, 'Tp': 199.71059072220646}\n"
     ]
    },
    {
     "name": "stdout",
     "output_type": "stream",
     "text": [
      "param g00 <0(!): -0.0018370121896625921\n"
     ]
    },
    {
     "data": {
      "text/plain": [
       "<matplotlib.figure.Figure at 0x7efbad9340f0>"
      ]
     },
     "metadata": {},
     "output_type": "display_data"
    },
    {
     "name": "stdout",
     "output_type": "stream",
     "text": [
      "Iter 3.  Cost 13081.968793468379\n",
      "{'alpha': 0.29546703467194901, 'beta': 0.09443071306488672, 'g00': 0.00015625, 'g01': 0.27214262638053105, 'g10': 0.17995264748236406, 'g11': 0.49218697396599798, 'An': 9.6528300778041771, 'Ap': 10.160493463845773, 'Tn': 100.17137536774707, 'Tp': 199.74228285967692}\n"
     ]
    },
    {
     "name": "stdout",
     "output_type": "stream",
     "text": [
      "param g00 <0(!): -0.0071055514155600645\n"
     ]
    },
    {
     "data": {
      "text/plain": [
       "<matplotlib.figure.Figure at 0x7efbad7c3a58>"
      ]
     },
     "metadata": {},
     "output_type": "display_data"
    },
    {
     "name": "stdout",
     "output_type": "stream",
     "text": [
      "Iter 2.  Cost 6537.850021235263\n",
      "{'alpha': 0.18848168217134709, 'beta': 0.094499554646978429, 'g00': 0.00062500000000000001, 'g01': 0.24637759031132186, 'g10': 0.14404893509803912, 'g11': 0.37334827852512753, 'An': 9.8127781255451794, 'Ap': 10.008181750009198, 'Tn': 100.16022800404721, 'Tp': 199.84672186735816}\n"
     ]
    },
    {
     "name": "stdout",
     "output_type": "stream",
     "text": [
      "param g00 <0(!): -0.017169512167272583\n"
     ]
    },
    {
     "data": {
      "text/plain": [
       "<matplotlib.figure.Figure at 0x7efbad8670f0>"
      ]
     },
     "metadata": {},
     "output_type": "display_data"
    },
    {
     "name": "stdout",
     "output_type": "stream",
     "text": [
      "Iter 1.  Cost 531.3260799863366\n",
      "{'alpha': 0.097365491009339167, 'beta': 0.10842520729357974, 'g00': 0.0025000000000000001, 'g01': 0.18749313633057749, 'g10': 0.059398719068424047, 'g11': 0.19388093853628177, 'An': 9.8189318468986624, 'Ap': 9.9499949040960534, 'Tn': 100.11633135592362, 'Tp': 199.99257793903374}\n"
     ]
    },
    {
     "name": "stdout",
     "output_type": "stream",
     "text": [
      "param g00 <0(!): -0.013010504648192525\n"
     ]
    }
   ],
   "source": [
    "debug=True\n",
    "alpha2=0.1\n",
    "beta2=0.1\n",
    "gamma2=0.01*np.array([[1,0.2],[0.2,1]])\n",
    "ms_model3=ms_temp(alpha=alpha2,beta=beta2,gamma=gamma2)\n",
    "ypred=ms_model3.optimize_param(dem_sub,temp_sub,rtol=1E-4,nmax=20)"
   ]
  },
  {
   "cell_type": "code",
   "execution_count": 338,
   "metadata": {
    "autoscroll": false,
    "collapsed": false,
    "ein.tags": "worksheet-0",
    "slideshow": {
     "slide_type": "-"
    }
   },
   "outputs": [
    {
     "data": {
      "text/plain": [
       "<matplotlib.figure.Figure at 0x7efb72951e10>"
      ]
     },
     "metadata": {},
     "output_type": "display_data"
    }
   ],
   "source": [
    "per=slice('2015-12-14','2016-01-07')\n",
    "plt.figure(figsize=(12,5))\n",
    "plt.plot(ytot3[per],'b',label='My Predicted')\n",
    "plt.plot(fore_sub[per],'g',label='Actual Predicted')\n",
    "plt.plot(dem_sub[per],'r',label='Actual')\n",
    "plt.legend()\n",
    "plt.show()"
   ]
  },
  {
   "cell_type": "code",
   "execution_count": 266,
   "metadata": {
    "autoscroll": false,
    "collapsed": false,
    "ein.tags": "worksheet-0",
    "slideshow": {
     "slide_type": "-"
    }
   },
   "outputs": [
    {
     "data": {
      "text/plain": [
       "142.86281293402251"
      ]
     },
     "execution_count": 266,
     "metadata": {},
     "output_type": "execute_result"
    }
   ],
   "source": [
    "ms_model3.T0"
   ]
  },
  {
   "cell_type": "code",
   "execution_count": 302,
   "metadata": {
    "autoscroll": false,
    "collapsed": false,
    "ein.tags": "worksheet-0",
    "slideshow": {
     "slide_type": "-"
    }
   },
   "outputs": [
    {
     "data": {
      "text/plain": [
       "<matplotlib.figure.Figure at 0x7efbb407b048>"
      ]
     },
     "metadata": {},
     "output_type": "display_data"
    }
   ],
   "source": [
    "plt.figure()\n",
    "plt.plot(dem_sub[per],'b',1500+ms_model3.Ap*np.abs(temp_sub[per]-ms_model3.Tp),'r')\n",
    "plt.show()"
   ]
  },
  {
   "cell_type": "markdown",
   "metadata": {
    "ein.tags": "worksheet-0",
    "slideshow": {
     "slide_type": "-"
    }
   },
   "source": [
    "# Thresholded Temperature Model\n",
    "\n",
    "Let's just try to build a linear model for the temperature on top of this.\n",
    "I'll assume that heating/cooling might have different coefficients, so the temperature component of the model at time $t$ is\n",
    "\\begin{equation}\n",
    "D_t =  a_0+ a_+[T_t-T_{+}]_{+} + a_-[T_{-}-T_t]_{+},\n",
    "\\end{equation}\n",
    "where $[f]_+=f$ if $f>0$, and is zero otherwise.  If we optimize the mean square\n",
    "error, then the components can be found by solving for the values that minimize the derivatives.\n",
    "If criteria is mean square error, then can solve directly for parameters\n",
    "$J = sum_t[\\hat{D}_t-D_t)^2$, where $\\hat{D}_t$ is the true value.\n",
    "We must solve $\\partial J/\\partial \\alpha = 0 \\rightarrow \\sum_t \\frac{\\partial D_t}{\\partial\\alpha}(\\hat{D}_t-D_t) $\n",
    "\n",
    "Those conditions are\n",
    "\\begin{align}\n",
    "    \\sum_t(\\hat{D}_t-D_t)=0  \\qquad (a_0)\\\\\n",
    "    \\sum_{t\\in T_\\pm}[T_t-T_\\pm]_\\pm(\\hat{D}_t-D_t)=0  \\qquad (a_\\pm)\\\\\n",
    "    \\sum_{t\\in T_\\pm}(\\pm a_{\\pm})(\\hat{D}_t-D_t)=0  \\qquad (T_\\pm)\\\\\n",
    "\\end{align}\n"
   ]
  },
  {
   "cell_type": "markdown",
   "metadata": {
    "ein.tags": "worksheet-0",
    "slideshow": {
     "slide_type": "-"
    }
   },
   "source": [
    "(First OOP class - absolutely ridiculous)  Will just use a pandas Dataframe - want a named set of numbers, with defined operations.  Already here.  "
   ]
  },
  {
   "cell_type": "code",
   "execution_count": 174,
   "metadata": {
    "autoscroll": false,
    "collapsed": false,
    "ein.tags": "worksheet-0",
    "slideshow": {
     "slide_type": "-"
    }
   },
   "outputs": [],
   "source": [
    "#Experimenting with OOP for making \"vector\" of parameters with named labels.\n",
    "#Feels daft - if there's a less stupid way, I'll try to fix this.  (Just use a Dataframe!?)\n",
    "#Initial attempts at getting smarter initialization (with arguments to make a dict just returned empty.\n",
    "# class param_vec(dict):\n",
    "#     \"\"\"Class for model parameters.\n",
    "#     Stores parameters in dict, with arithmatic operations.\n",
    "#     \"\"\"\n",
    "#     #Define elementwise subtraction/addition\n",
    "#     def __add__(self,x):\n",
    "#         y = self.copy()\n",
    "#         if isinstance(x,(int,float)):\n",
    "#             for i,v in self.items():\n",
    "#                 y[i]=self[i]+x\n",
    "#         else:\n",
    "#             for i,v in self.items():\n",
    "#                 y[i]=self[i]+x[i]\n",
    "#         return param_vec(y)\n",
    "\n",
    "#     #Define elementwise subtraction/addition\n",
    "#     def __radd__(self,x):\n",
    "#         return param_vec.__add__(self,x)\n",
    "    \n",
    "#     #Define elementwise subtraction.\n",
    "#     def __sub__(self,x):\n",
    "#         y=self.copy()\n",
    "#         if isinstance(x,(int,float)):\n",
    "#             for i,v in self.items():\n",
    "#                 y[i]=v-x\n",
    "#         else:        \n",
    "#             for i,v in self.items():\n",
    "#                 y[i]=v-x[i]\n",
    "#         return param_vec(y)\n",
    "                \n",
    "#     #Define elementwise subtraction/addition\n",
    "#     def __rsub__(self,x):\n",
    "#         return param_vec.__sub__(self,x)\n",
    "                \n",
    "#     #Define elementwise subtraction.\n",
    "#     def __truediv__(self,x):\n",
    "#         y=self.copy()\n",
    "#         if isinstance(x,(int,float)):\n",
    "#             for i,v in self.items():\n",
    "#                 y[i]=v/x\n",
    "#         else:        \n",
    "#             for i,v in self.items():\n",
    "#                 y[i]=v/x[i]\n",
    "#         return param_vec(y)\n",
    "                \n",
    "#     #Define elementwise subtraction.\n",
    "#     def __mul__(self,x):\n",
    "#         y=self.copy()\n",
    "#         if isinstance(x,(int,float)):\n",
    "#             for i,v in self.items():\n",
    "#                 y[i]=v*x\n",
    "#         else:        \n",
    "#             for i,v in self.items():\n",
    "#                 y[i]=v*x[i]\n",
    "#         return param_vec(y)\n",
    "                \n",
    "#     #Define elementwise subtraction.\n",
    "#     def __rmul__(self,x):\n",
    "#         return param_vec.__mul__(self,x)\n",
    "\n",
    "def param_vec(names,vals):\n",
    "    p=pd.Series(vals,index=names)\n",
    "    return p\n",
    "\n",
    "#might extend to contain all of the modelling stuff?          "
   ]
  },
  {
   "cell_type": "code",
   "execution_count": 171,
   "metadata": {
    "autoscroll": false,
    "collapsed": false,
    "ein.tags": "worksheet-0",
    "slideshow": {
     "slide_type": "-"
    }
   },
   "outputs": [],
   "source": [
    "class just_temp_model:\n",
    "    def __init__(self,names=[],vals=[]):\n",
    "        self.param= pd.Series(vals,index=names)\n",
    "\n",
    "    def temp_model(self,T):\n",
    "        \"\"\"temp_model(self,T)\n",
    "        Tries to fit linear model for electricity demand to temperature.\n",
    "        Initially tried to allow thresholding, and different slopes for heating/cooling.  \n",
    "        Will now just try simpler linear model a_p|T-T_p|.\n",
    "        \"\"\" \n",
    "        m1 = T>self.param['Tp']\n",
    "        m2 = T<self.param['Tn']\n",
    "        y=np.zeros(T.shape)\n",
    "        y[m1] = (T[m1]-self.param['Tp'])*self.param['ap']\n",
    "        y[m2] = (self.param['Tn']-T[m2])*self.param['an']\n",
    "        y=y+self.param['a0']\n",
    "        #y = param['a0']+ param['ap']*np.abs(T-param['Tp'])\n",
    "        y=pd.Series(y,name='Predicted Demand',index=T.index)\n",
    "        return y\n",
    "\n",
    "    def temp_model_grad(self,D,Dhat,T):\n",
    "        \"\"\"temp_model_grad\n",
    "        Compute gradients of model w.r.t. parameters.\n",
    "        Assumes loss-function is mean-square.\n",
    "        Dhat - measured demand\n",
    "        D    - predicted demand\n",
    "        T    - measured temperature\n",
    "        \"\"\"\n",
    "        m1 = T>self.param['Tp']\n",
    "        m2 = T<self.param['Tn']\n",
    "        Nt = len(T)\n",
    "        Derr=D-Dhat\n",
    "        #initialize with zeros\n",
    "        dparam=param_vec(self.param.keys(),np.zeros(len(self.param)))\n",
    "        dparam['a0'] = np.sum(Derr)/Nt\n",
    "        #Single model\n",
    "        # dparam['ap'] = np.sum( np.abs(T-param['Tp'])*Derr)/Nt\n",
    "        # dparam['Tp'] = -np.sum(np.sign(T-param['Tp'])*param['ap']*Derr)/Nt\n",
    "        #Double thresholded model\n",
    "        dparam['ap'] = np.sum( np.abs(T[m1]-self.param['Tp'])  \\\n",
    "                     *(Derr[m1]))/Nt\n",
    "        dparam['an'] = np.sum( (self.param['Tn']-T[m2])*(Derr[m2]))/Nt\n",
    "        dparam['Tp'] = -self.param['ap']*np.sum(Derr[m1])/Nt\n",
    "        dparam['Tn'] =  self.param['an']*np.sum(Derr[m2])/Nt    \n",
    "        return dparam\n",
    "    \n",
    "    def param_fit(self,Dhat,T,alpha=0.1,rtol=1E-4,nmax=200):\n",
    "        \"\"\"Try to fit linear threshold model of demand to temperature.\n",
    "            D - demand data\n",
    "            T - temperature data\n",
    "            Fits model of form:\n",
    "            D ~ a_0+ a_p[T-T_p]_+ + a_n[T_n-T]_+,\n",
    "            where [f]_+ =f for f>0, and 0 otherwise.\n",
    "\n",
    "            Just use simple gradient descent to fit the model.\n",
    "        \"\"\"\n",
    "        #make parameter estimates\n",
    "        Dr = np.max(Dhat)-np.min(Dhat)\n",
    "        Tr = np.max(T)-np.min(T)\n",
    "        param_names=['a0','ap','an','Tp','Tn']\n",
    "        param_vals=[np.mean(Dhat), 0.5*Dr/Tr, 0.5*Dr/Tr,\n",
    "        np.mean(T), np.mean(T)]\n",
    "        self.param=param_vec(param_names,param_vals)\n",
    "        Dpred = self.temp_model(T)\n",
    "        J=np.sum((Dpred-Dhat)**2)/len(Dhat)\n",
    "        print('Init cost',J)\n",
    "        plot_pred(Dpred,Dhat,T)\n",
    "        print('Param:',self.param,\"\\n\")    \n",
    "\n",
    "        Ni=0\n",
    "        for i in range(nmax):\n",
    "            dparam=self.temp_model_grad(Dpred,Dhat,T)\n",
    "            self.param=self.param-alpha*dparam\n",
    "            Dpred=self.temp_model(T)\n",
    "            J2=J        \n",
    "            J=np.sum((Dpred-Dhat)**2)/len(Dhat)\n",
    "            err_change=abs(1-J2/J)\n",
    "            Ni+=1\n",
    "            if (err_change<rtol):\n",
    "               print(\"Hit tolerance {} at iter {}\".format(\n",
    "               err_change,Ni))\n",
    "               plot_pred(Dpred,Dhat,T)                      \n",
    "               return Dpred\n",
    "            if(Ni%100==0):\n",
    "                print(\"Cost, Old Cost = {},{}\".format(J,J2))\n",
    "                print('Param:',self.param)\n",
    "                print('Param_grad:',dparam)\n",
    "                print(\"Mean param Change {} at iter {}\".format(err_change,Ni))\n",
    "                plot_pred(Dpred,Dhat,T)\n",
    "        print(\"Failed to hit tolerance after {} iter\\n\".format(iter))\n",
    "        print(\"Cost:\",J,J2)\n",
    "        return Dpred \n",
    "\n",
    "    def grad_check(self,Dhat,T):\n",
    "        \"\"\"grad_check(Dhat,T)\n",
    "        Check numerical gradients against finite difference.\n",
    "            D - demand data\n",
    "            T - temperature data\n",
    "        \"\"\"\n",
    "        #make parameter estimates\n",
    "        Dr = np.max(Dhat)-np.min(Dhat)\n",
    "        Tr = np.max(T)-np.min(T)\n",
    "        param_names=['a0','ap','an','Tp','Tn']\n",
    "        #param_vals=300*np.random.random(size=5)\n",
    "        param_vals=[np.mean(D),0.5*Dr/Tr,0.5*Dr/Tr,200,250]        \n",
    "        self.param=param_vec(param_names,param_vals)\n",
    "        print(self.param)\n",
    "        Dpred = self.temp_model(T)    \n",
    "        dparam=self.temp_model_grad(Dpred,Dhat,T)    \n",
    "        J=0.5*np.sum((Dpred-Dhat)**2)/len(Dhat)\n",
    "        eps=.1\n",
    "        param2 = self.param.copy()\n",
    "        for name,val in param2.items():\n",
    "            self.param = param2.copy()\n",
    "            self.param[name]=val+eps\n",
    "            Dpred = self.temp_model(T)\n",
    "            J2=0.5*np.sum((Dpred-Dhat)**2)/len(Dhat)\n",
    "            numgrad = (J2-J)/eps\n",
    "            print(name,numgrad,dparam[name],self.param[name])\n",
    "\n",
    "#End of temp_model class.\n",
    "#Needed to scale the data to get decent answers.  \n",
    "\n"
   ]
  },
  {
   "cell_type": "code",
   "execution_count": 172,
   "metadata": {
    "autoscroll": false,
    "collapsed": false,
    "ein.tags": "worksheet-0",
    "slideshow": {
     "slide_type": "-"
    }
   },
   "outputs": [],
   "source": [
    "dem_sub  = dem[0:24*7*1]\n",
    "temp_sub = temp[0:24*7*1]\n",
    "\n",
    "D=dem_sub\n",
    "T=temp_sub\n",
    "Dr = np.max(D)-np.min(D)\n",
    "Tr = np.max(T)-np.min(T)\n",
    "\n",
    "pnames=['a0','ap','an','Tp','Tn']\n",
    "pval=[np.mean(D),0.5*Dr/Tr,0.5*Dr/Tr,200,100]\n",
    "\n",
    "Tmodel=just_temp_model(names=pnames,vals=pval)"
   ]
  },
  {
   "cell_type": "code",
   "execution_count": 175,
   "metadata": {
    "autoscroll": false,
    "collapsed": false,
    "ein.tags": "worksheet-0",
    "slideshow": {
     "slide_type": "-"
    }
   },
   "outputs": [
    {
     "name": "stdout",
     "output_type": "stream",
     "text": [
      "a0 567.9050608078251 567.855060801 2801.04047619\n",
      "ap 1275.4925898450892 2593.86658183 4.64077253219\n",
      "an 38757.5973678712 38616.8067429 4.64077253219\n",
      "Tp -79.88234915712383 -465.476677599 200.1\n",
      "Tn -1892.0597531553358 2498.31148856 250.1\n",
      "a0    2800.940476\n",
      "ap       4.540773\n",
      "an       4.540773\n",
      "Tp     200.000000\n",
      "Tn     250.000000\n",
      "dtype: float64\n"
     ]
    }
   ],
   "source": [
    "dem_sub  = dem[0:24*7*4]\n",
    "temp_sub = temp[0:24*7*4]\n",
    "#D,T,scale_df=scale_data(dem_sub,temp_sub)\n",
    "Tmodel=just_temp_model(names=pnames,vals=pval)\n",
    "Tmodel.grad_check(dem_sub,temp_sub)"
   ]
  },
  {
   "cell_type": "markdown",
   "metadata": {
    "autoscroll": false,
    "collapsed": true,
    "ein.tags": "worksheet-0",
    "slideshow": {
     "slide_type": "-"
    }
   },
   "source": [
    "# Fourier Series\n",
    "\n",
    "Another approach that I've seen to seasonality is to just use a Fourier series.\n",
    "This is similar to an approach I was using based on trying to filter the Fourier tranformed data.\n",
    "This method tries to fit annual, weekly and daily oscillations to the data. \n"
   ]
  },
  {
   "cell_type": "code",
   "execution_count": 56,
   "metadata": {
    "autoscroll": false,
    "collapsed": false,
    "ein.tags": "worksheet-0",
    "slideshow": {
     "slide_type": "-"
    }
   },
   "outputs": [],
   "source": [
    "#Now to do some simple Fourier Series fitting too.\n",
    "class fourier_model:\n",
    "    def total_fourier_series(self,D,n_max=[2,4,4]):\n",
    "        \"\"\"fourier_series\n",
    "        Fits pandas time series D, with Fourier series. \n",
    "        Uses Pandas DateTimeIndex for times.\n",
    "        Produces fourier series with annual, daily and weekly oscillations to fourier series.\n",
    "        Computes coefficients, and then series.  Returns both\n",
    "        D - demand (values to be fitted)\n",
    "        T - DatetimeIndex\n",
    "        n_max - maximum number of coefficients\n",
    "\n",
    "        Note:Misses Holidays.\n",
    "        \"\"\"\n",
    "        T=D.index\n",
    "        T_dayofyear = T.dayofyear.values\n",
    "        T_dayofweek = T.dayofweek.values\n",
    "        T_hour = T.hour.values\n",
    "        Tfit = [T_dayofyear/365,\n",
    "        (T_dayofweek*24+T_hour)/168,\n",
    "        T_hour/24]\n",
    "        periods=[365,168,24]\n",
    "        Nt = len(D)\n",
    "        ftot = np.zeros(Nt)\n",
    "        coeff=[[np.sum(D)/Nt,0]]    \n",
    "        for i in range(3):\n",
    "            if n_max[i]>0:\n",
    "                 ci    = self.fit_fourier_series(D,Tfit[i],n_max[i])\n",
    "                 ftot += self.fourier_series(ci,Tfit[i])             \n",
    "            else:\n",
    "                ci=None\n",
    "            coeff.append(ci)\n",
    "        #add on constant    \n",
    "        ftot+= coeff[0][0]\n",
    "        ftot=pd.Series(ftot,index=T)         \n",
    "        return ftot,coeff\n",
    "\n",
    "    def fit_fourier_series(self,D,T,nmax):\n",
    "        \"\"\"Fits the Fourier series to data D, on times T,\n",
    "        and returns parameters.\n",
    "        \"\"\"\n",
    "        Nt = len(D)\n",
    "        #initial zero coefficients\n",
    "        coeff=[]\n",
    "        for n in range(1,nmax+1):\n",
    "            an= 2*np.sum(np.cos(2*pi*n*T)*D)/Nt\n",
    "            bn= 2*np.sum(np.sin(2*pi*n*T)*D)/Nt\n",
    "            coeff.append([an,bn])\n",
    "        return coeff                       \n",
    "\n",
    "    def fourier_series(self,coeff,T):\n",
    "        \"\"\"fourier_series\n",
    "        Make simple Fourier series with specified coefficients, \n",
    "        over time T. \n",
    "        T assumed to be in range [0,1).\n",
    "        \"\"\"\n",
    "        i=1\n",
    "        nmax=len(coeff)\n",
    "        f=np.zeros(T.shape)\n",
    "        #need a +1 somewhere due to 0-indexing, and not including constant\n",
    "        for n in range(nmax):\n",
    "            an, bn = coeff[n]\n",
    "            f += an*np.cos(2*pi*(n+1)*T)+bn*np.sin(2*pi*(n+1)*T)\n",
    "        return f"
   ]
  },
  {
   "cell_type": "code",
   "execution_count": 88,
   "metadata": {
    "autoscroll": false,
    "collapsed": false,
    "ein.tags": "worksheet-0",
    "slideshow": {
     "slide_type": "-"
    }
   },
   "outputs": [
    {
     "name": "stdout",
     "output_type": "stream",
     "text": [
      "Automatic pdb calling has been turned OFF\n"
     ]
    }
   ],
   "source": [
    "%pdb"
   ]
  },
  {
   "cell_type": "code",
   "execution_count": 57,
   "metadata": {
    "autoscroll": false,
    "collapsed": false,
    "ein.tags": "worksheet-0",
    "slideshow": {
     "slide_type": "-"
    }
   },
   "outputs": [
    {
     "ename": "AttributeError",
     "evalue": "'builtin_function_or_method' object has no attribute 'dayofyear'",
     "output_type": "error",
     "traceback": [
      "\u001b[0;31m---------------------------------------------------------------------------\u001b[0m",
      "\u001b[0;31mAttributeError\u001b[0m                            Traceback (most recent call last)",
      "\u001b[0;32m<ipython-input-57-4c0d5c2054ee>\u001b[0m in \u001b[0;36m<module>\u001b[0;34m()\u001b[0m\n\u001b[1;32m      4\u001b[0m \u001b[0mnmax\u001b[0m \u001b[0;34m=\u001b[0m \u001b[0;34m[\u001b[0m\u001b[0;36m0\u001b[0m\u001b[0;34m,\u001b[0m\u001b[0;36m4\u001b[0m\u001b[0;34m,\u001b[0m\u001b[0;36m4\u001b[0m\u001b[0;34m]\u001b[0m\u001b[0;34m\u001b[0m\u001b[0m\n\u001b[1;32m      5\u001b[0m \u001b[0;34m\u001b[0m\u001b[0m\n\u001b[0;32m----> 6\u001b[0;31m \u001b[0mDf\u001b[0m\u001b[0;34m,\u001b[0m \u001b[0mDcoeff\u001b[0m \u001b[0;34m=\u001b[0m \u001b[0mfourier_model\u001b[0m\u001b[0;34m.\u001b[0m\u001b[0mtotal_fourier_series\u001b[0m\u001b[0;34m(\u001b[0m\u001b[0mdem_sub\u001b[0m\u001b[0;34m,\u001b[0m\u001b[0mnmax\u001b[0m\u001b[0;34m)\u001b[0m\u001b[0;34m\u001b[0m\u001b[0m\n\u001b[0m\u001b[1;32m      7\u001b[0m \u001b[0mplot_pred\u001b[0m\u001b[0;34m(\u001b[0m\u001b[0mDf\u001b[0m\u001b[0;34m,\u001b[0m\u001b[0mdem_sub\u001b[0m\u001b[0;34m,\u001b[0m\u001b[0mtemp_sub\u001b[0m\u001b[0;34m)\u001b[0m\u001b[0;34m\u001b[0m\u001b[0m\n",
      "\u001b[0;32m<ipython-input-56-e4828b0b79a2>\u001b[0m in \u001b[0;36mtotal_fourier_series\u001b[0;34m(self, D, n_max)\u001b[0m\n\u001b[1;32m     14\u001b[0m         \"\"\"\n\u001b[1;32m     15\u001b[0m         \u001b[0mT\u001b[0m\u001b[0;34m=\u001b[0m\u001b[0mD\u001b[0m\u001b[0;34m.\u001b[0m\u001b[0mindex\u001b[0m\u001b[0;34m\u001b[0m\u001b[0m\n\u001b[0;32m---> 16\u001b[0;31m         \u001b[0mT_dayofyear\u001b[0m \u001b[0;34m=\u001b[0m \u001b[0mT\u001b[0m\u001b[0;34m.\u001b[0m\u001b[0mdayofyear\u001b[0m\u001b[0;34m.\u001b[0m\u001b[0mvalues\u001b[0m\u001b[0;34m\u001b[0m\u001b[0m\n\u001b[0m\u001b[1;32m     17\u001b[0m         \u001b[0mT_dayofweek\u001b[0m \u001b[0;34m=\u001b[0m \u001b[0mT\u001b[0m\u001b[0;34m.\u001b[0m\u001b[0mdayofweek\u001b[0m\u001b[0;34m.\u001b[0m\u001b[0mvalues\u001b[0m\u001b[0;34m\u001b[0m\u001b[0m\n\u001b[1;32m     18\u001b[0m         \u001b[0mT_hour\u001b[0m \u001b[0;34m=\u001b[0m \u001b[0mT\u001b[0m\u001b[0;34m.\u001b[0m\u001b[0mhour\u001b[0m\u001b[0;34m.\u001b[0m\u001b[0mvalues\u001b[0m\u001b[0;34m\u001b[0m\u001b[0m\n",
      "\u001b[0;31mAttributeError\u001b[0m: 'builtin_function_or_method' object has no attribute 'dayofyear'"
     ]
    }
   ],
   "source": [
    "dem_sub  = dem[0:24*7*4]\n",
    "temp_sub = 10*temp[0:24*7*4]\n",
    "\n",
    "nmax = [0,4,4]\n",
    "\n",
    "Df, Dcoeff = fourier_model.total_fourier_series(dem_sub,nmax)\n",
    "plot_pred(Df,dem_sub,temp_sub)"
   ]
  },
  {
   "cell_type": "code",
   "execution_count": 145,
   "metadata": {
    "autoscroll": false,
    "collapsed": false,
    "ein.tags": "worksheet-0",
    "slideshow": {
     "slide_type": "-"
    }
   },
   "outputs": [
    {
     "data": {
      "text/plain": [
       "1.0"
      ]
     },
     "execution_count": 145,
     "metadata": {},
     "output_type": "execute_result"
    }
   ],
   "source": [
    "dem_scale.std()"
   ]
  },
  {
   "cell_type": "code",
   "execution_count": 294,
   "metadata": {
    "autoscroll": false,
    "collapsed": false,
    "ein.tags": "worksheet-0",
    "slideshow": {
     "slide_type": "-"
    }
   },
   "outputs": [
    {
     "name": "stdout",
     "output_type": "stream",
     "text": [
      "Automatic pdb calling has been turned ON\n"
     ]
    }
   ],
   "source": [
    "%pdb"
   ]
  },
  {
   "cell_type": "code",
   "execution_count": 149,
   "metadata": {
    "autoscroll": false,
    "collapsed": false,
    "ein.tags": "worksheet-0",
    "slideshow": {
     "slide_type": "-"
    }
   },
   "outputs": [
    {
     "name": "stdout",
     "output_type": "stream",
     "text": [
      "Init cost 1.0263110440225278\n"
     ]
    },
    {
     "data": {
      "text/plain": [
       "<matplotlib.figure.Figure at 0x7efbc180fbe0>"
      ]
     },
     "metadata": {},
     "output_type": "display_data"
    },
    {
     "name": "stdout",
     "output_type": "stream",
     "text": [
      "Cost, Old Cost = 0.07670151030736305,0.07687407174663803\n",
      "Param: a0   -0.391960\n",
      "ap    0.838400\n",
      "an   -0.585513\n",
      "Tp   -0.690012\n",
      "Tn   -0.059845\n",
      "dtype: float64\n",
      "Param_grad: a0   -0.006662\n",
      "ap    0.017932\n",
      "an    0.016383\n",
      "Tp    0.028599\n",
      "Tn    0.008011\n",
      "dtype: float64\n",
      "Mean param Change 0.00224977889722755 at iter 100\n",
      "Param: a0    1.831868e-16\n",
      "ap    4.542121e-01\n",
      "an    4.542121e-01\n",
      "Tp    2.164935e-16\n",
      "Tn    2.164935e-16\n",
      "dtype: float64 \n",
      "\n"
     ]
    },
    {
     "data": {
      "text/plain": [
       "<matplotlib.figure.Figure at 0x7efbc188ce10>"
      ]
     },
     "metadata": {},
     "output_type": "display_data"
    },
    {
     "name": "stdout",
     "output_type": "stream",
     "text": [
      "Cost, Old Cost = 0.06780300101098831,0.06784870959652975\n",
      "Param: a0   -0.355393\n",
      "ap    0.739753\n",
      "an   -0.714479\n",
      "Tp   -0.859248\n",
      "Tn   -0.143258\n",
      "dtype: float64\n",
      "Param_grad: a0   -0.002524\n",
      "ap    0.002695\n",
      "an    0.010862\n",
      "Tp    0.002000\n",
      "Tn    0.007561\n",
      "dtype: float64\n",
      "Mean param Change 0.0006741380891686077 at iter 200\n"
     ]
    },
    {
     "data": {
      "text/plain": [
       "<matplotlib.figure.Figure at 0x7efbc189a588>"
      ]
     },
     "metadata": {},
     "output_type": "display_data"
    },
    {
     "name": "stdout",
     "output_type": "stream",
     "text": [
      "Failed to hit tolerance after <built-in function iter> iter\n",
      "\n",
      "Cost: 0.06780300101098831 0.06784870959652975\n"
     ]
    }
   ],
   "source": [
    "dem_scale,temp_scale,scale_df=scale_data(dem_sub,temp_sub)\n",
    "plt.figure()\n",
    "Dpred=Tmodel.param_fit(dem_scale,temp_scale)"
   ]
  },
  {
   "cell_type": "code",
   "execution_count": 219,
   "metadata": {
    "autoscroll": false,
    "collapsed": false,
    "ein.tags": "worksheet-0",
    "slideshow": {
     "slide_type": "-"
    }
   },
   "outputs": [
    {
     "name": "stdout",
     "output_type": "stream",
     "text": [
      "20 8\n"
     ]
    }
   ],
   "source": [
    "l,b,s=fit_init_params(dem_sub)\n",
    "\n",
    "pred=predict_stl(l,b,s,dem_sub.index)"
   ]
  },
  {
   "cell_type": "code",
   "execution_count": 220,
   "metadata": {
    "autoscroll": false,
    "collapsed": false,
    "ein.tags": "worksheet-0",
    "slideshow": {
     "slide_type": "-"
    }
   },
   "outputs": [
    {
     "data": {
      "text/plain": [
       "<matplotlib.figure.Figure at 0x7f9e6058f630>"
      ]
     },
     "metadata": {},
     "output_type": "display_data"
    }
   ],
   "source": [
    "plt.plot(dem_sub.values,'b',temp_sub.values,'r',pred,'k')\n",
    "plt.show()"
   ]
  },
  {
   "cell_type": "markdown",
   "metadata": {
    "ein.tags": "worksheet-0",
    "slideshow": {
     "slide_type": "-"
    }
   },
   "source": [
    "# Recurrent Neural Network\n",
    "\n",
    "Let's try throwing a neural network at this problem. (This was my ultimate goal all along.)  We'll give input method the day of the week, time of day, day of the year, and temperature.    "
   ]
  },
  {
   "cell_type": "code",
   "execution_count": 161,
   "metadata": {
    "autoscroll": false,
    "collapsed": false,
    "ein.tags": "worksheet-0",
    "slideshow": {
     "slide_type": "-"
    }
   },
   "outputs": [],
   "source": [
    "import tensorflow as tf\n",
    "from tensorflow.contrib.layers import fully_connected\n",
    "from tensorflow.contrib.rnn import BasicRNNCell"
   ]
  },
  {
   "cell_type": "code",
   "execution_count": null,
   "metadata": {
    "autoscroll": false,
    "collapsed": false,
    "ein.tags": "worksheet-0",
    "slideshow": {
     "slide_type": "-"
    }
   },
   "outputs": [],
   "source": [
    "#Rambling Ideas:\n",
    "\n",
    "#Roll-my-own network in TensorFlow.  Close to the code, may be very inefficient.  How to handle dropout, back-propagation, etc?\n",
    "#Tensor-flow"
   ]
  },
  {
   "cell_type": "code",
   "execution_count": 24,
   "metadata": {
    "autoscroll": false,
    "collapsed": false,
    "ein.tags": "worksheet-0",
    "slideshow": {
     "slide_type": "-"
    }
   },
   "outputs": [],
   "source": [
    "#temp.head().index.holiday\n",
    "from pandas.tseries.holiday import USFederalHolidayCalendar\n",
    "\n",
    "#holcal=USFederalHolidayCalendar()\n",
    "#t0=temp.index[0].to_pydatetime()\n",
    "#t1=temp.index[-1].to_pydatetime()\n",
    "#print(t0,t1)\n",
    "#holind=holcal.holidays(t0,t1)\n",
    "#[datetime.datetime(2015,12,25),datetime.datetime(2015,12,26)] in holind\n",
    "\n",
    "#Add holidays in later.\n",
    "#def get_holidays(Tindex):\n",
    "#    \"\"\"get_holidays\n",
    "#    Return list of true/false based on wether a given day is a holiday or not. \n",
    "#    \"\"\"\n",
    "#    cal = pandas.tseries.holiday.USFederalHolidayCalendar()\n",
    "#    t0 = Tindex[0]\n",
    "#    t1 = Tindex[-1]\n",
    "#    hols = cal.holiday(t0,t1)\n",
    "#    tmsk = "
   ]
  },
  {
   "cell_type": "code",
   "execution_count": 162,
   "metadata": {
    "autoscroll": false,
    "collapsed": false,
    "ein.tags": "worksheet-0",
    "slideshow": {
     "slide_type": "-"
    }
   },
   "outputs": [],
   "source": [
    "pi = np.pi\n",
    "n_steps=24\n",
    "n_inputs=1+3\n",
    "n_neurons=100\n",
    "n_outputs=24\n",
    "\n",
    "np.random.seed(seed=3453)\n",
    "lr=1E-3"
   ]
  },
  {
   "cell_type": "code",
   "execution_count": 179,
   "metadata": {
    "autoscroll": false,
    "collapsed": false,
    "ein.tags": "worksheet-0",
    "slideshow": {
     "slide_type": "-"
    }
   },
   "outputs": [],
   "source": [
    "def make_temptime_data(temp_mat):\n",
    "    \"\"\"make_input_data\n",
    "    Takes input temperature data matrix (for multiple locations),\n",
    "    and extends with extra indices for time of day, day of year, day of week, and holiday. \n",
    "\n",
    "    Input: temp_mat - pandas series of temperatures a location.  \n",
    "    Output: in_mat - scaled matrix of temperatures, and scaled times of day and year.\n",
    "            temp_max - maximum temperature for series (needed to invert transformations?)\n",
    "            temp_min - minimum temperature\n",
    "    \"\"\"\n",
    "    Tind = temp_mat.index\n",
    "    hr = Tind.hour.values/(24-1)\n",
    "    #scale length of year\n",
    "    dyear = Tind.dayofyear.values/(365-1+Tind.is_leap_year.astype(int))\n",
    "    dweek = Tind.dayofweek.values/(7-1)\n",
    "    #scale temperature data to so that max/min correspond to [0,1]  \n",
    "    temp_max = temp_mat.max(axis=0)\n",
    "    temp_min = temp_mat.min(axis=0)\n",
    "    temp_mat = (temp_mat-temp_min)/(temp_max-temp_min)\n",
    "    in_mat= np.stack([temp_mat.values,hr,dweek,dyear]).T\n",
    "    return in_mat, temp_max,temp_min\n",
    "\n",
    "def scale_demand(dem):\n",
    "    \"\"\"scale_demand\n",
    "    Scale demand to be on 0,1 scale.\n",
    "    Input: demand - serie at 1 location\n",
    "    Output: dem_scale - scaled array of values.\n",
    "            dem_max, dem_min - the maximum and minimum values.\n",
    "    \"\"\"\n",
    "    dem_scale = dem.values\n",
    "    dem_max = np.max(dem_scale)\n",
    "    dem_min = np.min(dem_scale)\n",
    "    dem_scale = (dem_scale-dem_min)/(dem_max-dem_min)\n",
    "    return dem_scale, dem_max,dem_min\n",
    "\n",
    "\n",
    "temp_mat,tmax,tmin=make_temptime_data(temp)\n",
    "dem_mat,dmax,dmin=scale_demand(dem)\n",
    "\n",
    "Nt=len(dem)\n",
    "Ntest = Nt//2\n",
    "\n",
    "temp_train = temp_mat[0:Ntest,:]\n",
    "temp_test = temp_mat[Ntest:,:]\n",
    "dem_train = dem_mat[0:Ntest]\n",
    "dem_test = dem_mat[Ntest:]\n"
   ]
  },
  {
   "cell_type": "code",
   "execution_count": 249,
   "metadata": {
    "autoscroll": false,
    "collapsed": false,
    "ein.tags": "worksheet-0",
    "slideshow": {
     "slide_type": "-"
    }
   },
   "outputs": [],
   "source": [
    "?plt.legend"
   ]
  },
  {
   "cell_type": "code",
   "execution_count": 251,
   "metadata": {
    "autoscroll": false,
    "collapsed": false,
    "ein.tags": "worksheet-0",
    "slideshow": {
     "slide_type": "-"
    }
   },
   "outputs": [
    {
     "data": {
      "image/png": "[encoded data removed]",
      "text/plain": [
       "<matplotlib.figure.Figure at 0x7efb94d4a630>"
      ]
     },
     "metadata": {},
     "output_type": "display_data"
    },
    {
     "ename": "NameError",
     "evalue": "name 'right' is not defined",
     "output_type": "error",
     "traceback": [
      "\u001b[0;31m---------------------------------------------------------------------------\u001b[0m",
      "\u001b[0;31mNameError\u001b[0m                                 Traceback (most recent call last)",
      "\u001b[0;32m<ipython-input-251-278c9f03460f>\u001b[0m in \u001b[0;36m<module>\u001b[0;34m()\u001b[0m\n\u001b[1;32m      2\u001b[0m \u001b[0mprint\u001b[0m\u001b[0;34m(\u001b[0m\u001b[0mlen\u001b[0m\u001b[0;34m(\u001b[0m\u001b[0mnp\u001b[0m\u001b[0;34m.\u001b[0m\u001b[0marange\u001b[0m\u001b[0;34m(\u001b[0m\u001b[0mNtest\u001b[0m\u001b[0;34m,\u001b[0m\u001b[0mNt\u001b[0m\u001b[0;34m)\u001b[0m\u001b[0;34m)\u001b[0m\u001b[0;34m,\u001b[0m\u001b[0mlen\u001b[0m\u001b[0;34m(\u001b[0m\u001b[0mtemp_mat\u001b[0m\u001b[0;34m[\u001b[0m\u001b[0mNtest\u001b[0m\u001b[0;34m:\u001b[0m\u001b[0;34m,\u001b[0m\u001b[0;36m0\u001b[0m\u001b[0;34m]\u001b[0m\u001b[0;34m)\u001b[0m\u001b[0;34m)\u001b[0m\u001b[0;34m\u001b[0m\u001b[0m\n\u001b[1;32m      3\u001b[0m \u001b[0mprint\u001b[0m\u001b[0;34m(\u001b[0m\u001b[0mNt\u001b[0m\u001b[0;34m/\u001b[0m\u001b[0mn_steps\u001b[0m\u001b[0;34m)\u001b[0m\u001b[0;34m\u001b[0m\u001b[0m\n\u001b[0;32m----> 4\u001b[0;31m \u001b[0mytot\u001b[0m\u001b[0;34m=\u001b[0m\u001b[0mplot_whole_sample_fit\u001b[0m\u001b[0;34m(\u001b[0m\u001b[0mtemp_mat\u001b[0m\u001b[0;34m,\u001b[0m\u001b[0mdem_mat\u001b[0m\u001b[0;34m,\u001b[0m\u001b[0mNtest\u001b[0m\u001b[0;34m,\u001b[0m\u001b[0mn_steps\u001b[0m\u001b[0;34m)\u001b[0m\u001b[0;34m\u001b[0m\u001b[0m\n\u001b[0m",
      "\u001b[0;32m<ipython-input-250-e74ad81e22cb>\u001b[0m in \u001b[0;36mplot_whole_sample_fit\u001b[0;34m(X, y, ntest, n_steps)\u001b[0m\n\u001b[1;32m     15\u001b[0m     \u001b[0mplt\u001b[0m\u001b[0;34m.\u001b[0m\u001b[0mplot\u001b[0m\u001b[0;34m(\u001b[0m\u001b[0mnp\u001b[0m\u001b[0;34m.\u001b[0m\u001b[0marange\u001b[0m\u001b[0;34m(\u001b[0m\u001b[0mNt\u001b[0m\u001b[0;34m)\u001b[0m\u001b[0;34m,\u001b[0m\u001b[0mytot\u001b[0m\u001b[0;34m,\u001b[0m\u001b[0;34m'r'\u001b[0m\u001b[0;34m,\u001b[0m\u001b[0mlabel\u001b[0m\u001b[0;34m=\u001b[0m\u001b[0;34m'Predicted'\u001b[0m\u001b[0;34m)\u001b[0m\u001b[0;34m\u001b[0m\u001b[0m\n\u001b[1;32m     16\u001b[0m     \u001b[0mplt\u001b[0m\u001b[0;34m.\u001b[0m\u001b[0mplot\u001b[0m\u001b[0;34m(\u001b[0m\u001b[0mnp\u001b[0m\u001b[0;34m.\u001b[0m\u001b[0marange\u001b[0m\u001b[0;34m(\u001b[0m\u001b[0mNt\u001b[0m\u001b[0;34m)\u001b[0m\u001b[0;34m,\u001b[0m\u001b[0mdem_mat\u001b[0m\u001b[0;34m,\u001b[0m\u001b[0mlabel\u001b[0m\u001b[0;34m=\u001b[0m\u001b[0;34m'Real'\u001b[0m\u001b[0;34m)\u001b[0m\u001b[0;34m\u001b[0m\u001b[0m\n\u001b[0;32m---> 17\u001b[0;31m     \u001b[0mplt\u001b[0m\u001b[0;34m.\u001b[0m\u001b[0mlegend\u001b[0m\u001b[0;34m(\u001b[0m\u001b[0mloc\u001b[0m\u001b[0;34m=\u001b[0m\u001b[0mright\u001b[0m\u001b[0;34m)\u001b[0m\u001b[0;34m\u001b[0m\u001b[0m\n\u001b[0m\u001b[1;32m     18\u001b[0m     \u001b[0mplt\u001b[0m\u001b[0;34m.\u001b[0m\u001b[0mshow\u001b[0m\u001b[0;34m(\u001b[0m\u001b[0;34m)\u001b[0m\u001b[0;34m\u001b[0m\u001b[0m\n\u001b[1;32m     19\u001b[0m     \u001b[0;32mreturn\u001b[0m \u001b[0mytot\u001b[0m\u001b[0;34m\u001b[0m\u001b[0m\n",
      "\u001b[0;31mNameError\u001b[0m: name 'right' is not defined"
     ]
    },
    {
     "name": "stdout",
     "output_type": "stream",
     "text": [
      "10108 10108\n",
      "842.3333333333334\n",
      "INFO:tensorflow:Restoring parameters from ./models/pdx_RNN_model\n"
     ]
    }
   ],
   "source": [
    "#n0,x_sub,y_pred=toy_predict(2.5)\n",
    "print(len(np.arange(Ntest,Nt)),len(temp_mat[Ntest:,0]))\n",
    "print(Nt/n_steps)\n",
    "ytot=plot_whole_sample_fit(temp_mat,dem_mat,Ntest,n_steps)"
   ]
  },
  {
   "cell_type": "code",
   "execution_count": 220,
   "metadata": {
    "autoscroll": false,
    "collapsed": false,
    "ein.tags": "worksheet-0",
    "slideshow": {
     "slide_type": "-"
    }
   },
   "outputs": [
    {
     "data": {
      "text/plain": [
       "(20216, 4)"
      ]
     },
     "execution_count": 220,
     "metadata": {},
     "output_type": "execute_result"
    }
   ],
   "source": [
    "temp_mat.shape"
   ]
  },
  {
   "cell_type": "code",
   "execution_count": 326,
   "metadata": {
    "autoscroll": false,
    "collapsed": false,
    "ein.tags": "worksheet-0",
    "slideshow": {
     "slide_type": "-"
    }
   },
   "outputs": [],
   "source": [
    "def plot_insample_fit(tstart):\n",
    "    \"\"\"plot_insample_fit(tstart)\n",
    "    Plot the predictions of the trained model\n",
    "    on the \"training\" set with different noise, and longer\n",
    "    times.\n",
    "    \"\"\"\n",
    "\n",
    "    n0,x_sub,y_pred=toy_predict(Xsig,t,tstart)\n",
    "    plt.figure()\n",
    "    ind=np.arange(n0,n0+n_outputs)\n",
    "    plt.plot(x_sub[:,0],x_sub[:,1],'b')\n",
    "    plt.plot(t[ind],y_pred,'r')\n",
    "    plt.plot(t[ind],Xsig[ind])\n",
    "    plt.show()\n",
    "\n",
    "def plot_outsample_fit(tstart):\n",
    "    \"\"\"plot_outsample_fit\n",
    "\n",
    "    Plot the predictions of the trained model\n",
    "    on a \"test\" set with different noise, and longer\n",
    "    times.\n",
    "    \"\"\"\n",
    "    #pull in the inputs, and predictions\n",
    "    n0,x_sub,y_pred=toy_predict(X_test,t2,tstart)\n",
    "    plt.figure()\n",
    "    ind=np.arange(n0,n0+n_outputs)\n",
    "    plt.plot(x_sub[:,0],x_sub[:,1],'b',label='Input')\n",
    "    #now plot against the test sets defined earlier\n",
    "    plt.plot(t2[ind],X_test[ind],'b',label='Test')\n",
    "    try:\n",
    "        plt.plot(t[ind],Xsig[ind],'g',label='Training')\n",
    "    except:\n",
    "        print('out of range for training data? no traing plot')\n",
    "    plt.plot(t2[ind],y_pred,'r',label='Predicted')\n",
    "    plt.show()\n",
    "\n",
    "def plot_whole_outsample_fit():\n",
    "    \"\"\"plot_whole_outsample_fit\n",
    "\n",
    "    Plot ALL of the predictions of the trained model\n",
    "    on a \"test\" set with different noise, and longer\n",
    "    times.  Concatenates the predicted results together.  \n",
    "    \"\"\"\n",
    "    #pull in the inputs, and predictions\n",
    "    nmax=int((2*Nt-1)/n_outputs)\n",
    "    y_tot=np.array([])\n",
    "    for i in range(nmax-1):\n",
    "        tstart=(n_steps+i*n_outputs)*dt\n",
    "        n0,x_sub,y_pred=toy_predict(X_test,t2,tstart)\n",
    "        y_tot=np.append(y_tot,y_pred)\n",
    "        print('t0',tstart,i)\n",
    "    plt.figure()\n",
    "    ind=np.arange(n0,n0+n_outputs)\n",
    "    #now plot against the test sets defined earlier\n",
    "    plt.plot(t2,X_test,'b',label='Test')\n",
    "    try:\n",
    "        plt.plot(t,Xsig,'g',label='Training')\n",
    "    except:\n",
    "        print('out of range for training data? no traing plot')\n",
    "    plt.plot(t2[n_steps+1:],y_tot,'r',label='Predicted')\n",
    "    plt.show()\n",
    "\n"
   ]
  },
  {
   "cell_type": "code",
   "execution_count": 2,
   "metadata": {
    "autoscroll": false,
    "collapsed": false,
    "ein.tags": "worksheet-0",
    "slideshow": {
     "slide_type": "-"
    }
   },
   "outputs": [
    {
     "ename": "NameError",
     "evalue": "name 'ytot' is not defined",
     "output_type": "error",
     "traceback": [
      "\u001b[0;31m---------------------------------------------------------------------------\u001b[0m",
      "\u001b[0;31mNameError\u001b[0m                                 Traceback (most recent call last)",
      "\u001b[0;32m<ipython-input-2-c63a7303aed2>\u001b[0m in \u001b[0;36m<module>\u001b[0;34m()\u001b[0m\n\u001b[0;32m----> 1\u001b[0;31m \u001b[0mytot\u001b[0m\u001b[0;34m\u001b[0m\u001b[0m\n\u001b[0m",
      "\u001b[0;31mNameError\u001b[0m: name 'ytot' is not defined"
     ]
    }
   ],
   "source": [
    "ytot"
   ]
  },
  {
   "cell_type": "code",
   "execution_count": null,
   "metadata": {
    "autoscroll": false,
    "collapsed": false,
    "ein.tags": "worksheet-0",
    "slideshow": {
     "slide_type": "-"
    }
   },
   "outputs": [],
   "source": []
  }
 ],
 "metadata": {
  "kernelspec": {
   "display_name": "Python 3",
   "name": "python3"
  },
  "language_info": {
   "codemirror_mode": {
    "name": "ipython",
    "version": 3
   },
   "file_extension": ".py",
   "mimetype": "text/x-python",
   "name": "python",
   "nbconvert_exporter": "python",
   "pygments_lexer": "ipython3",
   "version": "3.6.3"
  },
  "name": "EBA_seasonal.ipynb"
 },
 "nbformat": 4,
 "nbformat_minor": 2
}
