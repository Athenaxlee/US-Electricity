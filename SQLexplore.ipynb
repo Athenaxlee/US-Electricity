{
 "cells": [
  {
   "cell_type": "markdown",
   "metadata": {
    "ein.tags": "worksheet-0",
    "slideshow": {
     "slide_type": "-"
    }
   },
   "source": [
    "# Overview of Electricity Generation in the USA based on EIA data\n",
    "\n",
    "The following is an exercise in using data from the Electricity Information Agency (EIA),\n",
    "to famialarize myself with both the broad state of the US electrical grid, as well as some elementary data science.\n",
    "\n",
    "I have converted the bulk data file from (url_here) to a local SQL database.  I used Psycopg2 for direct SQL interaction with that PostGRESQL database.  \n",
    "I can then efficiently select data from that database, based on geographic region and type of generation.  (While the data should nominally fit into memory in one Pandas dataframe, I found that my computer ran out of memory before it could be loaded.)  \n",
    "\n",
    "The resulting queries from SQL can then be converted into a Pandas dataframe.  Since the data is of the form\n",
    "\"[[date1,number1],[date2,number]...], as one long string, this is converted into a list, then a Numpy array.\n",
    "The first column is used to generate a Pandas PeriodIndex (which is then further converted to a DateTimeIndex for plotting reasons).  The second column is then indexed.  The resulting series is output as the elements of a list of series for the desired state, and generation type.  \n",
    "These results can then be plotted using basic Matplotlib."
   ]
  },
  {
   "cell_type": "code",
   "execution_count": 1,
   "metadata": {
    "autoscroll": false,
    "collapsed": false,
    "ein.tags": "worksheet-0",
    "slideshow": {
     "slide_type": "-"
    }
   },
   "outputs": [],
   "source": [
    "import pandas as pd\n",
    "import numpy as np\n",
    "import sqlalchemy\n",
    "import psycopg2\n",
    "import datetime \n",
    "import matplotlib.pyplot as pl\n",
    "from psycopg2 import sql\n",
    "\n",
    "from sql_lib import create_conn_and_cur"
   ]
  },
  {
   "cell_type": "code",
   "execution_count": 2,
   "metadata": {
    "autoscroll": false,
    "collapsed": false,
    "ein.tags": "worksheet-0",
    "slideshow": {
     "slide_type": "-"
    }
   },
   "outputs": [],
   "source": [
    "#Set up connections to SQL database, which was generated from the bulk JSON file.\n",
    "database_name='US_ELEC'\n",
    "fname='ELEC'\n",
    "table_name=fname\n",
    "engine=sqlalchemy.create_engine(\"postgresql+psycopg2://localhost/\"+database_name)\n",
    "\n",
    "#make connection to database (which is needed by Pandas), \n",
    "# and the cursor which actually executes SQL commands.\n",
    "conn=psycopg2.connect(dbname=database_name,host='localhost')\n",
    "conn.set_session(autocommit=True)\n",
    "cur = conn.cursor()\n"
   ]
  },
  {
   "cell_type": "markdown",
   "metadata": {
    "ein.tags": "worksheet-0",
    "slideshow": {
     "slide_type": "-"
    }
   },
   "source": [
    "The following defines some useful functions for grabbing SQL queries, and loading the desired columns into a Pandas DataFrame."
   ]
  },
  {
   "cell_type": "code",
   "execution_count": 3,
   "metadata": {
    "autoscroll": false,
    "collapsed": false,
    "ein.tags": "worksheet-0",
    "slideshow": {
     "slide_type": "-"
    }
   },
   "outputs": [],
   "source": [
    "#make safe SQL queries, with deired list of columns in \"out_columns\".\n",
    "#Assume we are searching through name for entries with desired type of series, for particular states,\n",
    "#as well as generation type.\n",
    "def safe_sql_query(table_name,\n",
    "                   out_columns,\n",
    "                   series_type='Net generation', \n",
    "                   state='Oregon',\n",
    "                   sector='all sectors',\n",
    "                   gen_type='hydro',\n",
    "                   freq='M'):\n",
    "    #make up categories to match the name by. \n",
    "    query_match_list=list()\n",
    "    l1 = sql.Literal(series_type+' :%')\n",
    "    l2 = sql.Literal('%: '+state+' :%')\n",
    "    l3 = sql.Literal('%'+gen_type+'%')\n",
    "    l4 = sql.Literal('%'+sector+'%')\n",
    "    #join together these matches with ANDs to match them all\n",
    "    like_query=sql.SQL(' AND name LIKE ').join([l1,l2,l3,l4])\n",
    "\n",
    "    #Total SQL query to select desired columns with features \n",
    "    q1 = sql.SQL(\"SELECT {} FROM {} WHERE (name LIKE {} AND f LIKE {}) \").format(\n",
    "                sql.SQL(' ,').join(map(sql.Identifier,out_columns)),\n",
    "                sql.Identifier(table_name),\n",
    "                like_query,\n",
    "                sql.Literal(freq))\n",
    "\n",
    "    return(q1)\n",
    "\n",
    "#Get a dataframe from SQL database for given psycopg2 cursor,\n",
    "#with desired output columns.     \n",
    "#Must select data based on series type, state, and type of generation.\n",
    "def get_dataframe(cur,\n",
    "                  out_columns,\n",
    "                  table=\"ELEC\",\n",
    "                  series_type='Net Generation',\n",
    "                  state='Oregon',\n",
    "                  sector='all sectors',\n",
    "                  gen_type='solar',\n",
    "                  freq='M'):\n",
    "    q = safe_sql_query(table,out_columns,series_type=series_type,state=state,sector=sector,gen_type=gen_type,freq=freq)\n",
    "    cur.execute(q);\n",
    "    df0=cur.fetchall();\n",
    "    df = pd.DataFrame(df0,columns=out_columns);\n",
    "    return df\n"
   ]
  },
  {
   "cell_type": "code",
   "execution_count": 44,
   "metadata": {
    "autoscroll": false,
    "collapsed": false,
    "ein.tags": "worksheet-0",
    "slideshow": {
     "slide_type": "-"
    }
   },
   "outputs": [],
   "source": [
    "#Initial readin of SQL dataframes returns 'data' as a string of a list of lists.  \n",
    "#This function goes row by row, converting that 'data' column\n",
    "#into a new series, with datetimeindex in 'data2'\n",
    "\n",
    "# def convert_df(df):\n",
    "#     Nrows=len(df)\n",
    "# # df['data2']=pd.Series()\n",
    "#     data_array=[];\n",
    "#     for i in range(0,Nrows):\n",
    "#         #check there's actually data there.\n",
    "#         print('Making',i,'dataset')\n",
    "#         #use next line since the read in dataframe has returned a string.\n",
    "#         init_series=np.asarray(eval(df.loc[i,'data']))\n",
    "#         dat2=init_series[:,1];\n",
    "#         timeindex=make_timeindex(df.loc[i])\n",
    "#         if (len(dat2) != len(timeindex)):\n",
    "#             print('Unequal lengths')\n",
    "#             print(len(dat2),len(timeindex))\n",
    "#         else:\n",
    "#             s=pd.Series(dat2,index=timeindex)\n",
    "#             data_array.append(s)\n",
    "\n",
    "#         return data_array\n",
    "\n",
    "    \n",
    "# Make a Period Index - really, really easy.\n",
    "#But plotting is limited with \"Periods\".  It seems only\n",
    "#\"DateTimeIndices\" allow easy combinations.  \n",
    "def convert_data(df):\n",
    "    Nrows=len(df)\n",
    "# df['data2']=pd.Series()\n",
    "    data_array=[];\n",
    "    for i in range(0,Nrows):\n",
    "        #check there's actually data there.\n",
    "        print('Making',i,'dataset')\n",
    "        #use next line since the read in dataframe has returned a string.\n",
    "        init_series=np.asarray(eval(df.loc[i,'data']))\n",
    "        dat2=init_series[:,1];\n",
    "        f = df.loc[i,'f']\n",
    "        periodindex=pd.PeriodIndex(init_series[:,0],freq=f)\n",
    "        s=pd.Series(dat2,index=periodindex)\n",
    "        data_array.append(s.to_timestamp())\n",
    "#        df['data2']=data_array\n",
    "#        df.loc[i,'data2']=data_array[i]\n",
    "    return data_array"
   ]
  },
  {
   "cell_type": "code",
   "execution_count": 62,
   "metadata": {
    "autoscroll": false,
    "collapsed": false,
    "ein.tags": "worksheet-0",
    "slideshow": {
     "slide_type": "-"
    }
   },
   "outputs": [
    {
     "name": "stdout",
     "output_type": "stream",
     "text": [
      "Making 0 dataset\n"
     ]
    },
    {
     "name": "stdout",
     "output_type": "stream",
     "text": [
      "Making 0 dataset\n",
      "Making 1 dataset\n",
      "Getting bio\n"
     ]
    },
    {
     "name": "stdout",
     "output_type": "stream",
     "text": [
      "Making 0 dataset\n",
      "Getting hydro\n"
     ]
    },
    {
     "name": "stdout",
     "output_type": "stream",
     "text": [
      "Making 0 dataset\n",
      "Making 1 dataset\n",
      "Getting wind\n"
     ]
    },
    {
     "name": "stdout",
     "output_type": "stream",
     "text": [
      "Making 0 dataset\n",
      "Getting solar\n"
     ]
    },
    {
     "name": "stdout",
     "output_type": "stream",
     "text": [
      "Making 0 dataset\n",
      "Getting natural gas\n"
     ]
    },
    {
     "name": "stdout",
     "output_type": "stream",
     "text": [
      "Making 0 dataset\n",
      "Getting coal\n"
     ]
    },
    {
     "name": "stdout",
     "output_type": "stream",
     "text": [
      "Getting nuclear\n"
     ]
    }
   ],
   "source": [
    "#Try to select data from fields with names such as net generation and desired state.\n",
    "#Possibly also by electricity source.  Nuclear/Solar/Wind/Gas/Coal etc.  \n",
    "#Useful fields: Net Generation : state : type\n",
    "#Also interesting: Average retail price of electricity.  \n",
    "#Net generation\n",
    "#Retail sales of electricity\n",
    "#Revenue\n",
    "#Can Identify useful tags by splitting at colons\":\"\n",
    "out_col=('name','data','start','end','f')\n",
    "df_tot=pd.DataFrame()\n",
    "\n",
    "for name in ('nuclear','coal','natural gas','solar','wind','hydro', 'bio'):\n",
    "#for name in ('solar','wind','hydro', 'bio'):\n",
    "    print('Getting '+name);\n",
    "    df=get_dataframe(cur,out_col,series_type='Net generation',state='United States',gen_type=name);\n",
    "    data0=convert_data(df)\n",
    "    df['data2']=data0\n",
    "    df_tot=df_tot.append(df)\n"
   ]
  },
  {
   "cell_type": "code",
   "execution_count": 63,
   "metadata": {
    "autoscroll": false,
    "collapsed": false,
    "ein.tags": "worksheet-0",
    "slideshow": {
     "slide_type": "-"
    }
   },
   "outputs": [
    {
     "data": {
      "text/plain": [
       "<matplotlib.figure.Figure at 0x7efbc1a7c160>"
      ]
     },
     "metadata": {},
     "output_type": "display_data"
    }
   ],
   "source": [
    "for i in range(0,len(df_tot)):\n",
    "    pl.plot(df_tot.iloc[i]['data2'],label=df_tot.iloc[i]['name'])\n",
    "pl.legend(loc='upper left',bbox_to_anchor=(1,1))\n",
    "pl.show()"
   ]
  },
  {
   "cell_type": "markdown",
   "metadata": {
    "ein.tags": "worksheet-0",
    "slideshow": {
     "slide_type": "-"
    }
   },
   "source": [
    "Finally (months after I first wanted to do this), we can start looking at some data.  \n",
    "I would like to review the sources of electricity to get a sense of seasonal variations (in terms of availability and use).  For example, I'd expect solar generation to be largest in summer, lowest in winter.  \n",
    "I would assume this varies geographically.  I'll assume the seasonality can be averaged over by using the annual data. \n",
    "\n",
    "Residential Use will be largest in winter, barring the occasional fluctuation in summer.  \n",
    "\n",
    "The purpose of this survey is to identify the scale of renewables in the market.  \n",
    "How large a share do renewables (solar, hydro, wind) take up?  How does this vary regionally?  Over time? \n",
    "Who are the primary users of electricity?  \n",
    "I'll assume the base load is provided by coal, gas and nuclear plants.  \n"
   ]
  },
  {
   "cell_type": "markdown",
   "metadata": {
    "ein.tags": "worksheet-0",
    "slideshow": {
     "slide_type": "-"
    }
   },
   "source": [
    "Ultimately however, I intend to try my hand at some machine learning projects relevant to electricity.  \n",
    "The first project involves demand forecasting.  The other place where data science (and nifty math) may have a role in this, is on the market.  While I am comfortable with stochastic calculus etc, I would need to learn about options pricing\n",
    "and the relevant techniques for this sector of the energy market.\n",
    "\n",
    "This is meant to be a brief background piece for that.  Since we are forecasting a time series,\n",
    "I aim to use TensorFlow with some form of neural network (perhaps recurrent) to try forecasting.\n",
    "Ideally, I would cross-reference the electricity data sets against the published weather forecasts for a given day.  \n",
    "The model should be able to predict demand given the location, time of year, and weather forecast.  (This is probably the \n",
    "simplest thing available)\n",
    "\n",
    "From a smart-grid perspective, how can randomly fluctuating sources, such as solar and wind, be included \n",
    "in supplying power to the grid?  "
   ]
  }
 ],
 "metadata": {
  "kernelspec": {
   "display_name": "Python 3",
   "name": "python3"
  },
  "language_info": {
   "codemirror_mode": {
    "name": "ipython",
    "version": 3
   },
   "file_extension": ".py",
   "mimetype": "text/x-python",
   "name": "python",
   "nbconvert_exporter": "python",
   "pygments_lexer": "ipython3",
   "version": "3.4.3"
  },
  "name": "SQLexplore.ipynb"
 },
 "nbformat": 4,
 "nbformat_minor": 2
}
