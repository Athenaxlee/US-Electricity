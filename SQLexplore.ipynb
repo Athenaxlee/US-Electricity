{
 "cells": [
  {
   "cell_type": "markdown",
   "metadata": {
    "ein.tags": "worksheet-0",
    "slideshow": {
     "slide_type": "-"
    }
   },
   "source": [
    "This is a code test."
   ]
  },
  {
   "cell_type": "code",
   "execution_count": 1,
   "metadata": {
    "autoscroll": false,
    "collapsed": true,
    "ein.tags": "worksheet-0",
    "slideshow": {
     "slide_type": "-"
    }
   },
   "outputs": [],
   "source": [
    "import pandas as pd\n",
    "import numpy as np\n",
    "import sqlalchemy\n",
    "import psycopg2\n",
    "import datetime \n",
    "import matplotlib.pyplot as pl\n",
    "from psycopg2 import sql\n",
    "\n",
    "from sql_lib import create_conn_and_cur"
   ]
  },
  {
   "cell_type": "code",
   "execution_count": 2,
   "metadata": {
    "autoscroll": false,
    "collapsed": true,
    "ein.tags": "worksheet-0",
    "slideshow": {
     "slide_type": "-"
    }
   },
   "outputs": [],
   "source": [
    "database_name='US_ELEC'\n",
    "fname='ELEC'\n",
    "table_name=fname\n",
    "engine=sqlalchemy.create_engine(\"postgresql+psycopg2://localhost/\"+database_name)\n",
    "\n",
    "conn=psycopg2.connect(dbname=database_name,host='localhost')\n",
    "conn.set_session(autocommit=True)\n",
    "cur = conn.cursor()\n"
   ]
  },
  {
   "cell_type": "markdown",
   "metadata": {
    "ein.tags": "worksheet-0",
    "slideshow": {
     "slide_type": "-"
    }
   },
   "source": [
    "The following defines some useful functions for grabbing SQL queries, and loading the desired columns into a Pandas DataFrame."
   ]
  },
  {
   "cell_type": "code",
   "execution_count": 3,
   "metadata": {
    "autoscroll": false,
    "collapsed": true,
    "ein.tags": "worksheet-0",
    "slideshow": {
     "slide_type": "-"
    }
   },
   "outputs": [],
   "source": [
    "#make safe SQL queries, with deired list of columns in \"out_columns\".\n",
    "#Assume we are searching through name for entries with desired type of series, for particular states,\n",
    "#as well as generation type.\n",
    "def safe_sql_query(table_name,\n",
    "                   out_columns,\n",
    "                   series_type='Net generation', \n",
    "                   state='Oregon',\n",
    "                   gen_type='all',\n",
    "                   freq='M'):\n",
    "    #make up categories to match the name by. \n",
    "    query_match_list=list()\n",
    "    l1 = sql.Literal(series_type+' :%')\n",
    "    l2 = sql.Literal('%: '+state+' :%')\n",
    "    l3 = sql.Literal('%'+gen_type+'%')\n",
    "    #join together these matches with ANDs to match them all\n",
    "    like_query=sql.SQL(' AND name LIKE ').join([l1,l2,l3])\n",
    "\n",
    "    #Total SQL query to select desired columns with features \n",
    "    q1 = sql.SQL(\"SELECT {} FROM {} WHERE (name LIKE {} AND f LIKE {}) \").format(\n",
    "                sql.SQL(' ,').join(map(sql.Identifier,out_columns)),\n",
    "                sql.Identifier(table_name),\n",
    "                like_query,\n",
    "                sql.Literal(freq))\n",
    "\n",
    "    return(q1)\n",
    "\n",
    "#Get a dataframe from SQL database for given psycopg2 cursor,\n",
    "#with desired output columns.     \n",
    "#Must select data based on series type, state, and type of generation.\n",
    "def get_dataframe(cur,\n",
    "                  out_columns,\n",
    "                  table=\"ELEC\",\n",
    "                  series_type='Net Generation',\n",
    "                  state='Oregon',\n",
    "                  gen_type='solar',\n",
    "                  freq='M'):\n",
    "    q = safe_sql_query(table,out_columns,series_type,state,gen_type,freq)\n",
    "    cur.execute(q);\n",
    "    df0=cur.fetchall();\n",
    "    df = pd.DataFrame(df0,columns=out_columns);\n",
    "    return df\n"
   ]
  },
  {
   "cell_type": "code",
   "execution_count": 4,
   "metadata": {},
   "outputs": [],
   "source": [
    "# q=safe_sql_query(table_name=\"ELEC\",out_columns=('name','series_id'),gen_type='solar')\n",
    "# print(q.as_string(conn))\n",
    "# cur.execute(q)\n",
    "\n",
    "#Try to select data from fields with names such as net generation and desired state.\n",
    "#Possibly also by electricity source.  Nuclear/Solar/Wind/Gas/Coal etc.  \n",
    "\n",
    "#Useful fields: Net Generation : state : type\n",
    "#Also interesting: Average retail price of electricity.  \n",
    "#Net generation\n",
    "#Retail sales of electricity\n",
    "#Revenue\n",
    "\n",
    "#Can Identify useful tags by splitting at colons\":\"\n",
    "out_col=('name','data','start','end','f')\n",
    "df=get_dataframe(cur,out_col,series_type='Net generation',state='Oregon',gen_type='solar');\n"
   ]
  },
  {
   "cell_type": "code",
   "execution_count": 5,
   "metadata": {
    "collapsed": true
   },
   "outputs": [],
   "source": [
    "#Need to convert dates to date/time\n",
    "def make_timeindex(df):\n",
    "    #get date_time_index based on period, start and end\n",
    "    #Make a Pandas Series with DateTimeIndex.\n",
    "    #Use Start, End, with final label from geoset_id.\n",
    "    #Use Final label from Geoset_id which should have values in M,Q,A\n",
    "    interval=df['f']\n",
    "\n",
    "    if (interval=='M'):\n",
    "        start_str=df['start']\n",
    "        end_str=df['end']\n",
    "        date_format='%Y%m'\n",
    "    elif (interval=='Q'):\n",
    "        start_str=quarter_to_month(df['start'])\n",
    "        end_str=quarter_to_month(df['end'])\n",
    "        date_format='%Y%m'\n",
    "    elif (interval=='A'):\n",
    "        start_str=df['start']\n",
    "        end_str=df['end']\n",
    "        date_format='%Y'\n",
    "\n",
    "    start_date=pd.to_datetime(start_str,format=date_format)\n",
    "    end_date=pd.to_datetime(end_str,format=date_format)\n",
    "    date_indx=pd.date_range(start_date,end_date,freq=interval)\n",
    "\n",
    "    return date_indx\n",
    "\n",
    "def quarter_to_month(YearQ):\n",
    "    #assume input string is of format YYYYQn\n",
    "    #remake string with starting month\n",
    "    q_start=(int(YearQ[-1])-1)*3+1\n",
    "    #Check only Quarters1-4 allowed\n",
    "    if (q_start > 4 | q_start<0):\n",
    "        print('Quarter is outside range:'+str(q_start))\n",
    "    #convert quarterly string to starting month of that quarter\n",
    "    YearM=YearQ[0:4]+str(q_start).zfill(2) \n",
    "    return YearM\n",
    "\n",
    "#Make a list of lists, with first sublist entry as time, second sublist entry is data\n",
    "#into a pandas timeseries.    Extract the interval from the geoset ID, and use to construct \n",
    "#the Period Index.\n",
    "# def make_df_datetimeindex(series,series_start,series_stop,interval):\n",
    "#   #make empty series\n",
    "#   series2=np.asarray(eval(series));\n",
    "#   dat2=series2[:,1];\n",
    "#   s=pd.Series(dat2,index=make_timeindex(df))\n",
    "#   return s"
   ]
  },
  {
   "cell_type": "code",
   "execution_count": 23,
   "metadata": {
    "autoscroll": false,
    "collapsed": true,
    "ein.tags": "worksheet-0",
    "slideshow": {
     "slide_type": "-"
    }
   },
   "outputs": [],
   "source": [
    "#Initial readin of SQL dataframes returns 'data' as a string of a list of lists.  \n",
    "#This function goes row by row, converting that 'data' column\n",
    "#into a new series, with datetimeindex in 'data2'\n",
    "\n",
    "def convert_df(df):\n",
    "    Nrows=len(df)\n",
    "# df['data2']=pd.Series()\n",
    "    data_array=[];\n",
    "    for i in range(0,Nrows):\n",
    "        #check there's actually data there.\n",
    "        print('Making',i,'dataset')\n",
    "        #use next line since the read in dataframe has returned a string.\n",
    "        init_series=np.asarray(eval(df.loc[i,'data']))\n",
    "        dat2=init_series[:,1];\n",
    "        timeindex=make_timeindex(df.loc[i])\n",
    "        if (len(dat2) != len(timeindex)):\n",
    "            print('Unequal lengths')\n",
    "            print(len(dat2),len(timeindex))\n",
    "        else:\n",
    "            s=pd.Series(dat2,index=timeindex)\n",
    "            data_array.append(s)\n",
    "\n",
    "        return data_array\n",
    "\n",
    "    \n",
    "# Make a Period Index - really, really easy.\n",
    "#But plotting is limited with \"Periods\".  It seems only\n",
    "#\"DateTimeIndices\" allow easy combinations.  \n",
    "def convert_df_period(df):\n",
    "    Nrows=len(df)\n",
    "# df['data2']=pd.Series()\n",
    "    data_array=[];\n",
    "    for i in range(0,Nrows):\n",
    "        #check there's actually data there.\n",
    "        print('Making',i,'dataset')\n",
    "        #use next line since the read in dataframe has returned a string.\n",
    "        init_series=np.asarray(eval(df.loc[i,'data']))\n",
    "        dat2=init_series[:,1];\n",
    "        f = df.loc[i,'f']\n",
    "        periodindex=pd.PeriodIndex(init_series[:,0],freq=f)\n",
    "        s=pd.Series(dat2,index=periodindex)\n",
    "        data_array.append(s)\n",
    "\n",
    "    return data_array"
   ]
  },
  {
   "cell_type": "code",
   "execution_count": 17,
   "metadata": {
    "autoscroll": false,
    "ein.tags": "worksheet-0",
    "scrolled": true,
    "slideshow": {
     "slide_type": "-"
    }
   },
   "outputs": [],
   "source": [
    "\n",
    "s0=np.asarray(eval(df.loc[0,'data']))\n",
    "i0=pd.PeriodIndex(s0[:,0],freq=df.loc[0,'f'])"
   ]
  },
  {
   "cell_type": "code",
   "execution_count": 24,
   "metadata": {
    "autoscroll": false,
    "ein.tags": "worksheet-0",
    "slideshow": {
     "slide_type": "-"
    }
   },
   "outputs": [
    {
     "name": "stdout",
     "output_type": "stream",
     "text": [
      "Making 0 dataset\n",
      "Making 1 dataset\n",
      "Making 2 dataset\n",
      "Making 3 dataset\n",
      "Making 4 dataset\n",
      "Making 5 dataset\n",
      "Making 6 dataset\n",
      "Making 7 dataset\n",
      "Making 8 dataset\n",
      "Making 9 dataset\n",
      "Making 10 dataset\n"
     ]
    }
   ],
   "source": [
    "d0=convert_df_period(df)"
   ]
  },
  {
   "cell_type": "code",
   "execution_count": null,
   "metadata": {
    "autoscroll": false,
    "ein.tags": "worksheet-0",
    "slideshow": {
     "slide_type": "-"
    }
   },
   "outputs": [],
   "source": [
    "df.loc[0].shape"
   ]
  },
  {
   "cell_type": "code",
   "execution_count": null,
   "metadata": {
    "collapsed": true
   },
   "outputs": [],
   "source": []
  }
 ],
 "metadata": {
  "kernelspec": {
   "display_name": "Python 3",
   "language": "python",
   "name": "python3"
  },
  "language_info": {
   "codemirror_mode": {
    "name": "ipython",
    "version": 3
   },
   "file_extension": ".py",
   "mimetype": "text/x-python",
   "name": "python",
   "nbconvert_exporter": "python",
   "pygments_lexer": "ipython3",
   "version": "3.4.3"
  },
  "name": "SQLexplore.ipynb"
 },
 "nbformat": 4,
 "nbformat_minor": 2
}
