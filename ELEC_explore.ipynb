{
 "cells": [
  {
   "cell_type": "markdown",
   "metadata": {
    "ein.tags": "worksheet-0",
    "slideshow": {
     "slide_type": "-"
    }
   },
   "source": [
    "# Overview of Electricity Generation in the USA based on EIA data\n",
    "\n",
    "The following is an exercise in using data from the Electricity Information Agency (EIA),\n",
    "to familiarize myself with both the broad state of the US electrical grid, as well as some elementary data science.\n",
    "This is based on the bulk ELEC dataset, which contains monthly temporal resolution, and has plant level\n",
    "and state level summaries.  The dataset includes generation by source, fuel quality, number of customers, cost of electricity and sales.\n",
    "While the EIA offers an API for current access, but as someone new to this dataset it was simpler to start exploring from the bulk data set, which is only around 1GB. \n",
    "\n",
    "I have converted the bulk data file from (url_here) to a local SQL database.\n",
    "I used Psycopg2 for direct SQL interaction with that PostGRESQL database. \n",
    "I can then efficiently select data from that database, based on geographic region and type of generation.  (While the data should nominally fit into memory in one Pandas dataframe, I found that my computer ran out of memory before it could be loaded.) \n",
    "\n",
    "The resulting queries from SQL can then be converted into a Pandas dataframe.  Since the data is of the form\n",
    "\"[[date1,number1],[date2,number]...], as one long string, this is converted into a list, then a Numpy array.\n",
    "The first column is used to generate a Pandas PeriodIndex (which is then further converted to a DateTimeIndex for plotting reasons).  The second column is then indexed.  The resulting series is output as the elements of a list of series for the desired state, and generation type.  \n",
    "These results can then be plotted using basic Matplotlib."
   ]
  },
  {
   "cell_type": "code",
   "execution_count": 59,
   "metadata": {
    "autoscroll": false,
    "collapsed": false,
    "ein.tags": "worksheet-0",
    "slideshow": {
     "slide_type": "-"
    }
   },
   "outputs": [],
   "source": [
    "import pandas as pd\n",
    "import numpy as np\n",
    "import sqlalchemy\n",
    "import psycopg2\n",
    "import datetime \n",
    "import matplotlib.pyplot as plt\n",
    "from psycopg2 import sql\n",
    "from mpl_toolkits.basemap import Basemap  #mapping utility\n",
    "import pickle   #Useful for caching maps\n",
    "\n",
    "#from sql_lib import create_conn_and_cur"
   ]
  },
  {
   "cell_type": "markdown",
   "metadata": {
    "ein.tags": "worksheet-0",
    "slideshow": {
     "slide_type": "-"
    }
   },
   "source": [
    "The data is provided as JSON format, with lots of metadata, and connections between series.  The data was split into chunks, and loaded into SQL as text (The time series proper were also stored as a single list for each entry.)"
   ]
  },
  {
   "cell_type": "code",
   "execution_count": 2,
   "metadata": {
    "autoscroll": false,
    "collapsed": false,
    "ein.tags": "worksheet-0",
    "slideshow": {
     "slide_type": "-"
    }
   },
   "outputs": [],
   "source": [
    "#Set up connections to SQL database, which was generated from the bulk JSON file.\n",
    "database_name='US_ELEC'\n",
    "fname='ELEC'\n",
    "table_name=fname\n",
    "engine=sqlalchemy.create_engine(\"postgresql+psycopg2://localhost/\"+database_name)\n",
    "\n",
    "#make connection to database (which is needed by Pandas), \n",
    "# and the cursor which actually executes SQL commands.\n",
    "conn=psycopg2.connect(dbname=database_name,host='localhost')\n",
    "conn.set_session(autocommit=True)\n",
    "cur = conn.cursor()\n"
   ]
  },
  {
   "cell_type": "code",
   "execution_count": 19,
   "metadata": {
    "autoscroll": false,
    "collapsed": false,
    "ein.tags": "worksheet-0",
    "slideshow": {
     "slide_type": "-"
    }
   },
   "outputs": [
    {
     "data": {
      "text/plain": [
       "[(562601,)]"
      ]
     },
     "execution_count": 19,
     "metadata": {},
     "output_type": "execute_result"
    }
   ],
   "source": [
    "#count the number of series\n",
    "q=sql.SQL('SELECT count(*) FROM \"ELEC\"')\n",
    "cur.execute(q)\n",
    "cur.fetchall()"
   ]
  },
  {
   "cell_type": "code",
   "execution_count": 38,
   "metadata": {
    "autoscroll": false,
    "collapsed": false,
    "ein.tags": "worksheet-0",
    "slideshow": {
     "slide_type": "-"
    }
   },
   "outputs": [
    {
     "data": {
      "text/plain": [
       "[(None,\n",
       "  'None',\n",
       "  \"[['201610', 0], ['201609', 0], ['201608', 0], ['201607', 0], ['201606', 0], ['201605', 0], ['201604', 0], ['201603', 0], ['201602', 0], ['201601', 0], ['201512', 1418.256], ['201511', 1054.906], ['201510', 1486.568], ['201509', 2253.374], ['201508', 2768.4], ['201507', 3127.131], ['201506', 2533.656], ['201505', 2061.714], ['201504', 1615.009], ['201503', 1478.928], ['201502', 1471.735], ['201501', 1404.323], ['201412', 1324.31], ['201411', 1119.293], ['201410', 1353.77], ['201409', 1682.966], ['201408', 2552.57], ['201407', 3119.264], ['201406', 2985.718], ['201405', 2789.377], ['201404', 1913.604], ['201403', 1285.439], ['201402', 981.838], ['201401', 1097.851], ['201312', 801.46], ['201311', 896.957], ['201310', 1222.079], ['201309', 1529.527], ['201308', 2273.543], ['201307', 2763.516], ['201306', 2474.029], ['201305', 2342.961], ['201304', 1949.803], ['201303', 1546.639], ['201302', 1301.507], ['201301', 1466.979], ['201212', 2199.957], ['201211', 1702.776], ['201210', 2115.795], ['201209', 2728.147], ['201208', 3329.505], ['201207', 3672.407], ['201206', 3413.799], ['201205', 3882.572], ['201204', 2580.208], ['201203', 1673.042], ['201202', 1241.843], ['201201', 1495.949], ['201112', 984.349], ['201111', 1099.36], ['201110', 1261.775], ['201109', 1793.546], ['201108', 2235.013], ['201107', 2760.852], ['201106', 2750.043], ['201105', 2827.031], ['201104', 2545.08], ['201103', 2155.167], ['201102', 1320.283], ['201101', 1809.501], ['201012', 2367.692], ['201011', 1502.077], ['201010', 1433.848], ['201009', 1918.039], ['201008', 2554.39], ['201007', 3026.584], ['201006', 3215.881], ['201005', 2858.22], ['201004', 1871.109], ['201003', 1478.596], ['201002', 1054.362], ['201001', 969.202], ['200912', 1266.132], ['200911', 1207.032], ['200910', 1729.877], ['200909', 2178.591], ['200908', 2923.105], ['200907', 3582.061], ['200906', 3249.049], ['200905', 3590.049], ['200904', 2626.19], ['200903', 2215.549], ['200902', 1402.732], ['200901', 1059.633], ['200812', 964.666], ['200811', 888.204], ['200810', 1237.982], ['200809', 1930.251], ['200808', 3855.365], ['200807', 3756.943], ['200806', 3092.342], ['200805', 3644.331], ['200804', 3063.046], ['200803', 1626.785], ['200802', 1385.943], ['200801', 1768.142], ['200712', 1170], ['200711', 306], ['200710', 0], ['200709', 0], ['200708', 0], ['200707', 718], ['200706', 667], ['200705', 224], ['200704', 4066], ['200703', 3228], ['200702', 2063], ['200701', 1155], ['200612', 586], ['200611', 236], ['200610', 0], ['200609', 0], ['200608', 916], ['200607', 903], ['200606', 1000], ['200605', 578], ['200604', 3471], ['200603', 3547], ['200602', 1430], ['200601', 707], ['200512', 661], ['200511', 0], ['200510', 0], ['200509', 0], ['200508', 134], ['200507', 414], ['200506', 0], ['200505', 0], ['200504', 1150], ['200503', 1199], ['200502', 2737], ['200501', 1622], ['200412', 3941.946], ['200411', 3154.005], ['200410', 3522.606], ['200409', 4104.898], ['200408', 5445.347], ['200407', 6270.371], ['200406', 5977.241], ['200405', 5514.432], ['200404', 5963.768], ['200403', 6175.087], ['200402', 4349.473], ['200401', 4750.825], ['200312', 789], ['200311', 134], ['200310', 18], ['200309', 168], ['200308', 143], ['200307', 85], ['200306', 652], ['200305', 262], ['200304', 0], ['200303', 4330], ['200302', 2282], ['200301', 2880], ['200212', 274], ['200211', 417], ['200210', 0], ['200209', 259], ['200208', 223], ['200207', 900], ['200206', 807], ['200205', 145], ['200204', 4226], ['200203', 2343], ['200202', 2424], ['200201', 1606], ['200112', 2630], ['200111', 27], ['200110', 0], ['200109', 0], ['200108', 157], ['200107', 815], ['200106', 835], ['200105', 272], ['200104', 3962], ['200103', 4899], ['200102', 3638], ['200101', 2431]]\",\n",
       "  None,\n",
       "  '201610',\n",
       "  'M',\n",
       "  'USA-CA',\n",
       "  'USA-CA',\n",
       "  '2016-12-23T10:54:37-05:00',\n",
       "  '32.736642',\n",
       "  '32.736642,-114.713858',\n",
       "  '-114.713858',\n",
       "  'Net generation : Pilot Knob (388) : conventional hydroelectric : all primemovers : monthly',\n",
       "  'ELEC.PLANT.GEN.388-WAT-ALL.M',\n",
       "  'EIA, U.S. Energy Information Administration',\n",
       "  '200101',\n",
       "  'megawatthours',\n",
       "  None,\n",
       "  None,\n",
       "  None,\n",
       "  None,\n",
       "  None,\n",
       "  None,\n",
       "  None,\n",
       "  None,\n",
       "  None,\n",
       "  None,\n",
       "  None)]"
      ]
     },
     "execution_count": 38,
     "metadata": {},
     "output_type": "execute_result"
    }
   ],
   "source": [
    "#grab a single entry to look at data\n",
    "q=sql.SQL('SELECT * FROM \"ELEC\" LIMIT 1')\n",
    "cur.execute(q)\n",
    "cur.fetchall()"
   ]
  },
  {
   "cell_type": "markdown",
   "metadata": {
    "ein.tags": "worksheet-0",
    "slideshow": {
     "slide_type": "-"
    }
   },
   "source": [
    "The following defines some useful functions for grabbing SQL queries, and loading the desired columns into a Pandas DataFrame.\n",
    "Most of this is just converting python variables to SQL variables, for simple SQL queries of the form\n",
    "\"SELECT {columns} FROM table WHERE name like '{pattern}' and freq LIKE {freq}\"."
   ]
  },
  {
   "cell_type": "code",
   "execution_count": 3,
   "metadata": {
    "autoscroll": false,
    "collapsed": false,
    "ein.tags": "worksheet-0",
    "slideshow": {
     "slide_type": "-"
    }
   },
   "outputs": [],
   "source": [
    "#make SQL queries, with desired list of columns in \"out_columns\".\n",
    "#Assume we are searching through name for entries with desired type of series, for particular states,\n",
    "#as well as generation type.\n",
    "def safe_sql_query(table_name, out_columns, match_names, freq):\n",
    "    \"\"\"safe_sql_query(table_name, out_column, match_names, freq)\n",
    "    Extract a set of columns where the name matches certain critera.\n",
    "\n",
    "    Input:\n",
    "    table_name - name for table\n",
    "    out_columns - list of desired columns\n",
    "    match_names - desired patterns that the name must match.  (All joined via AND)\n",
    "    freq   - desired frequency     \n",
    "\n",
    "    Return: \n",
    "    sql query to carry out desired command.\n",
    "    \"\"\"\n",
    "\n",
    "    col_query=sql.SQL(' ,').join(map(sql.Identifier,out_columns))\n",
    "    #make up categories to match the name by.\n",
    "    namelist=[];\n",
    "    for namevar in match_names:\n",
    "        namelist.append(sql.Literal('%'+namevar+'%'))\n",
    "        #join together these matches with ANDs to match them all\n",
    "        name_query=sql.SQL(' AND name LIKE ').join(namelist)\n",
    "    #Total SQL query to select desired columns with features \n",
    "    q1 = sql.SQL(\"SELECT {0} FROM {1} WHERE (name LIKE {2} AND f LIKE {3}) \").format(\n",
    "        col_query,\n",
    "        sql.Identifier(table_name),\n",
    "        name_query,\n",
    "        sql.Literal(freq))\n",
    "    return(q1)\n",
    "\n",
    "def get_column_query(table_name, out_column):\n",
    "    \"\"\"get_column_query(table_name, out_column)\n",
    "    Return SQL query to extract 'out_column' from 'table_name'\n",
    "    \"\"\"\n",
    "    #make up categories to match the name by.\n",
    "    #Total SQL query to select desired columns with features \n",
    "    q1 = sql.SQL(\"SELECT {0} FROM {1}\").format(\n",
    "        sql.Identifier(out_column),\n",
    "        sql.Identifier(table_name))\n",
    "    return(q1)\n",
    "\n",
    "#Get a dataframe from SQL database for given psycopg2 cursor,\n",
    "#with desired output columns.     \n",
    "#Must select data based on series type, state, and type of generation.\n",
    "def get_dataframe(cur, table_name, out_columns, match_names, freq):\n",
    "    \"\"\"get_dataframe(cur, table_name, out_columns, match_names, freq)\n",
    "    Generate pandas dataframe from calling SQL database. \n",
    "    Dataframe will contain 'out_columns', in cases where the names \n",
    "    contain all of the entries in 'match_names'\n",
    "\n",
    "    Input: cur - psycopg2 cursor connected to database\n",
    "    table_name -SQL table name\n",
    "    out_columns - columns to extract from SQL\n",
    "    match_names - list of strings that the 'name' must match\n",
    "    freq      - desired frequency\n",
    "\n",
    "    Output:\n",
    "    df  - pandas Dataframe\n",
    "    \"\"\"\n",
    "    \n",
    "    q = safe_sql_query(table_name,out_columns,match_names,freq)\n",
    "    cur.execute(q);\n",
    "    df0=cur.fetchall();\n",
    "    df = pd.DataFrame(df0,columns=out_columns);\n",
    "    return df\n"
   ]
  },
  {
   "cell_type": "code",
   "execution_count": 29,
   "metadata": {
    "autoscroll": false,
    "collapsed": false,
    "ein.tags": "worksheet-0",
    "slideshow": {
     "slide_type": "-"
    }
   },
   "outputs": [],
   "source": [
    "#just use categories table, which already found the distinct\n",
    "#high level labels. \n"
   ]
  },
  {
   "cell_type": "code",
   "execution_count": 4,
   "metadata": {
    "autoscroll": false,
    "collapsed": false,
    "ein.tags": "worksheet-0",
    "slideshow": {
     "slide_type": "-"
    }
   },
   "outputs": [],
   "source": [
    "#Initial readin of SQL dataframes returns 'data' as a string of a list of lists.  \n",
    "#This function goes row by row, converting that 'data' column\n",
    "#into a new series, with datetimeindex in 'data2'\n",
    "\n",
    "# Make a Period Index - really, really easy.\n",
    "#But plotting is limited with \"Periods\".  It seems only\n",
    "#\"DateTimeIndices\" allow easy combinations.  Use to_timestamp to convert to a DatetimeIndex.\n",
    "def convert_data(df):\n",
    "    Nrows=len(df)\n",
    "    print('Nrows',Nrows)\n",
    "    data_array=[];\n",
    "    for i in range(0,Nrows):\n",
    "        #check there's actually data there.\n",
    "        #use next line since the read in dataframe has returned a string.\n",
    "        #print('Converting #',i)\n",
    "        init_series=np.asarray(eval(df.iloc[i]['data']))\n",
    "        dat2=init_series[:,1].astype(float);\n",
    "        f = df.iloc[i]['f']\n",
    "        periodindex=pd.PeriodIndex(init_series[:,0],freq=f)\n",
    "        s=pd.Series(dat2,index=periodindex)\n",
    "        data_array.append(s.to_timestamp())\n",
    "    return data_array\n"
   ]
  },
  {
   "cell_type": "markdown",
   "metadata": {
    "ein.tags": "worksheet-0",
    "slideshow": {
     "slide_type": "-"
    }
   },
   "source": [
    "## United States Seasonal Variation\n",
    "\n",
    "Let's now look at national level data for the United States as a whole."
   ]
  },
  {
   "cell_type": "code",
   "execution_count": 5,
   "metadata": {
    "autoscroll": false,
    "collapsed": false,
    "ein.tags": "worksheet-0",
    "slideshow": {
     "slide_type": "-"
    }
   },
   "outputs": [
    {
     "name": "stdout",
     "output_type": "stream",
     "text": [
      "Nrows 915\n"
     ]
    }
   ],
   "source": [
    "#grab the data from SQL.  Also converts each data string into a series (associated with each name/id)\n",
    "out_col=('name','data','start','end','f')\n",
    "match_names=[': United States :'];    \n",
    "df_usa=get_dataframe(cur,'ELEC',out_col,match_names,freq='M');\n",
    "data0=convert_data(df_usa)\n",
    "df_usa['data2']=data0"
   ]
  },
  {
   "cell_type": "markdown",
   "metadata": {
    "ein.tags": "worksheet-0",
    "slideshow": {
     "slide_type": "-"
    }
   },
   "source": [
    "First, lets look at the types of series available on a national level.  We'll find the type of series by splitting up the names, and counting the numbers of each type.  "
   ]
  },
  {
   "cell_type": "code",
   "execution_count": 6,
   "metadata": {
    "autoscroll": false,
    "collapsed": false,
    "ein.tags": "worksheet-0",
    "slideshow": {
     "slide_type": "-"
    }
   },
   "outputs": [],
   "source": [
    "#split all series names at ':', and grab first entry of resulting list to get the highest level type of series.\n",
    "name_split=df_usa['name'].str.split(':')\n",
    "name0=name_split.apply(lambda x: x[0])\n",
    "name_df=pd.DataFrame(name0,columns=['name'])\n",
    "unique_names=name0.unique()"
   ]
  },
  {
   "cell_type": "code",
   "execution_count": 7,
   "metadata": {
    "autoscroll": false,
    "collapsed": false,
    "ein.tags": "worksheet-0",
    "slideshow": {
     "slide_type": "-"
    }
   },
   "outputs": [
    {
     "name": "stdout",
     "output_type": "stream",
     "text": [
      "    count                                                                name\n",
      "0     6.0                                        Retail sales of electricity \n",
      "1   150.0                     Receipts of fossil fuels by electricity plants \n",
      "2   115.0                  Quality of fossil fuels in electricity generation \n",
      "3    18.0                      Fossil-fuel stocks for electricity generation \n",
      "4     6.0                           Revenue from retail sales of electricity \n",
      "5    75.0               Receipts of fossil fuels by electricity plants (Btu) \n",
      "6     6.0                                Average retail price of electricity \n",
      "7   196.0                                                     Net generation \n",
      "8    94.0                                                  Total consumption \n",
      "9     5.0                                        Number of customer accounts \n",
      "10  150.0            Average cost of fossil fuels for electricity generation \n",
      "11   37.0                        Consumption for useful thermal output (Btu) \n",
      "12   75.0  Average cost of fossil fuels for electricity generation (per Btu) \n",
      "13   75.0                              Consumption for useful thermal output \n",
      "14   47.0                       Consumption for electricity generation (Btu) \n",
      "15   47.0                                            Total consumption (Btu) \n",
      "16   94.0                             Consumption for electricity generation \n"
     ]
    }
   ],
   "source": [
    "#count up number of each type of series.\n",
    "counts=np.zeros(len(unique_names))\n",
    "i=0\n",
    "for name in unique_names:\n",
    "    #avoid using regex to allow parentheses\n",
    "    counts[i]=np.sum(name0.str.contains(name,regex=False))\n",
    "    i+=1\n",
    "\n",
    "name_df=pd.DataFrame(data={'name':unique_names,'count':counts})\n",
    "print(name_df)"
   ]
  },
  {
   "cell_type": "markdown",
   "metadata": {
    "ein.tags": "worksheet-0",
    "slideshow": {
     "slide_type": "-"
    }
   },
   "source": [
    "The bewildering number of series is due to the number of types of fuel, and differing types of fuels associated with each type of generation, as well as variation by sector and size of generator.  "
   ]
  },
  {
   "cell_type": "code",
   "execution_count": 149,
   "metadata": {
    "autoscroll": false,
    "collapsed": false,
    "ein.tags": "worksheet-0",
    "slideshow": {
     "slide_type": "-"
    }
   },
   "outputs": [
    {
     "data": {
      "text/plain": [
       "array([' wind ', ' coal ', ' natural gas ', ' other biomass ',\n       ' all utility-scale solar ', ' nuclear ', ' other ',\n       ' conventional hydroelectric ', ' wood and wood-derived fuels ',\n       ' other gases ', ' hydro-electric pumped storage ',\n       ' petroleum liquids ', ' utility-scale photovoltaic ',\n       ' utility-scale thermal ', ' all solar ', ' all fuels ',\n       ' petroleum coke ', ' distributed photovoltaic ', ' geothermal ',\n       ' other renewables (total) '], dtype=object)"
      ]
     },
     "execution_count": 149,
     "metadata": {},
     "output_type": "execute_result"
    }
   ],
   "source": [
    "#Find unique types of generation by further splitting\n",
    "msk=df_usa['name'].str.contains('Net generation')\n",
    "df_usa[msk]['name'].str.split(':').apply(lambda x:x[1]).unique()"
   ]
  },
  {
   "cell_type": "markdown",
   "metadata": {
    "ein.tags": "worksheet-0",
    "slideshow": {
     "slide_type": "-"
    }
   },
   "source": [
    "Lets now plot the main generators on the national level.  "
   ]
  },
  {
   "cell_type": "code",
   "execution_count": 79,
   "metadata": {
    "autoscroll": false,
    "collapsed": false,
    "ein.tags": "worksheet-0",
    "slideshow": {
     "slide_type": "-"
    }
   },
   "outputs": [],
   "source": [
    "#Plot out each of the rows of a dataframe, with the label given by the name of the row.\n",
    "def plot_data_frame(df,title,xlabel,ylabel,labels=None,logy=False):\n",
    "    if labels is None:\n",
    "        labels=df['name'].values\n",
    "    for i in range(0,len(df)):\n",
    "        if (logy==True):\n",
    "           plt.semilogy(df.iloc[i]['data2'],label=labels[i])\n",
    "        else:\n",
    "           plt.plot(df.iloc[i]['data2'],label=labels[i])           \n",
    "    plt.legend(loc='upper left',bbox_to_anchor=(1,1))\n",
    "    plt.xlabel(xlabel)\n",
    "    plt.ylabel(ylabel)        \n",
    "    plt.title(title)\n",
    "    plt.show()\n",
    "    return"
   ]
  },
  {
   "cell_type": "code",
   "execution_count": 106,
   "metadata": {
    "autoscroll": false,
    "collapsed": false,
    "ein.tags": "worksheet-0",
    "slideshow": {
     "slide_type": "-"
    }
   },
   "outputs": [],
   "source": [
    "#select out series across all sectors for each type of generation\n",
    "msk1=df_usa['name'].str.contains('Net generation')\n",
    "msk2=df_usa['name'].str.contains('all sectors')\n",
    "df_gen=df_usa[msk1&msk2]\n",
    "#now sort plotting order by which has largest values.\n",
    "df_gen_max=df_gen['data2'].apply(max)\n",
    "plt_ind=df_gen_max.sort_values(ascending=False).index\n",
    "#extract out source part of labels via regex, select first match, and convert to array\n",
    "gen_labels=df_usa.iloc[plt_ind]['name'].str.extractall('Net generation : ([\\s\\w\\(\\)-]+):')[0].values"
   ]
  },
  {
   "cell_type": "code",
   "execution_count": 54,
   "metadata": {
    "autoscroll": false,
    "collapsed": false,
    "ein.tags": "worksheet-0",
    "slideshow": {
     "slide_type": "-"
    }
   },
   "outputs": [
    {
     "data": {
      "text/plain": [
       "[('thousand megawatthours',),\n ('thousand megawatthours',),\n ('thousand megawatthours',)]"
      ]
     },
     "execution_count": 54,
     "metadata": {},
     "output_type": "execute_result"
    }
   ],
   "source": [
    "q=sql.SQL('SELECT units FROM \"ELEC\" WHERE name LIKE \\'Net generation : all fuels : United States%:%all sectors%\\'')\n",
    "cur.execute(q)\n",
    "cur.fetchall()"
   ]
  },
  {
   "cell_type": "code",
   "execution_count": 108,
   "metadata": {
    "autoscroll": false,
    "collapsed": false,
    "ein.tags": "worksheet-0",
    "slideshow": {
     "slide_type": "-"
    }
   },
   "outputs": [
    {
     "data": {
      "text/plain": [
       "<matplotlib.figure.Figure at 0x7f2c654e3b70>"
      ]
     },
     "metadata": {},
     "output_type": "display_data"
    }
   ],
   "source": [
    "plot_data_frame(df_usa.iloc[plt_ind],\n",
    "xlabel='Date',\n",
    "ylabel='Net Generation (GWh)',title='Generation Across US by source',\n",
    "labels=gen_labels)"
   ]
  },
  {
   "cell_type": "markdown",
   "metadata": {
    "ein.tags": "worksheet-0",
    "slideshow": {
     "slide_type": "-"
    }
   },
   "source": [
    "Evidently coal, natural gas and nuclear power provide the vast majority of the US's electrical supply.\n",
    "While coal use is declining, that decline is matched by an increase in the use of natural gas. \n",
    "Nuclear power is fairly stable, reflecting that there are few new nuclear plants being built.\n",
    "\n",
    "Of the renewables, wind and hydroelectric are the dominant providers.\n",
    "Hydroelectric is the largest renewable, but is largely static, reflecting the fact that most available hydro sources have already been exploited.\n",
    "Solar capacity has shown exponential growth, the supply of wind-based electricity generation has been growing over the last decade. \n",
    "\n",
    "Note that these are all monthly totals.  These do not capture the short scale fluctuations that can occur on the minute to hour timescale which can impact the usefulness of renewables, and are the primary difficulty in incorporating them into the grid.\n",
    "\n",
    "Let's look at another plot focusing on the smaller terms, on both log/linear scales."
   ]
  },
  {
   "cell_type": "code",
   "execution_count": 114,
   "metadata": {
    "autoscroll": false,
    "collapsed": false,
    "ein.tags": "worksheet-0",
    "slideshow": {
     "slide_type": "-"
    }
   },
   "outputs": [
    {
     "data": {
      "text/plain": [
       "<matplotlib.figure.Figure at 0x7f2c6526cb00>"
      ]
     },
     "metadata": {},
     "output_type": "display_data"
    },
    {
     "data": {
      "text/plain": [
       "<matplotlib.figure.Figure at 0x7f2c65646f28>"
      ]
     },
     "metadata": {},
     "output_type": "display_data"
    }
   ],
   "source": [
    "plt.figure()\n",
    "plot_data_frame(df_usa.iloc[plt_ind[5:]],\n",
    "xlabel='Date',\n",
    "ylabel='Net Generation (GWh)',title='Generation Across US by source',\n",
    "labels=gen_labels[5:],logy=False)\n",
    "plt.figure()\n",
    "plot_data_frame(df_usa.iloc[plt_ind[5:]],\n",
    "xlabel='Date',\n",
    "ylabel='Net Generation (GWh)',title='Generation Across US by source',\n",
    "labels=gen_labels[5:],logy=True)"
   ]
  },
  {
   "cell_type": "code",
   "execution_count": 122,
   "metadata": {
    "autoscroll": false,
    "collapsed": false,
    "ein.tags": "worksheet-0",
    "slideshow": {
     "slide_type": "-"
    }
   },
   "outputs": [
    {
     "data": {
      "text/plain": [
       "<matplotlib.figure.Figure at 0x7f2c65824198>"
      ]
     },
     "metadata": {},
     "output_type": "display_data"
    }
   ],
   "source": [
    "d0=df_gen[df_gen['name'].str.contains('solar|photo')]\n",
    "plot_data_frame(d0,\n",
    "xlabel='Date',\n",
    "ylabel='Net Generation (GWh)',title='Solar Generation Across US by source')\n",
    "\n",
    "#plt.plot(d0['data2'])"
   ]
  },
  {
   "cell_type": "markdown",
   "metadata": {
    "ein.tags": "worksheet-0",
    "slideshow": {
     "slide_type": "-"
    }
   },
   "source": [
    "The last decade has seen wind and solar capacity growing exponentially, with wind having a large overall contribution, while utility scale solar is growing fastest of all. Otherwise there's multiple other small sources, which have been roughly constant over the period. Petroleum liquids show a similar dropoff to coal usage.  \n",
    "\n",
    "Pumped storage is an anomaly: it's negative, and relatively constant. \n",
    "\n",
    "## Oregon's Generation\n",
    "\n",
    "Let's look at the main contributors for Oregon's electricity generation, looking "
   ]
  },
  {
   "cell_type": "code",
   "execution_count": 138,
   "metadata": {
    "autoscroll": false,
    "collapsed": false,
    "ein.tags": "worksheet-0",
    "slideshow": {
     "slide_type": "-"
    }
   },
   "outputs": [],
   "source": [
    "def plot_generation_by_state(state):\n",
    "    out_col=('name','data','start','end','f')\n",
    "    match_names=['Net generation',': '+state+' :',': all sectors :'];    \n",
    "    state_gen=get_dataframe(cur,'ELEC',out_col,match_names,freq='M');\n",
    "    data0=convert_data(state_gen)\n",
    "    state_gen['data2']=data0\n",
    "\n",
    "    state_gen_max=state_gen['data2'].apply(max)\n",
    "    plt_ind=state_gen_max.sort_values(ascending=False).index\n",
    "    #extract out source part of labels via regex, select first match, and convert to array\n",
    "    gen_labels=state_gen.iloc[plt_ind]['name'].str.extractall('Net generation : ([\\s\\w\\(\\)-]+):')[0].values\n",
    "\n",
    "    plot_data_frame(state_gen.iloc[plt_ind],\n",
    "    xlabel='Date',\n",
    "    ylabel='Net Generation (GWh)',title='Generation Across '+state+' by source',\n",
    "    labels=gen_labels,logy=False)\n",
    "  \n",
    "\n"
   ]
  },
  {
   "cell_type": "code",
   "execution_count": 121,
   "metadata": {
    "autoscroll": false,
    "collapsed": false,
    "ein.tags": "worksheet-0",
    "slideshow": {
     "slide_type": "-"
    }
   },
   "outputs": [
    {
     "name": "stdout",
     "output_type": "stream",
     "text": [
      "Nrows 1\n"
     ]
    },
    {
     "name": "stdout",
     "output_type": "stream",
     "text": [
      "Nrows 1\n",
      "Getting hydro\n"
     ]
    },
    {
     "name": "stdout",
     "output_type": "stream",
     "text": [
      "Nrows 2\n",
      "Getting wind\n"
     ]
    },
    {
     "name": "stdout",
     "output_type": "stream",
     "text": [
      "Nrows 1\n",
      "Getting solar\n"
     ]
    },
    {
     "name": "stdout",
     "output_type": "stream",
     "text": [
      "Nrows 1\n",
      "Getting natural gas\n"
     ]
    },
    {
     "name": "stdout",
     "output_type": "stream",
     "text": [
      "Nrows 0\n",
      "Getting coal\n"
     ]
    },
    {
     "name": "stdout",
     "output_type": "stream",
     "text": [
      "Getting nuclear\n"
     ]
    }
   ],
   "source": [
    "# out_col=('name','data','start','end','f')\n",
    "# OR_gen=pd.DataFrame()\n",
    "# for gen_type in ('nuclear','coal','natural gas','solar','wind','hydro'):\n",
    "#     print('Getting '+gen_type);\n",
    "#     match_names=['Net generation',': Oregon :',gen_type, ': all sectors :'];\n",
    "#     df=get_dataframe(cur,'ELEC',out_col,match_names,freq='M');\n",
    "#     data0=convert_data(df)\n",
    "#     df['data2']=data0\n",
    "#     OR_gen=OR_gen.append(df)\n",
    "# OR_gen.index=np.arange(len(OR_gen))"
   ]
  },
  {
   "cell_type": "code",
   "execution_count": 146,
   "metadata": {
    "autoscroll": false,
    "collapsed": false,
    "ein.tags": "worksheet-0",
    "slideshow": {
     "slide_type": "-"
    }
   },
   "outputs": [
    {
     "data": {
      "text/plain": [
       "<matplotlib.figure.Figure at 0x7f2c64fff0b8>"
      ]
     },
     "metadata": {},
     "output_type": "display_data"
    },
    {
     "name": "stdout",
     "output_type": "stream",
     "text": [
      "Nrows 14\n"
     ]
    }
   ],
   "source": [
    "plot_generation_by_state('Iowa')"
   ]
  },
  {
   "cell_type": "code",
   "execution_count": 137,
   "metadata": {
    "autoscroll": false,
    "collapsed": false,
    "ein.tags": "worksheet-0",
    "slideshow": {
     "slide_type": "-"
    }
   },
   "outputs": [
    {
     "data": {
      "text/plain": [
       "<matplotlib.figure.Figure at 0x7f2c6573ba90>"
      ]
     },
     "metadata": {},
     "output_type": "display_data"
    }
   ],
   "source": []
  },
  {
   "cell_type": "markdown",
   "metadata": {
    "ein.tags": "worksheet-0",
    "slideshow": {
     "slide_type": "-"
    }
   },
   "source": [
    "So hydroelectric and natural gas are the main generators, followed by wind.  There's small amount of energy provided by coal in the peak months of summer/winter.  The other sources appear to be negligible.  "
   ]
  },
  {
   "cell_type": "markdown",
   "metadata": {
    "ein.tags": "worksheet-0",
    "slideshow": {
     "slide_type": "-"
    }
   },
   "source": [
    "## Cost of Electricity\n",
    "\n",
    "The other side of this is looking at the markets: customers, sales and costs of electricity.  Generation might occur in one place, but be sold to another state.  "
   ]
  },
  {
   "cell_type": "code",
   "execution_count": 160,
   "metadata": {
    "autoscroll": false,
    "collapsed": false,
    "ein.tags": "worksheet-0",
    "slideshow": {
     "slide_type": "-"
    }
   },
   "outputs": [
    {
     "data": {
      "text/plain": [
       "array([' United States '], dtype=object)"
      ]
     },
     "execution_count": 160,
     "metadata": {},
     "output_type": "execute_result"
    }
   ],
   "source": [
    "msk=df_usa['name'].str.contains('retail')\n",
    "df_usa[msk]['name'].str.split(':').apply(lambda x:x[2]).unique()"
   ]
  },
  {
   "cell_type": "code",
   "execution_count": null,
   "metadata": {
    "autoscroll": false,
    "collapsed": false,
    "ein.tags": "worksheet-0",
    "slideshow": {
     "slide_type": "-"
    }
   },
   "outputs": [],
   "source": [
    "df_usa[msk]"
   ]
  },
  {
   "cell_type": "markdown",
   "metadata": {
    "ein.tags": "worksheet-0",
    "slideshow": {
     "slide_type": "-"
    }
   },
   "source": [
    "## Geographic variability in 2016\n",
    "\n",
    "Time to break out some Matplotlib.baseplot goodness for plots of the US.\n",
    "(This is also directly relevant to the data available from the EIA, since the US is broken into 5 major power regions,\n",
    "which then interact by buying and selling electricity from one another.)\n",
    "Using annual data, which states use the most electricity of each type?\n"
   ]
  },
  {
   "cell_type": "code",
   "execution_count": 6,
   "metadata": {
    "autoscroll": false,
    "collapsed": false,
    "ein.tags": "worksheet-0",
    "slideshow": {
     "slide_type": "-"
    }
   },
   "outputs": [
    {
     "data": {
      "image/png": "[encoded data removed]",
      "text/plain": [
       "<matplotlib.figure.Figure at 0x7efbc445a588>"
      ]
     },
     "metadata": {},
     "output_type": "display_data"
    },
    {
     "name": "stdout",
     "output_type": "stream",
     "text": [
      "Creating Fine BaseMap and storing with pickle\n"
     ]
    }
   ],
   "source": [
    "# try:\n",
    "# \t#Check if pickled(saved) Basemap instance is available - saves lots of time\n",
    "# \tm=pickle.load(open('usstates.pickle','rb'))\n",
    "# \tprint('Loading Map from pickle')\n",
    "# except:\n",
    "#if not, remake the Basemap (costs lots of time)\n",
    "plt.figure()  \n",
    "print('Creating Fine BaseMap and storing with pickle')\n",
    "m=Basemap(projection='merc',llcrnrlon=-130,llcrnrlat=25,\\\n",
    "        urcrnrlon=-65,urcrnrlat=50,resolution='l', \\\n",
    "        lon_0=-115, lat_0=35)\n",
    "m.drawstates()\n",
    "m.drawcountries()\n",
    "#pickle.dump(m,open('map.pickle','wb'),-1)\n",
    "#actually draw the map\n",
    "m.drawcoastlines()\n",
    "plt.show()\n"
   ]
  },
  {
   "cell_type": "markdown",
   "metadata": {
    "ein.tags": "worksheet-0",
    "slideshow": {
     "slide_type": "-"
    }
   },
   "source": [
    "## Near Real-time data.\n",
    "\n",
    "Now to load in some of the actual operating data (which is in a different table in the same database).\n",
    "Ok, that is not really working, since I screwed up loading the data into the database.\n"
   ]
  },
  {
   "cell_type": "code",
   "execution_count": 7,
   "metadata": {
    "autoscroll": false,
    "collapsed": false,
    "ein.tags": "worksheet-0",
    "slideshow": {
     "slide_type": "-"
    }
   },
   "outputs": [],
   "source": [
    "database_name='US_ELEC'\n",
    "fname='EBA'\n",
    "table_name=fname\n",
    "engine2=sqlalchemy.create_engine(\"postgresql+psycopg2://localhost/\"+database_name)\n",
    "#make connection to database (which is needed by Pandas), \n",
    "# and the cursor which actually executes SQL commands.\n",
    "conn2=psycopg2.connect(dbname=database_name,host='localhost')\n",
    "conn2.set_session(autocommit=True)\n",
    "cur2 = conn2.cursor()"
   ]
  },
  {
   "cell_type": "code",
   "execution_count": 35,
   "metadata": {
    "autoscroll": false,
    "collapsed": false,
    "ein.tags": "worksheet-0",
    "slideshow": {
     "slide_type": "-"
    }
   },
   "outputs": [
    {
     "name": "stdout",
     "output_type": "stream",
     "text": [
      "Getting Northwest (region):Demand\n",
      "1\n",
      "Converting # 0\n",
      "0    Demand for Northwest (region), Hourly\n",
      "Name: name, dtype: object\n",
      "Getting Southwest (region):Demand\n",
      "1\n",
      "Converting # 0\n",
      "0    Demand for Southwest (region), Hourly\n",
      "Name: name, dtype: object\n",
      "Getting Southeast (region):Demand\n",
      "1\n",
      "Converting # 0\n",
      "0    Demand for Southeast (region), Hourly\n",
      "Name: name, dtype: object\n",
      "Getting Midwest (region):Demand\n",
      "1\n",
      "Converting # 0\n",
      "0    Demand for Midwest (region), Hourly\n",
      "Name: name, dtype: object\n",
      "Getting Central (region):Demand\n",
      "1\n",
      "Converting # 0\n",
      "0    Demand for Central (region), Hourly\n",
      "Name: name, dtype: object\n",
      "Getting California (region):Demand\n",
      "1\n",
      "Converting # 0\n",
      "0    Demand for California (region), Hourly\n",
      "Name: name, dtype: object\n",
      "Getting Texas:Demand\n",
      "1\n",
      "Converting # 0\n",
      "0    Demand for Electric Reliability Council of Texas, Inc. (ERCO), Hourly\n",
      "Name: name, dtype: object\n",
      "Getting Tennessee:Demand\n",
      "1\n",
      "Converting # 0\n",
      "0    Demand for Tennessee Valley Authority (TVA), Hourly\n",
      "Name: name, dtype: object\n",
      "Getting Florida (region):Demand\n",
      "1\n",
      "Converting # 0\n",
      "0    Demand for Florida (region), Hourly\n",
      "Name: name, dtype: object\n",
      "Getting Carolinas (region):Demand\n",
      "1\n",
      "Converting # 0\n",
      "0    Demand for Carolinas (region), Hourly\n",
      "Name: name, dtype: object\n",
      "Getting New York:Demand\n",
      "1\n",
      "Converting # 0\n",
      "0    Demand for New York Independent System Operator (NYIS), Hourly\n",
      "Name: name, dtype: object\n",
      "Getting New England:Demand\n",
      "1\n",
      "Converting # 0\n",
      "0    Demand for New England ISO (ISNE), Hourly\n",
      "Name: name, dtype: object\n"
     ]
    }
   ],
   "source": [
    "def fetch_eba_series(cur2,region,series_type):\n",
    "    \"\"\"fetch_eba_series(cur2,region,series_type)\n",
    "    Call PostgreSQL server to pull up the series relating to\n",
    "    a given region and type of series.\n",
    "    \n",
    "    cur2: psycopg2 cursor object on relevant table\n",
    "    region: name of the region/ISO we want the series for\n",
    "    series_type: the type of data series for a given ISO\n",
    "    \"\"\"\n",
    "    print('Getting '+region+':'+series_type);\n",
    "    df=get_dataframe(cur2,'EBA',out_col,[region,series_type],freq='H');\n",
    "    data0=convert_data(df)\n",
    "    df['data2']=data0\n",
    "    return df\n",
    "\n",
    "#Read in some representative data.\n",
    "out_col=('name','data','start','end','f')\n",
    "df_eba_tot=pd.DataFrame()\n",
    "\n",
    "region_list=[\"Northwest (region)\",'Southwest (region)','Southeast (region)',\\\n",
    "            'Midwest (region)','Central (region)','California (region)',\\\n",
    "            'Texas','Tennessee','Florida (region)','Carolinas (region)','New York','New England'];\n",
    "series_type=['Net generation','Demand','demand forecast','retail'];\n",
    "for region in region_list:\n",
    "#     for gen_type in series_list:\n",
    "    series_type='Demand'\n",
    "    df = fetch_eba_series(cur2,region,series_type)\n",
    "    print(df['name'])\n",
    "    df_eba_tot=df_eba_tot.append(df)\n"
   ]
  },
  {
   "cell_type": "code",
   "execution_count": 46,
   "metadata": {
    "autoscroll": false,
    "collapsed": false,
    "ein.tags": "worksheet-0",
    "slideshow": {
     "slide_type": "-"
    }
   },
   "outputs": [
    {
     "data": {
      "image/png": "[encoded data removed]",
      "text/plain": [
       "<matplotlib.figure.Figure at 0x7efbba0d7518>"
      ]
     },
     "metadata": {},
     "output_type": "display_data"
    }
   ],
   "source": [
    "plot_data_frame(df_eba_tot[7:8])\n",
    "#plot_data_frame(df_eba_tot)"
   ]
  },
  {
   "cell_type": "code",
   "execution_count": 52,
   "metadata": {
    "autoscroll": false,
    "collapsed": false,
    "ein.tags": "worksheet-0",
    "slideshow": {
     "slide_type": "-"
    }
   },
   "outputs": [
    {
     "ename": "ValueError",
     "evalue": "setting an array element with a sequence.",
     "output_type": "error",
     "traceback": [
      "\u001b[0;31m---------------------------------------------------------------------------\u001b[0m",
      "\u001b[0;31mValueError\u001b[0m                                Traceback (most recent call last)",
      "\u001b[0;32m<ipython-input-52-6388b9343775>\u001b[0m in \u001b[0;36m<module>\u001b[0;34m()\u001b[0m\n\u001b[1;32m      1\u001b[0m \u001b[0md0\u001b[0m\u001b[0;34m=\u001b[0m\u001b[0mdf_eba_tot\u001b[0m\u001b[0;34m[\u001b[0m\u001b[0;36m7\u001b[0m\u001b[0;34m:\u001b[0m\u001b[0;36m8\u001b[0m\u001b[0;34m]\u001b[0m\u001b[0;34m[\u001b[0m\u001b[0;34m'data2'\u001b[0m\u001b[0;34m]\u001b[0m\u001b[0;34m\u001b[0m\u001b[0m\n\u001b[0;32m----> 2\u001b[0;31m \u001b[0mnp\u001b[0m\u001b[0;34m.\u001b[0m\u001b[0margmax\u001b[0m\u001b[0;34m(\u001b[0m\u001b[0md0\u001b[0m\u001b[0;34m)\u001b[0m\u001b[0;34m\u001b[0m\u001b[0m\n\u001b[0m",
      "\u001b[0;32m/home/jonathan/anaconda3/lib/python3.6/site-packages/numpy/core/fromnumeric.py\u001b[0m in \u001b[0;36margmax\u001b[0;34m(a, axis, out)\u001b[0m\n\u001b[1;32m    961\u001b[0m \u001b[0;34m\u001b[0m\u001b[0m\n\u001b[1;32m    962\u001b[0m     \"\"\"\n\u001b[0;32m--> 963\u001b[0;31m     \u001b[0;32mreturn\u001b[0m \u001b[0m_wrapfunc\u001b[0m\u001b[0;34m(\u001b[0m\u001b[0ma\u001b[0m\u001b[0;34m,\u001b[0m \u001b[0;34m'argmax'\u001b[0m\u001b[0;34m,\u001b[0m \u001b[0maxis\u001b[0m\u001b[0;34m=\u001b[0m\u001b[0maxis\u001b[0m\u001b[0;34m,\u001b[0m \u001b[0mout\u001b[0m\u001b[0;34m=\u001b[0m\u001b[0mout\u001b[0m\u001b[0;34m)\u001b[0m\u001b[0;34m\u001b[0m\u001b[0m\n\u001b[0m\u001b[1;32m    964\u001b[0m \u001b[0;34m\u001b[0m\u001b[0m\n\u001b[1;32m    965\u001b[0m \u001b[0;34m\u001b[0m\u001b[0m\n",
      "\u001b[0;32m/home/jonathan/anaconda3/lib/python3.6/site-packages/numpy/core/fromnumeric.py\u001b[0m in \u001b[0;36m_wrapfunc\u001b[0;34m(obj, method, *args, **kwds)\u001b[0m\n\u001b[1;32m     55\u001b[0m \u001b[0;32mdef\u001b[0m \u001b[0m_wrapfunc\u001b[0m\u001b[0;34m(\u001b[0m\u001b[0mobj\u001b[0m\u001b[0;34m,\u001b[0m \u001b[0mmethod\u001b[0m\u001b[0;34m,\u001b[0m \u001b[0;34m*\u001b[0m\u001b[0margs\u001b[0m\u001b[0;34m,\u001b[0m \u001b[0;34m**\u001b[0m\u001b[0mkwds\u001b[0m\u001b[0;34m)\u001b[0m\u001b[0;34m:\u001b[0m\u001b[0;34m\u001b[0m\u001b[0m\n\u001b[1;32m     56\u001b[0m     \u001b[0;32mtry\u001b[0m\u001b[0;34m:\u001b[0m\u001b[0;34m\u001b[0m\u001b[0m\n\u001b[0;32m---> 57\u001b[0;31m         \u001b[0;32mreturn\u001b[0m \u001b[0mgetattr\u001b[0m\u001b[0;34m(\u001b[0m\u001b[0mobj\u001b[0m\u001b[0;34m,\u001b[0m \u001b[0mmethod\u001b[0m\u001b[0;34m)\u001b[0m\u001b[0;34m(\u001b[0m\u001b[0;34m*\u001b[0m\u001b[0margs\u001b[0m\u001b[0;34m,\u001b[0m \u001b[0;34m**\u001b[0m\u001b[0mkwds\u001b[0m\u001b[0;34m)\u001b[0m\u001b[0;34m\u001b[0m\u001b[0m\n\u001b[0m\u001b[1;32m     58\u001b[0m \u001b[0;34m\u001b[0m\u001b[0m\n\u001b[1;32m     59\u001b[0m     \u001b[0;31m# An AttributeError occurs if the object does not have\u001b[0m\u001b[0;34m\u001b[0m\u001b[0;34m\u001b[0m\u001b[0m\n",
      "\u001b[0;32m/home/jonathan/anaconda3/lib/python3.6/site-packages/pandas/core/series.py\u001b[0m in \u001b[0;36midxmax\u001b[0;34m(self, axis, skipna, *args, **kwargs)\u001b[0m\n\u001b[1;32m   1262\u001b[0m         \"\"\"\n\u001b[1;32m   1263\u001b[0m         \u001b[0mskipna\u001b[0m \u001b[0;34m=\u001b[0m \u001b[0mnv\u001b[0m\u001b[0;34m.\u001b[0m\u001b[0mvalidate_argmax_with_skipna\u001b[0m\u001b[0;34m(\u001b[0m\u001b[0mskipna\u001b[0m\u001b[0;34m,\u001b[0m \u001b[0margs\u001b[0m\u001b[0;34m,\u001b[0m \u001b[0mkwargs\u001b[0m\u001b[0;34m)\u001b[0m\u001b[0;34m\u001b[0m\u001b[0m\n\u001b[0;32m-> 1264\u001b[0;31m         \u001b[0mi\u001b[0m \u001b[0;34m=\u001b[0m \u001b[0mnanops\u001b[0m\u001b[0;34m.\u001b[0m\u001b[0mnanargmax\u001b[0m\u001b[0;34m(\u001b[0m\u001b[0m_values_from_object\u001b[0m\u001b[0;34m(\u001b[0m\u001b[0mself\u001b[0m\u001b[0;34m)\u001b[0m\u001b[0;34m,\u001b[0m \u001b[0mskipna\u001b[0m\u001b[0;34m=\u001b[0m\u001b[0mskipna\u001b[0m\u001b[0;34m)\u001b[0m\u001b[0;34m\u001b[0m\u001b[0m\n\u001b[0m\u001b[1;32m   1265\u001b[0m         \u001b[0;32mif\u001b[0m \u001b[0mi\u001b[0m \u001b[0;34m==\u001b[0m \u001b[0;34m-\u001b[0m\u001b[0;36m1\u001b[0m\u001b[0;34m:\u001b[0m\u001b[0;34m\u001b[0m\u001b[0m\n\u001b[1;32m   1266\u001b[0m             \u001b[0;32mreturn\u001b[0m \u001b[0mnp\u001b[0m\u001b[0;34m.\u001b[0m\u001b[0mnan\u001b[0m\u001b[0;34m\u001b[0m\u001b[0m\n",
      "\u001b[0;32m/home/jonathan/anaconda3/lib/python3.6/site-packages/pandas/core/nanops.py\u001b[0m in \u001b[0;36mnanargmax\u001b[0;34m(values, axis, skipna)\u001b[0m\n\u001b[1;32m    476\u001b[0m     \"\"\"\n\u001b[1;32m    477\u001b[0m     values, mask, dtype, _ = _get_values(values, skipna, fill_value_typ='-inf',\n\u001b[0;32m--> 478\u001b[0;31m                                          isfinite=True)\n\u001b[0m\u001b[1;32m    479\u001b[0m     \u001b[0mresult\u001b[0m \u001b[0;34m=\u001b[0m \u001b[0mvalues\u001b[0m\u001b[0;34m.\u001b[0m\u001b[0margmax\u001b[0m\u001b[0;34m(\u001b[0m\u001b[0maxis\u001b[0m\u001b[0;34m)\u001b[0m\u001b[0;34m\u001b[0m\u001b[0m\n\u001b[1;32m    480\u001b[0m     \u001b[0mresult\u001b[0m \u001b[0;34m=\u001b[0m \u001b[0m_maybe_arg_null_out\u001b[0m\u001b[0;34m(\u001b[0m\u001b[0mresult\u001b[0m\u001b[0;34m,\u001b[0m \u001b[0maxis\u001b[0m\u001b[0;34m,\u001b[0m \u001b[0mmask\u001b[0m\u001b[0;34m,\u001b[0m \u001b[0mskipna\u001b[0m\u001b[0;34m)\u001b[0m\u001b[0;34m\u001b[0m\u001b[0m\n",
      "\u001b[0;32m/home/jonathan/anaconda3/lib/python3.6/site-packages/pandas/core/nanops.py\u001b[0m in \u001b[0;36m_get_values\u001b[0;34m(values, skipna, fill_value, fill_value_typ, isfinite, copy)\u001b[0m\n\u001b[1;32m    194\u001b[0m     \u001b[0mvalues\u001b[0m \u001b[0;34m=\u001b[0m \u001b[0m_values_from_object\u001b[0m\u001b[0;34m(\u001b[0m\u001b[0mvalues\u001b[0m\u001b[0;34m)\u001b[0m\u001b[0;34m\u001b[0m\u001b[0m\n\u001b[1;32m    195\u001b[0m     \u001b[0;32mif\u001b[0m \u001b[0misfinite\u001b[0m\u001b[0;34m:\u001b[0m\u001b[0;34m\u001b[0m\u001b[0m\n\u001b[0;32m--> 196\u001b[0;31m         \u001b[0mmask\u001b[0m \u001b[0;34m=\u001b[0m \u001b[0m_isfinite\u001b[0m\u001b[0;34m(\u001b[0m\u001b[0mvalues\u001b[0m\u001b[0;34m)\u001b[0m\u001b[0;34m\u001b[0m\u001b[0m\n\u001b[0m\u001b[1;32m    197\u001b[0m     \u001b[0;32melse\u001b[0m\u001b[0;34m:\u001b[0m\u001b[0;34m\u001b[0m\u001b[0m\n\u001b[1;32m    198\u001b[0m         \u001b[0mmask\u001b[0m \u001b[0;34m=\u001b[0m \u001b[0misnull\u001b[0m\u001b[0;34m(\u001b[0m\u001b[0mvalues\u001b[0m\u001b[0;34m)\u001b[0m\u001b[0;34m\u001b[0m\u001b[0m\n",
      "\u001b[0;32m/home/jonathan/anaconda3/lib/python3.6/site-packages/pandas/core/nanops.py\u001b[0m in \u001b[0;36m_isfinite\u001b[0;34m(values)\u001b[0m\n\u001b[1;32m    237\u001b[0m             is_integer_dtype(values) or is_bool_dtype(values)):\n\u001b[1;32m    238\u001b[0m         \u001b[0;32mreturn\u001b[0m \u001b[0;34m~\u001b[0m\u001b[0mnp\u001b[0m\u001b[0;34m.\u001b[0m\u001b[0misfinite\u001b[0m\u001b[0;34m(\u001b[0m\u001b[0mvalues\u001b[0m\u001b[0;34m)\u001b[0m\u001b[0;34m\u001b[0m\u001b[0m\n\u001b[0;32m--> 239\u001b[0;31m     \u001b[0;32mreturn\u001b[0m \u001b[0;34m~\u001b[0m\u001b[0mnp\u001b[0m\u001b[0;34m.\u001b[0m\u001b[0misfinite\u001b[0m\u001b[0;34m(\u001b[0m\u001b[0mvalues\u001b[0m\u001b[0;34m.\u001b[0m\u001b[0mastype\u001b[0m\u001b[0;34m(\u001b[0m\u001b[0;34m'float64'\u001b[0m\u001b[0;34m)\u001b[0m\u001b[0;34m)\u001b[0m\u001b[0;34m\u001b[0m\u001b[0m\n\u001b[0m\u001b[1;32m    240\u001b[0m \u001b[0;34m\u001b[0m\u001b[0m\n\u001b[1;32m    241\u001b[0m \u001b[0;34m\u001b[0m\u001b[0m\n",
      "\u001b[0;31mValueError\u001b[0m: setting an array element with a sequence."
     ]
    }
   ],
   "source": [
    "d0=df_eba_tot[7:8]['data2']\n",
    "np.argmax(d0)"
   ]
  },
  {
   "cell_type": "code",
   "execution_count": 34,
   "metadata": {
    "autoscroll": false,
    "collapsed": false,
    "ein.tags": "worksheet-0",
    "slideshow": {
     "slide_type": "-"
    }
   },
   "outputs": [
    {
     "ename": "KeyError",
     "evalue": "'data2'",
     "output_type": "error",
     "traceback": [
      "\u001b[0;31m---------------------------------------------------------------------------\u001b[0m",
      "\u001b[0;31mTypeError\u001b[0m                                 Traceback (most recent call last)",
      "\u001b[0;32m/home/jonathan/anaconda3/lib/python3.6/site-packages/pandas/core/indexes/base.py\u001b[0m in \u001b[0;36mget_value\u001b[0;34m(self, series, key)\u001b[0m\n\u001b[1;32m   2482\u001b[0m             \u001b[0;32mtry\u001b[0m\u001b[0;34m:\u001b[0m\u001b[0;34m\u001b[0m\u001b[0m\n\u001b[0;32m-> 2483\u001b[0;31m                 \u001b[0;32mreturn\u001b[0m \u001b[0mlibts\u001b[0m\u001b[0;34m.\u001b[0m\u001b[0mget_value_box\u001b[0m\u001b[0;34m(\u001b[0m\u001b[0ms\u001b[0m\u001b[0;34m,\u001b[0m \u001b[0mkey\u001b[0m\u001b[0;34m)\u001b[0m\u001b[0;34m\u001b[0m\u001b[0m\n\u001b[0m\u001b[1;32m   2484\u001b[0m             \u001b[0;32mexcept\u001b[0m \u001b[0mIndexError\u001b[0m\u001b[0;34m:\u001b[0m\u001b[0;34m\u001b[0m\u001b[0m\n",
      "\u001b[0;32mpandas/_libs/tslib.pyx\u001b[0m in \u001b[0;36mpandas._libs.tslib.get_value_box (pandas/_libs/tslib.c:18843)\u001b[0;34m()\u001b[0m\n",
      "\u001b[0;32mpandas/_libs/tslib.pyx\u001b[0m in \u001b[0;36mpandas._libs.tslib.get_value_box (pandas/_libs/tslib.c:18477)\u001b[0;34m()\u001b[0m\n",
      "\u001b[0;31mTypeError\u001b[0m: 'str' object cannot be interpreted as an integer",
      "\nDuring handling of the above exception, another exception occurred:\n",
      "\u001b[0;31mKeyError\u001b[0m                                  Traceback (most recent call last)",
      "\u001b[0;32m<ipython-input-34-1cde11497d6f>\u001b[0m in \u001b[0;36m<module>\u001b[0;34m()\u001b[0m\n\u001b[1;32m      1\u001b[0m \u001b[0mi0\u001b[0m\u001b[0;34m=\u001b[0m\u001b[0;36m0\u001b[0m\u001b[0;34m\u001b[0m\u001b[0m\n\u001b[0;32m----> 2\u001b[0;31m \u001b[0md0\u001b[0m\u001b[0;34m=\u001b[0m\u001b[0mdf_eba_tot\u001b[0m\u001b[0;34m.\u001b[0m\u001b[0miloc\u001b[0m\u001b[0;34m[\u001b[0m\u001b[0mi0\u001b[0m\u001b[0;34m*\u001b[0m\u001b[0;36m3\u001b[0m\u001b[0;34m]\u001b[0m\u001b[0;34m[\u001b[0m\u001b[0;34m'data2'\u001b[0m\u001b[0;34m]\u001b[0m\u001b[0;34m;\u001b[0m  \u001b[0;31m#Generation\u001b[0m\u001b[0;34m\u001b[0m\u001b[0m\n\u001b[0m\u001b[1;32m      3\u001b[0m \u001b[0md1\u001b[0m\u001b[0;34m=\u001b[0m\u001b[0mdf_eba_tot\u001b[0m\u001b[0;34m.\u001b[0m\u001b[0miloc\u001b[0m\u001b[0;34m[\u001b[0m\u001b[0mi0\u001b[0m\u001b[0;34m*\u001b[0m\u001b[0;36m3\u001b[0m\u001b[0;34m+\u001b[0m\u001b[0;36m1\u001b[0m\u001b[0;34m]\u001b[0m\u001b[0;34m[\u001b[0m\u001b[0;34m'data2'\u001b[0m\u001b[0;34m]\u001b[0m\u001b[0;34m;\u001b[0m  \u001b[0;31m#Actual Demand\u001b[0m\u001b[0;34m\u001b[0m\u001b[0m\n\u001b[1;32m      4\u001b[0m \u001b[0md2\u001b[0m\u001b[0;34m=\u001b[0m\u001b[0mdf_eba_tot\u001b[0m\u001b[0;34m.\u001b[0m\u001b[0miloc\u001b[0m\u001b[0;34m[\u001b[0m\u001b[0mi0\u001b[0m\u001b[0;34m*\u001b[0m\u001b[0;36m3\u001b[0m\u001b[0;34m+\u001b[0m\u001b[0;36m2\u001b[0m\u001b[0;34m]\u001b[0m\u001b[0;34m[\u001b[0m\u001b[0;34m'data2'\u001b[0m\u001b[0;34m]\u001b[0m\u001b[0;34m;\u001b[0m  \u001b[0;31m#Day ahead demand forecast\u001b[0m\u001b[0;34m\u001b[0m\u001b[0m\n",
      "\u001b[0;32m/home/jonathan/anaconda3/lib/python3.6/site-packages/pandas/core/series.py\u001b[0m in \u001b[0;36m__getitem__\u001b[0;34m(self, key)\u001b[0m\n\u001b[1;32m    599\u001b[0m         \u001b[0mkey\u001b[0m \u001b[0;34m=\u001b[0m \u001b[0mcom\u001b[0m\u001b[0;34m.\u001b[0m\u001b[0m_apply_if_callable\u001b[0m\u001b[0;34m(\u001b[0m\u001b[0mkey\u001b[0m\u001b[0;34m,\u001b[0m \u001b[0mself\u001b[0m\u001b[0;34m)\u001b[0m\u001b[0;34m\u001b[0m\u001b[0m\n\u001b[1;32m    600\u001b[0m         \u001b[0;32mtry\u001b[0m\u001b[0;34m:\u001b[0m\u001b[0;34m\u001b[0m\u001b[0m\n\u001b[0;32m--> 601\u001b[0;31m             \u001b[0mresult\u001b[0m \u001b[0;34m=\u001b[0m \u001b[0mself\u001b[0m\u001b[0;34m.\u001b[0m\u001b[0mindex\u001b[0m\u001b[0;34m.\u001b[0m\u001b[0mget_value\u001b[0m\u001b[0;34m(\u001b[0m\u001b[0mself\u001b[0m\u001b[0;34m,\u001b[0m \u001b[0mkey\u001b[0m\u001b[0;34m)\u001b[0m\u001b[0;34m\u001b[0m\u001b[0m\n\u001b[0m\u001b[1;32m    602\u001b[0m \u001b[0;34m\u001b[0m\u001b[0m\n\u001b[1;32m    603\u001b[0m             \u001b[0;32mif\u001b[0m \u001b[0;32mnot\u001b[0m \u001b[0mis_scalar\u001b[0m\u001b[0;34m(\u001b[0m\u001b[0mresult\u001b[0m\u001b[0;34m)\u001b[0m\u001b[0;34m:\u001b[0m\u001b[0;34m\u001b[0m\u001b[0m\n",
      "\u001b[0;32m/home/jonathan/anaconda3/lib/python3.6/site-packages/pandas/core/indexes/base.py\u001b[0m in \u001b[0;36mget_value\u001b[0;34m(self, series, key)\u001b[0m\n\u001b[1;32m   2489\u001b[0m                     \u001b[0;32mraise\u001b[0m \u001b[0mInvalidIndexError\u001b[0m\u001b[0;34m(\u001b[0m\u001b[0mkey\u001b[0m\u001b[0;34m)\u001b[0m\u001b[0;34m\u001b[0m\u001b[0m\n\u001b[1;32m   2490\u001b[0m                 \u001b[0;32melse\u001b[0m\u001b[0;34m:\u001b[0m\u001b[0;34m\u001b[0m\u001b[0m\n\u001b[0;32m-> 2491\u001b[0;31m                     \u001b[0;32mraise\u001b[0m \u001b[0me1\u001b[0m\u001b[0;34m\u001b[0m\u001b[0m\n\u001b[0m\u001b[1;32m   2492\u001b[0m             \u001b[0;32mexcept\u001b[0m \u001b[0mException\u001b[0m\u001b[0;34m:\u001b[0m  \u001b[0;31m# pragma: no cover\u001b[0m\u001b[0;34m\u001b[0m\u001b[0m\n\u001b[1;32m   2493\u001b[0m                 \u001b[0;32mraise\u001b[0m \u001b[0me1\u001b[0m\u001b[0;34m\u001b[0m\u001b[0m\n",
      "\u001b[0;32m/home/jonathan/anaconda3/lib/python3.6/site-packages/pandas/core/indexes/base.py\u001b[0m in \u001b[0;36mget_value\u001b[0;34m(self, series, key)\u001b[0m\n\u001b[1;32m   2475\u001b[0m         \u001b[0;32mtry\u001b[0m\u001b[0;34m:\u001b[0m\u001b[0;34m\u001b[0m\u001b[0m\n\u001b[1;32m   2476\u001b[0m             return self._engine.get_value(s, k,\n\u001b[0;32m-> 2477\u001b[0;31m                                           tz=getattr(series.dtype, 'tz', None))\n\u001b[0m\u001b[1;32m   2478\u001b[0m         \u001b[0;32mexcept\u001b[0m \u001b[0mKeyError\u001b[0m \u001b[0;32mas\u001b[0m \u001b[0me1\u001b[0m\u001b[0;34m:\u001b[0m\u001b[0;34m\u001b[0m\u001b[0m\n\u001b[1;32m   2479\u001b[0m             \u001b[0;32mif\u001b[0m \u001b[0mlen\u001b[0m\u001b[0;34m(\u001b[0m\u001b[0mself\u001b[0m\u001b[0;34m)\u001b[0m \u001b[0;34m>\u001b[0m \u001b[0;36m0\u001b[0m \u001b[0;32mand\u001b[0m \u001b[0mself\u001b[0m\u001b[0;34m.\u001b[0m\u001b[0minferred_type\u001b[0m \u001b[0;32min\u001b[0m \u001b[0;34m[\u001b[0m\u001b[0;34m'integer'\u001b[0m\u001b[0;34m,\u001b[0m \u001b[0;34m'boolean'\u001b[0m\u001b[0;34m]\u001b[0m\u001b[0;34m:\u001b[0m\u001b[0;34m\u001b[0m\u001b[0m\n",
      "\u001b[0;32mpandas/_libs/index.pyx\u001b[0m in \u001b[0;36mpandas._libs.index.IndexEngine.get_value\u001b[0;34m()\u001b[0m\n",
      "\u001b[0;32mpandas/_libs/index.pyx\u001b[0m in \u001b[0;36mpandas._libs.index.IndexEngine.get_value\u001b[0;34m()\u001b[0m\n",
      "\u001b[0;32mpandas/_libs/index.pyx\u001b[0m in \u001b[0;36mpandas._libs.index.IndexEngine.get_loc\u001b[0;34m()\u001b[0m\n",
      "\u001b[0;32mpandas/_libs/hashtable_class_helper.pxi\u001b[0m in \u001b[0;36mpandas._libs.hashtable.PyObjectHashTable.get_item\u001b[0;34m()\u001b[0m\n",
      "\u001b[0;32mpandas/_libs/hashtable_class_helper.pxi\u001b[0m in \u001b[0;36mpandas._libs.hashtable.PyObjectHashTable.get_item\u001b[0;34m()\u001b[0m\n",
      "\u001b[0;31mKeyError\u001b[0m: 'data2'"
     ]
    }
   ],
   "source": [
    "i0=0\n",
    "d0=df_eba_tot.iloc[i0*3]['data2'];  #Generation\n",
    "d1=df_eba_tot.iloc[i0*3+1]['data2'];  #Actual Demand\n",
    "d2=df_eba_tot.iloc[i0*3+2]['data2'];  #Day ahead demand forecast"
   ]
  },
  {
   "cell_type": "code",
   "execution_count": 33,
   "metadata": {
    "autoscroll": false,
    "collapsed": false,
    "ein.tags": "worksheet-0",
    "slideshow": {
     "slide_type": "-"
    }
   },
   "outputs": [
    {
     "data": {
      "image/png": "[encoded data removed]",
      "text/plain": [
       "<matplotlib.figure.Figure at 0x7f273c175128>"
      ]
     },
     "metadata": {},
     "output_type": "display_data"
    }
   ],
   "source": [
    "#check for weird points.  This plot is fore the region of maximum discrepency between the forecast and actual demand.\n",
    "t0=np.argmax(abs(d2-d1))\n",
    "delta=pd.Timedelta(2,'D');\n",
    "t1 = t0-delta;\n",
    "t2= t0+delta;\n",
    "trange=pd.DatetimeIndex(start=t1,end=t2,freq='H')\n",
    "plt.plot(trange,d1[trange],'-x',label='Demand')\n",
    "plt.plot(trange,d2[trange],'-x',label='Forecast')\n",
    "plt.plot(trange,d0[trange],'-x',label='Generation')\n",
    "plt.legend(loc='upper left',bbox_to_anchor=(1,1))\n",
    "plt.show()\n"
   ]
  },
  {
   "cell_type": "code",
   "execution_count": null,
   "metadata": {
    "autoscroll": false,
    "collapsed": false,
    "ein.tags": "worksheet-0",
    "slideshow": {
     "slide_type": "-"
    }
   },
   "outputs": [],
   "source": [
    "So that wasn't an error, but a real spike in demand.  Obviously the generation made up the difference."
   ]
  },
  {
   "cell_type": "code",
   "execution_count": 34,
   "metadata": {
    "autoscroll": false,
    "collapsed": false,
    "ein.tags": "worksheet-0",
    "slideshow": {
     "slide_type": "-"
    }
   },
   "outputs": [
    {
     "data": {
      "image/png": "[encoded data removed]",
      "text/plain": [
       "<matplotlib.figure.Figure at 0x7f274278e8d0>"
      ]
     },
     "metadata": {},
     "output_type": "display_data"
    }
   ],
   "source": [
    "\n",
    "plt.plot(1-d2/d1)\n",
    "plt.show()"
   ]
  },
  {
   "cell_type": "markdown",
   "metadata": {
    "ein.tags": "worksheet-0",
    "slideshow": {
     "slide_type": "-"
    }
   },
   "source": [
    "Finally (months after I first wanted to do this), we can start looking at some data.  \n",
    "I would like to review the sources of electricity to get a sense of seasonal variations (in terms of availability and use).  For example, I'd expect solar generation to be largest in summer, lowest in winter.  \n",
    "I would assume this varies geographically.  I'll assume the seasonality can be averaged over by using the annual data. \n",
    "\n",
    "Residential Use will be largest in winter, barring the occasional fluctuation in summer.  \n",
    "\n",
    "The purpose of this survey is to identify the scale of renewables in the market.  \n",
    "How large a share do renewables (solar, hydro, wind) take up?  How does this vary regionally?  Over time? \n",
    "Who are the primary users of electricity?  \n",
    "I'll assume the base load is provided by coal, gas and nuclear plants.  \n"
   ]
  },
  {
   "cell_type": "markdown",
   "metadata": {
    "ein.tags": "worksheet-0",
    "slideshow": {
     "slide_type": "-"
    }
   },
   "source": [
    "Ultimately however, I intend to try my hand at some machine learning projects relevant to electricity.  \n",
    "The first project involves demand forecasting.  The other place where data science (and nifty math) may have a role in this, is on the market.  While I am comfortable with stochastic calculus etc, I would need to learn about options pricing\n",
    "and the relevant techniques for this sector of the energy market.\n",
    "\n",
    "This is meant to be a brief background piece for that.  Since we are forecasting a time series,\n",
    "I aim to use TensorFlow with some form of neural network (perhaps recurrent) to try forecasting.\n",
    "Ideally, I would cross-reference the electricity data sets against the published weather forecasts for a given day.  \n",
    "The model should be able to predict demand given the location, time of year, and weather forecast.  (This is probably the \n",
    "simplest thing available)\n",
    "\n",
    "From a smart-grid perspective, how can randomly fluctuating sources, such as solar and wind, be included \n",
    "in supplying power to the grid?  "
   ]
  },
  {
   "cell_type": "markdown",
   "metadata": {
    "ein.tags": "worksheet-0",
    "slideshow": {
     "slide_type": "-"
    }
   },
   "source": []
  }
 ],
 "metadata": {
  "kernelspec": {
   "display_name": "Python 3",
   "name": "python3"
  },
  "language_info": {
   "codemirror_mode": {
    "name": "ipython",
    "version": 3
   },
   "file_extension": ".py",
   "mimetype": "text/x-python",
   "name": "python",
   "nbconvert_exporter": "python",
   "pygments_lexer": "ipython3",
   "version": "3.6.3"
  },
  "name": "ELEC_explore.ipynb"
 },
 "nbformat": 4,
 "nbformat_minor": 2
}
